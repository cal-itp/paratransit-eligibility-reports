{
 "cells": [
  {
   "cell_type": "markdown",
   "metadata": {},
   "source": [
    "# SCO data cleanup\n",
    "\n",
    "[raw data](https://bythenumbers.sco.ca.gov/Raw-Data/Transit-Operators-Raw-Data-for-Fiscal-Years-2017-2/6dj3-r4jw)"
   ]
  },
  {
   "cell_type": "code",
   "execution_count": 3,
   "metadata": {},
   "outputs": [
    {
     "data": {
      "text/plain": [
       "Index(['Entity Name', 'Fiscal Year', 'Entity ID',\n",
       "       'Total Passengers — Annual_Motor Bus',\n",
       "       'Total Passengers — Annual_Heavy Rail',\n",
       "       'Total Passengers — Annual_Light Rail',\n",
       "       'Total Passengers — Annual_Trolley Bus',\n",
       "       'Total Passengers — Annual_Ferry Boat',\n",
       "       'Weekdays_Motor Bus_Actual Vehicle Revenue Hours — Annual',\n",
       "       'Weekdays_Heavy Rail_Actual Vehicle Revenue Hours — Annual',\n",
       "       ...\n",
       "       'Saturday_Other Transportation Mode (Specify)_Vehicles in Operation — Weekly',\n",
       "       'Sunday_Demand Response Vehicles_Vehicles in Operation — Weekly',\n",
       "       'Sunday_Vanpool_Vehicles in Operation — Weekly',\n",
       "       'Sunday_Other Transportation Mode (Specify)_Vehicles in Operation — Weekly',\n",
       "       'Total Employees — Public and Contract_Demand Response Vehicles',\n",
       "       'Total Employees — Public and Contract_Vanpool',\n",
       "       'Total Employees — Public and Contract_Other Transportation Mode (Specify)',\n",
       "       'Date Service Began Operations (MM/DD/YYYY)_Demand Response Vehicles',\n",
       "       'Date Service Began Operations (MM/DD/YYYY)_Vanpool',\n",
       "       'Date Service Began Operations (MM/DD/YYYY)_Other Transportation Mode (Specify)'],\n",
       "      dtype='object', length=107)"
      ]
     },
     "execution_count": 3,
     "metadata": {},
     "output_type": "execute_result"
    }
   ],
   "source": [
    "import pandas as pd \n",
    "df = pd.read_excel('./data/TO_EachDataSet_FY2017-2019_20200716_V1.xlsx',\n",
    "              sheet_name='TO_OPERATING_DATA')\n",
    "df.columns"
   ]
  },
  {
   "cell_type": "markdown",
   "metadata": {},
   "source": [
    "In order to establish a list of paratransit, we filter based on demand responsive hours served to start, leading to 328 agencies"
   ]
  },
  {
   "cell_type": "code",
   "execution_count": 10,
   "metadata": {},
   "outputs": [],
   "source": [
    "has_demand_resp = df[df['Weekdays_Demand Response Vehicles_Actual Vehicle Revenue Hours — Annual'].notnull()]"
   ]
  },
  {
   "cell_type": "code",
   "execution_count": 16,
   "metadata": {},
   "outputs": [],
   "source": [
    "has_demand_resp['Entity Name'].to_csv('intermediate/mills_official.csv')"
   ]
  },
  {
   "cell_type": "code",
   "execution_count": null,
   "metadata": {},
   "outputs": [],
   "source": []
  }
 ],
 "metadata": {
  "kernelspec": {
   "display_name": "Python 3",
   "language": "python",
   "name": "python3"
  },
  "language_info": {
   "codemirror_mode": {
    "name": "ipython",
    "version": 3
   },
   "file_extension": ".py",
   "mimetype": "text/x-python",
   "name": "python",
   "nbconvert_exporter": "python",
   "pygments_lexer": "ipython3",
   "version": "3.7.9"
  }
 },
 "nbformat": 4,
 "nbformat_minor": 4
}
