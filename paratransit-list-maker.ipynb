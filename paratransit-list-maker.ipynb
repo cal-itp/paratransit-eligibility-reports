{
 "cells": [
  {
   "cell_type": "markdown",
   "metadata": {},
   "source": [
    "# Making a List of all the paratransit Agencies in the state \n",
    "\n",
    "per bill requirements, we need to make a list of all paratransit agencies in the state and include everyone who gets mills-alquish-deddeh act funding. \n",
    "\n",
    "## Sources\n",
    "* Trillium / Cal ITP List of Transit Agencies \n",
    "* Blackcat Dump \n",
    "* [State Controller Website](https://www.sco.ca.gov/ard_payments_transit.html)"
   ]
  },
  {
   "cell_type": "code",
   "execution_count": 10,
   "metadata": {},
   "outputs": [],
   "source": [
    "import pandas as pd \n",
    "import json\n",
    "import sqlalchemy"
   ]
  },
  {
   "cell_type": "markdown",
   "metadata": {},
   "source": [
    "## Parsing Blackcat"
   ]
  },
  {
   "cell_type": "code",
   "execution_count": 11,
   "metadata": {},
   "outputs": [],
   "source": [
    "with open('./data/blackcat_dump_may_1.json','r') as d:\n",
    "    data = json.load(d)"
   ]
  },
  {
   "cell_type": "markdown",
   "metadata": {},
   "source": [
    "the data structure is a list of tables, each with a JSON object w/ tbl name and rows as a key\n",
    "\n",
    "Let's parse this into a series of pandas dataframes in a diction w/ the table name as keys"
   ]
  },
  {
   "cell_type": "code",
   "execution_count": 13,
   "metadata": {},
   "outputs": [
    {
     "name": "stdout",
     "output_type": "stream",
     "text": [
      "There are no columns in BudgetExpense\n",
      "There are no columns in BudgetExpenseComments\n",
      "There are no columns in BudgetExpenseReports\n",
      "There are no columns in data_Admendment_View\n",
      "There are no columns in data_BudgetItemsTotals\n",
      "There are no columns in data_BudgetItemsTotals_Report\n",
      "There are no columns in data_BudgetItems_Report\n",
      "There are no columns in data_Budget_Reporting_ServiceData\n",
      "There are no columns in data_Certification\n",
      "There are no columns in data_Comment\n",
      "There are no columns in data_ContractPaymentRequest\n",
      "There are no columns in data_ContractPaymentRequest_Allocation\n",
      "There are no columns in data_ContractPaymentRequest_AllocationDistrobution\n",
      "There are no columns in data_ContractPaymentRequest_CodeStrip\n",
      "There are no columns in data_ContractPaymentRequest_CodeStripInvoice\n",
      "There are no columns in data_ContractPaymentRequest_Documents\n",
      "There are no columns in data_ContractReport5307\n",
      "There are no columns in data_ContractReports\n",
      "There are no columns in data_ContractReportsOTPPP\n",
      "There are no columns in data_Contracts_Amendment\n",
      "There are no columns in data_Contracts_Award\n",
      "There are no columns in data_Contracts_Documents\n",
      "There are no columns in data_Contracts_Extension\n",
      "There are no columns in data_Contracts_Info\n",
      "There are no columns in data_Contract_Amendments\n",
      "There are no columns in data_CountyDistrict\n",
      "There are no columns in data_Disposition_Facilities\n",
      "There are no columns in data_DynamicFields\n",
      "There are no columns in data_Entity_Groups\n",
      "There are no columns in data_Entity_Property_Groups\n",
      "There are no columns in data_ExpenseCategories\n",
      "There are no columns in data_ExpenseSections\n",
      "There are no columns in data_Finding\n",
      "There are no columns in data_FindingHistory\n",
      "There are no columns in data_FindingHistoryDueDate\n",
      "There are no columns in data_GrantApplicationConfigs\n",
      "There are no columns in data_InventoryRemovalQueue\n",
      "There are no columns in data_Invoices\n",
      "There are no columns in data_OrganizationProjectPlans\n",
      "There are no columns in data_PaymentRequest_SubmssionHistory\n",
      "There are no columns in data_ReportExpenseLineItems\n",
      "There are no columns in data_ReportExpenseProjectSummaries\n",
      "There are no columns in data_RequestLog\n",
      "There are no columns in data_Scorecard_5307\n",
      "There are no columns in data_Scorecard_5311\n",
      "There are no columns in data_Scorecard_5311v2\n",
      "There are no columns in data_Scorecard_A\n",
      "There are no columns in data_Scorecard_OTPPP\n",
      "There are no columns in data_VehicleDespositionActivity\n",
      "There are no columns in data_VehicleDispositions\n",
      "There are no columns in data_vehicles\n",
      "There are no columns in data_Veh_Maintenance\n",
      "There are no columns in data_Veh_Maintenance_LineItem\n",
      "There are no columns in extension_AgencyBudgets\n",
      "There are no columns in extension_data_Grants_Distribution_AgencyAmounts\n",
      "There are no columns in extension_data_JPATrackings\n",
      "There are no columns in extension_data_JPATrackings_Extension\n",
      "There are no columns in extension_data_PopRequests\n",
      "There are no columns in extension_data_ReviewSetup\n",
      "There are no columns in extension_data_TIP\n",
      "There are no columns in extension_data_TIP_Projects\n",
      "There are no columns in extension_data_TIP_Review\n",
      "There are no columns in extension_data_UserScoreCard\n",
      "There are no columns in extension_data_Wpo_JPA_Checklist\n",
      "There are no columns in extension_data_Wpo_JPA_Checklist_Review\n",
      "There are no columns in extension_link_CIP_Project\n",
      "There are no columns in extension_NTDAnnualReports_BasicContacts\n",
      "There are no columns in InventoryEquipment_Import\n",
      "There are no columns in InventoryFacility\n",
      "There are no columns in InventoryPNR\n",
      "There are no columns in InventoryRail\n",
      "There are no columns in InventoryVehicles_Import_2\n",
      "There are no columns in LINE_ITEMS\n",
      "There are no columns in LINE_ITEM_TYPES\n",
      "There are no columns in link_Contract_Amendments\n",
      "There are no columns in link_Contract_ProjectRequest\n",
      "There are no columns in Link_DistrictReps\n",
      "There are no columns in link_DynamicField_Options\n",
      "There are no columns in link_EntityDescendents\n",
      "There are no columns in link_Finding_Comment\n",
      "There are no columns in link_OrganizationContactType\n",
      "There are no columns in link_OrganizationPlannedProjects\n",
      "There are no columns in link_Program_Application\n",
      "There are no columns in link_ProjectVehicleMaintenance\n",
      "There are no columns in link_Review_User_Opportunity\n",
      "There are no columns in link_User_DashboardControl\n",
      "There are no columns in MPOs\n",
      "There are no columns in OrganizationAdditionalContacts\n",
      "There are no columns in OrganizationConversion\n",
      "There are no columns in OrganizationCTD\n",
      "There are no columns in OrganizationFundingSources\n",
      "There are no columns in Organization_Info_Import\n",
      "There are no columns in pl_ActivityLogType\n",
      "There are no columns in pl_AmendmentStatus\n",
      "There are no columns in pl_ContractType\n",
      "There are no columns in pl_ContractTypes\n",
      "There are no columns in pl_DistrictCounties\n",
      "There are no columns in pl_InventoryVehicle_LiftType\n",
      "There are no columns in pl_InventoryVehicle_RampType\n",
      "There are no columns in pl_LiftType\n",
      "There are no columns in pl_PerformanceMeasuresPeriods\n",
      "There are no columns in pl_PerformanceMeasuresPeriodTypes\n",
      "There are no columns in pl_PicklistTypes\n",
      "There are no columns in pl_RampType\n",
      "There are no columns in Process_Workflow\n",
      "There are no columns in Reporting_5310Ridership_DataElements\n",
      "There are no columns in Reporting_5310Ridership_DataValues\n",
      "There are no columns in Reporting_Budgets\n",
      "There are no columns in Reporting_Budget_TaskLines\n",
      "There are no columns in Reporting_DBE_FuelVendors\n",
      "There are no columns in Reporting_DBE_InsuranceVendors\n",
      "There are no columns in Reporting_DBE_MaintenanceVendors\n",
      "There are no columns in Reporting_DBE_StorageVendors\n",
      "There are no columns in VehicleOrgLink\n"
     ]
    }
   ],
   "source": [
    "dfs_dict = {}\n",
    "for table in data['Tables']:\n",
    "    tbl_name = table['Name']\n",
    "    try:\n",
    "        col_list = [k['Column'] for k in table['Rows'][0]['Columns']]\n",
    "    except IndexError:\n",
    "        print(f\"There are no columns in {tbl_name}\")\n",
    "    rows = []\n",
    "    for row in table['Rows']:\n",
    "        values = [d['Value'] for d in row['Columns']]\n",
    "        rows.append(values)\n",
    "    dfs_dict[tbl_name] = pd.DataFrame(rows, columns=col_list)\n"
   ]
  },
  {
   "cell_type": "code",
   "execution_count": 14,
   "metadata": {},
   "outputs": [
    {
     "name": "stdout",
     "output_type": "stream",
     "text": [
      "The total number of parsed tables is 375\n"
     ]
    }
   ],
   "source": [
    "print(f\"The total number of parsed tables is {len(dfs_dict)}\")"
   ]
  },
  {
   "cell_type": "code",
   "execution_count": 15,
   "metadata": {},
   "outputs": [],
   "source": [
    "from sqlalchemy import create_engine\n",
    "engine = create_engine('sqlite:///./data/blackcat.sqlite')"
   ]
  },
  {
   "cell_type": "code",
   "execution_count": 16,
   "metadata": {},
   "outputs": [
    {
     "data": {
      "text/plain": [
       "{None}"
      ]
     },
     "execution_count": 16,
     "metadata": {},
     "output_type": "execute_result"
    }
   ],
   "source": [
    "{v.to_sql(k, con=engine) for k,v in dfs_dict.items()}"
   ]
  },
  {
   "cell_type": "code",
   "execution_count": null,
   "metadata": {},
   "outputs": [],
   "source": []
  }
 ],
 "metadata": {
  "kernelspec": {
   "display_name": "Python 3",
   "language": "python",
   "name": "python3"
  },
  "language_info": {
   "codemirror_mode": {
    "name": "ipython",
    "version": 3
   },
   "file_extension": ".py",
   "mimetype": "text/x-python",
   "name": "python",
   "nbconvert_exporter": "python",
   "pygments_lexer": "ipython3",
   "version": "3.7.9"
  }
 },
 "nbformat": 4,
 "nbformat_minor": 4
}
