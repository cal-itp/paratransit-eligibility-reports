{
 "cells": [
  {
   "cell_type": "markdown",
   "metadata": {},
   "source": [
    "# Blackcat list of Assets \n",
    "\n",
    "Request from Gillian\n",
    "\n",
    "*    Any spreadsheets or databases with asset or equipment/vehicle inventories so we have an idea of what data may be available on assets."
   ]
  },
  {
   "cell_type": "code",
   "execution_count": 8,
   "metadata": {},
   "outputs": [],
   "source": [
    "import pandas as pd\n",
    "import sqlite3\n",
    "data_dir = './final/asset_management_dump'"
   ]
  },
  {
   "cell_type": "code",
   "execution_count": 6,
   "metadata": {},
   "outputs": [],
   "source": [
    "con=sqlite3.connect(\"./data/blackcat.sqlite\")\n",
    "\n"
   ]
  },
  {
   "cell_type": "code",
   "execution_count": 10,
   "metadata": {},
   "outputs": [],
   "source": [
    "def write_table(tblname):\n",
    "    data=pd.read_sql_query(f\"SELECT * FROM {tblname}\",con)\n",
    "    data.to_csv(f\"{data_dir}/{tblname}.csv\", index=False)"
   ]
  },
  {
   "cell_type": "code",
   "execution_count": 14,
   "metadata": {},
   "outputs": [],
   "source": [
    "tables = [\n",
    "    \"data_Inventory_Equipment\",\n",
    "    \"data_FTA_LineItem_Codes\",\n",
    "    \"data_FundSources\",\n",
    "    \"data_Inventory_Vehicles\",\n",
    "    \"data_LaborUnions\",\n",
    "    \"data_OrganizationRidership_Vehicle\",\n",
    "    \"data_ProjectHistory\",\n",
    "    \"data_Projects\",\n",
    "    \"data_ServiceInfo_SelectedModes\",\n",
    "    \"data_VehicleThresholds\",\n",
    "    \"extension_data_Grants\",\n",
    "    \"data_Disposition_Vehicles\"\n",
    "]"
   ]
  },
  {
   "cell_type": "code",
   "execution_count": 15,
   "metadata": {},
   "outputs": [
    {
     "data": {
      "text/plain": [
       "[None, None, None, None, None, None, None, None, None, None, None, None]"
      ]
     },
     "execution_count": 15,
     "metadata": {},
     "output_type": "execute_result"
    }
   ],
   "source": [
    "[write_table(table) for table in tables]"
   ]
  },
  {
   "cell_type": "code",
   "execution_count": null,
   "metadata": {},
   "outputs": [],
   "source": []
  }
 ],
 "metadata": {
  "kernelspec": {
   "display_name": "Python 3",
   "language": "python",
   "name": "python3"
  },
  "language_info": {
   "codemirror_mode": {
    "name": "ipython",
    "version": 3
   },
   "file_extension": ".py",
   "mimetype": "text/x-python",
   "name": "python",
   "nbconvert_exporter": "python",
   "pygments_lexer": "ipython3",
   "version": "3.7.9"
  }
 },
 "nbformat": 4,
 "nbformat_minor": 4
}
