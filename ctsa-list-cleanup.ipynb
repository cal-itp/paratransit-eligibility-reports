{
 "cells": [
  {
   "cell_type": "code",
   "execution_count": 1,
   "metadata": {},
   "outputs": [],
   "source": [
    "import pandas as pd "
   ]
  },
  {
   "cell_type": "code",
   "execution_count": 8,
   "metadata": {},
   "outputs": [
    {
     "name": "stdout",
     "output_type": "stream",
     "text": [
      "Object `dropna` not found.\n"
     ]
    }
   ],
   "source": [
    "pd.read_excel('./data/Copy of CTSA Contact List (002).xlsx', header=[1]).dropna?"
   ]
  },
  {
   "cell_type": "code",
   "execution_count": 13,
   "metadata": {},
   "outputs": [],
   "source": [
    "df= pd.read_excel('./data/Copy of CTSA Contact List (002).xlsx', header=[1]).dropna(subset=['AGENCY ADDRESS'])"
   ]
  },
  {
   "cell_type": "code",
   "execution_count": 14,
   "metadata": {},
   "outputs": [
    {
     "data": {
      "text/html": [
       "<div>\n",
       "<style scoped>\n",
       "    .dataframe tbody tr th:only-of-type {\n",
       "        vertical-align: middle;\n",
       "    }\n",
       "\n",
       "    .dataframe tbody tr th {\n",
       "        vertical-align: top;\n",
       "    }\n",
       "\n",
       "    .dataframe thead th {\n",
       "        text-align: right;\n",
       "    }\n",
       "</style>\n",
       "<table border=\"1\" class=\"dataframe\">\n",
       "  <thead>\n",
       "    <tr style=\"text-align: right;\">\n",
       "      <th></th>\n",
       "      <th>AGENCY NAME</th>\n",
       "      <th>AGENCY ADDRESS</th>\n",
       "      <th>PHONE</th>\n",
       "      <th>COUNTY</th>\n",
       "      <th>CALTRANS DIST</th>\n",
       "      <th>CONTACT</th>\n",
       "      <th>TITLE</th>\n",
       "      <th>EMAIL</th>\n",
       "    </tr>\n",
       "  </thead>\n",
       "  <tbody>\n",
       "    <tr>\n",
       "      <th>1</th>\n",
       "      <td>Alpine County</td>\n",
       "      <td>50 Diamond Valley Road\\nMarkleeville, CA 96120</td>\n",
       "      <td>(530) 694-1361</td>\n",
       "      <td>Alpine</td>\n",
       "      <td>10.0</td>\n",
       "      <td>Brian Peters</td>\n",
       "      <td>Community Development\\nDirector</td>\n",
       "      <td>bpeters@alpinecountyca.gov</td>\n",
       "    </tr>\n",
       "    <tr>\n",
       "      <th>3</th>\n",
       "      <td>Amador Transit</td>\n",
       "      <td>11400 American Legion Drive\\nJackson, CA 95642</td>\n",
       "      <td>(209) 267-9395</td>\n",
       "      <td>Amador</td>\n",
       "      <td>10.0</td>\n",
       "      <td>Maggie Amarant</td>\n",
       "      <td>General Manager</td>\n",
       "      <td>maggie@amadortransit.com</td>\n",
       "    </tr>\n",
       "    <tr>\n",
       "      <th>5</th>\n",
       "      <td>Butte County</td>\n",
       "      <td>7 County Center Drive\\nOroville, CA 95965</td>\n",
       "      <td>(530) 538-7681</td>\n",
       "      <td>Butte</td>\n",
       "      <td>3.0</td>\n",
       "      <td>Mike Crump</td>\n",
       "      <td>NaN</td>\n",
       "      <td>mcrump@buttecounty.net</td>\n",
       "    </tr>\n",
       "    <tr>\n",
       "      <th>7</th>\n",
       "      <td>Colusa County Transit Agency</td>\n",
       "      <td>1215 Market Street\\nColusa, CA 95932</td>\n",
       "      <td>(530) 458-0466</td>\n",
       "      <td>Colusa</td>\n",
       "      <td>3.0</td>\n",
       "      <td>Jon Wrysinski</td>\n",
       "      <td>NaN</td>\n",
       "      <td>jwrysinski@ccdpw.com</td>\n",
       "    </tr>\n",
       "    <tr>\n",
       "      <th>9</th>\n",
       "      <td>Sutter Coast Hospital</td>\n",
       "      <td>800 East Washington Blvd.\\nCresent City, CA 95531</td>\n",
       "      <td>(707) 464-8686</td>\n",
       "      <td>Del Norte</td>\n",
       "      <td>1.0</td>\n",
       "      <td>Carlos W. Priestley</td>\n",
       "      <td>Hospital Administrator</td>\n",
       "      <td>PriestCW@sutterhealth.rog</td>\n",
       "    </tr>\n",
       "  </tbody>\n",
       "</table>\n",
       "</div>"
      ],
      "text/plain": [
       "                    AGENCY NAME  \\\n",
       "1                 Alpine County   \n",
       "3                Amador Transit   \n",
       "5                  Butte County   \n",
       "7  Colusa County Transit Agency   \n",
       "9         Sutter Coast Hospital   \n",
       "\n",
       "                                      AGENCY ADDRESS           PHONE  \\\n",
       "1     50 Diamond Valley Road\\nMarkleeville, CA 96120  (530) 694-1361   \n",
       "3     11400 American Legion Drive\\nJackson, CA 95642  (209) 267-9395   \n",
       "5          7 County Center Drive\\nOroville, CA 95965  (530) 538-7681   \n",
       "7               1215 Market Street\\nColusa, CA 95932  (530) 458-0466   \n",
       "9  800 East Washington Blvd.\\nCresent City, CA 95531  (707) 464-8686   \n",
       "\n",
       "      COUNTY  CALTRANS DIST              CONTACT  \\\n",
       "1    Alpine            10.0         Brian Peters   \n",
       "3     Amador           10.0       Maggie Amarant   \n",
       "5      Butte            3.0           Mike Crump   \n",
       "7     Colusa            3.0        Jon Wrysinski   \n",
       "9  Del Norte            1.0  Carlos W. Priestley   \n",
       "\n",
       "                             TITLE                       EMAIL  \n",
       "1  Community Development\\nDirector  bpeters@alpinecountyca.gov  \n",
       "3                  General Manager   maggie@amadortransit.com   \n",
       "5                              NaN      mcrump@buttecounty.net  \n",
       "7                              NaN        jwrysinski@ccdpw.com  \n",
       "9           Hospital Administrator   PriestCW@sutterhealth.rog  "
      ]
     },
     "execution_count": 14,
     "metadata": {},
     "output_type": "execute_result"
    }
   ],
   "source": [
    "df.head()"
   ]
  },
  {
   "cell_type": "code",
   "execution_count": 17,
   "metadata": {},
   "outputs": [],
   "source": [
    "df.to_csv('intermediate/processes_ctsa.csv', index=False)"
   ]
  },
  {
   "cell_type": "code",
   "execution_count": null,
   "metadata": {},
   "outputs": [],
   "source": []
  }
 ],
 "metadata": {
  "kernelspec": {
   "display_name": "Python 3",
   "language": "python",
   "name": "python3"
  },
  "language_info": {
   "codemirror_mode": {
    "name": "ipython",
    "version": 3
   },
   "file_extension": ".py",
   "mimetype": "text/x-python",
   "name": "python",
   "nbconvert_exporter": "python",
   "pygments_lexer": "ipython3",
   "version": "3.7.9"
  }
 },
 "nbformat": 4,
 "nbformat_minor": 4
}
