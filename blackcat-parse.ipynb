{
 "cells": [
  {
   "cell_type": "code",
   "execution_count": 1,
   "metadata": {},
   "outputs": [],
   "source": [
    "import pandas as pd \n",
    "import json\n",
    "import sqlalchemy"
   ]
  },
  {
   "cell_type": "markdown",
   "metadata": {},
   "source": [
    "\n",
    "the data structure is a list of tables, each with a JSON object w/ tbl name and rows as a key\n",
    "\n",
    "Let's parse this into a series of pandas dataframes in a diction w/ the table name as keys\n"
   ]
  },
  {
   "cell_type": "code",
   "execution_count": 5,
   "metadata": {},
   "outputs": [],
   "source": [
    "with open('./data/blackcat_dump_may_1.json','r') as d:\n",
    "    data = json.load(d)"
   ]
  },
  {
   "cell_type": "code",
   "execution_count": 6,
   "metadata": {},
   "outputs": [
    {
     "name": "stdout",
     "output_type": "stream",
     "text": [
      "There are no columns in BudgetExpense\n",
      "There are no columns in BudgetExpenseComments\n",
      "There are no columns in BudgetExpenseReports\n",
      "There are no columns in data_Admendment_View\n",
      "There are no columns in data_BudgetItemsTotals\n",
      "There are no columns in data_BudgetItemsTotals_Report\n",
      "There are no columns in data_BudgetItems_Report\n",
      "There are no columns in data_Budget_Reporting_ServiceData\n",
      "There are no columns in data_Certification\n",
      "There are no columns in data_Comment\n",
      "There are no columns in data_ContractPaymentRequest\n",
      "There are no columns in data_ContractPaymentRequest_Allocation\n",
      "There are no columns in data_ContractPaymentRequest_AllocationDistrobution\n",
      "There are no columns in data_ContractPaymentRequest_CodeStrip\n",
      "There are no columns in data_ContractPaymentRequest_CodeStripInvoice\n",
      "There are no columns in data_ContractPaymentRequest_Documents\n",
      "There are no columns in data_ContractReport5307\n",
      "There are no columns in data_ContractReports\n",
      "There are no columns in data_ContractReportsOTPPP\n",
      "There are no columns in data_Contracts_Amendment\n",
      "There are no columns in data_Contracts_Award\n",
      "There are no columns in data_Contracts_Documents\n",
      "There are no columns in data_Contracts_Extension\n",
      "There are no columns in data_Contracts_Info\n",
      "There are no columns in data_Contract_Amendments\n",
      "There are no columns in data_CountyDistrict\n",
      "There are no columns in data_Disposition_Facilities\n",
      "There are no columns in data_DynamicFields\n",
      "There are no columns in data_Entity_Groups\n",
      "There are no columns in data_Entity_Property_Groups\n",
      "There are no columns in data_ExpenseCategories\n",
      "There are no columns in data_ExpenseSections\n",
      "There are no columns in data_Finding\n",
      "There are no columns in data_FindingHistory\n",
      "There are no columns in data_FindingHistoryDueDate\n",
      "There are no columns in data_GrantApplicationConfigs\n",
      "There are no columns in data_InventoryRemovalQueue\n",
      "There are no columns in data_Invoices\n",
      "There are no columns in data_OrganizationProjectPlans\n",
      "There are no columns in data_PaymentRequest_SubmssionHistory\n",
      "There are no columns in data_ReportExpenseLineItems\n",
      "There are no columns in data_ReportExpenseProjectSummaries\n",
      "There are no columns in data_RequestLog\n",
      "There are no columns in data_Scorecard_5307\n",
      "There are no columns in data_Scorecard_5311\n",
      "There are no columns in data_Scorecard_5311v2\n",
      "There are no columns in data_Scorecard_A\n",
      "There are no columns in data_Scorecard_OTPPP\n",
      "There are no columns in data_VehicleDespositionActivity\n",
      "There are no columns in data_VehicleDispositions\n",
      "There are no columns in data_vehicles\n",
      "There are no columns in data_Veh_Maintenance\n",
      "There are no columns in data_Veh_Maintenance_LineItem\n",
      "There are no columns in extension_AgencyBudgets\n",
      "There are no columns in extension_data_Grants_Distribution_AgencyAmounts\n",
      "There are no columns in extension_data_JPATrackings\n",
      "There are no columns in extension_data_JPATrackings_Extension\n",
      "There are no columns in extension_data_PopRequests\n",
      "There are no columns in extension_data_ReviewSetup\n",
      "There are no columns in extension_data_TIP\n",
      "There are no columns in extension_data_TIP_Projects\n",
      "There are no columns in extension_data_TIP_Review\n",
      "There are no columns in extension_data_UserScoreCard\n",
      "There are no columns in extension_data_Wpo_JPA_Checklist\n",
      "There are no columns in extension_data_Wpo_JPA_Checklist_Review\n",
      "There are no columns in extension_link_CIP_Project\n",
      "There are no columns in extension_NTDAnnualReports_BasicContacts\n",
      "There are no columns in InventoryEquipment_Import\n",
      "There are no columns in InventoryFacility\n",
      "There are no columns in InventoryPNR\n",
      "There are no columns in InventoryRail\n",
      "There are no columns in InventoryVehicles_Import_2\n",
      "There are no columns in LINE_ITEMS\n",
      "There are no columns in LINE_ITEM_TYPES\n",
      "There are no columns in link_Contract_Amendments\n",
      "There are no columns in link_Contract_ProjectRequest\n",
      "There are no columns in Link_DistrictReps\n",
      "There are no columns in link_DynamicField_Options\n",
      "There are no columns in link_EntityDescendents\n",
      "There are no columns in link_Finding_Comment\n",
      "There are no columns in link_OrganizationContactType\n",
      "There are no columns in link_OrganizationPlannedProjects\n",
      "There are no columns in link_Program_Application\n",
      "There are no columns in link_ProjectVehicleMaintenance\n",
      "There are no columns in link_Review_User_Opportunity\n",
      "There are no columns in link_User_DashboardControl\n",
      "There are no columns in MPOs\n",
      "There are no columns in OrganizationAdditionalContacts\n",
      "There are no columns in OrganizationConversion\n",
      "There are no columns in OrganizationCTD\n",
      "There are no columns in OrganizationFundingSources\n",
      "There are no columns in Organization_Info_Import\n",
      "There are no columns in pl_ActivityLogType\n",
      "There are no columns in pl_AmendmentStatus\n",
      "There are no columns in pl_ContractType\n",
      "There are no columns in pl_ContractTypes\n",
      "There are no columns in pl_DistrictCounties\n",
      "There are no columns in pl_InventoryVehicle_LiftType\n",
      "There are no columns in pl_InventoryVehicle_RampType\n",
      "There are no columns in pl_LiftType\n",
      "There are no columns in pl_PerformanceMeasuresPeriods\n",
      "There are no columns in pl_PerformanceMeasuresPeriodTypes\n",
      "There are no columns in pl_PicklistTypes\n",
      "There are no columns in pl_RampType\n",
      "There are no columns in Process_Workflow\n",
      "There are no columns in Reporting_5310Ridership_DataElements\n",
      "There are no columns in Reporting_5310Ridership_DataValues\n",
      "There are no columns in Reporting_Budgets\n",
      "There are no columns in Reporting_Budget_TaskLines\n",
      "There are no columns in Reporting_DBE_FuelVendors\n",
      "There are no columns in Reporting_DBE_InsuranceVendors\n",
      "There are no columns in Reporting_DBE_MaintenanceVendors\n",
      "There are no columns in Reporting_DBE_StorageVendors\n",
      "There are no columns in VehicleOrgLink\n"
     ]
    }
   ],
   "source": [
    "dfs_dict = {}\n",
    "for table in data['Tables']:\n",
    "    tbl_name = table['Name']\n",
    "    try:\n",
    "        col_list = [k['Column'] for k in table['Rows'][0]['Columns']]\n",
    "    except IndexError:\n",
    "        print(f\"There are no columns in {tbl_name}\")\n",
    "    rows = []\n",
    "    for row in table['Rows']:\n",
    "        values = [d['Value'] for d in row['Columns']]\n",
    "        rows.append(values)\n",
    "    dfs_dict[tbl_name] = pd.DataFrame(rows, columns=col_list)"
   ]
  },
  {
   "cell_type": "code",
   "execution_count": 7,
   "metadata": {},
   "outputs": [
    {
     "name": "stdout",
     "output_type": "stream",
     "text": [
      "The total number of parsed tables is 375\n"
     ]
    }
   ],
   "source": [
    "print(f\"The total number of parsed tables is {len(dfs_dict)}\")"
   ]
  },
  {
   "cell_type": "code",
   "execution_count": 8,
   "metadata": {},
   "outputs": [],
   "source": [
    "from sqlalchemy import create_engine\n",
    "engine = create_engine('sqlite:///./data/blackcat.sqlite')"
   ]
  },
  {
   "cell_type": "code",
   "execution_count": 12,
   "metadata": {},
   "outputs": [
    {
     "data": {
      "text/plain": [
       "{None}"
      ]
     },
     "execution_count": 12,
     "metadata": {},
     "output_type": "execute_result"
    }
   ],
   "source": [
    "# dump to SQLlite\n",
    "import os\n",
    "if os.path.exists('./data/blackcat.sqlite'):\n",
    "    os.remove('./data/blackcat.sqlite')\n",
    "{v.to_sql(k, con=engine) for k,v in dfs_dict.items()}"
   ]
  },
  {
   "cell_type": "code",
   "execution_count": 13,
   "metadata": {},
   "outputs": [
    {
     "data": {
      "text/plain": [
       "'ALI'"
      ]
     },
     "metadata": {},
     "output_type": "display_data"
    },
    {
     "data": {
      "text/plain": [
       "Index(['ALI', 'Code', 'Description', 'id'], dtype='object')"
      ]
     },
     "metadata": {},
     "output_type": "display_data"
    },
    {
     "data": {
      "text/plain": [
       "'ALIGroup'"
      ]
     },
     "metadata": {},
     "output_type": "display_data"
    },
    {
     "data": {
      "text/plain": [
       "Index(['ALI Group', 'Code', 'Description'], dtype='object')"
      ]
     },
     "metadata": {},
     "output_type": "display_data"
    },
    {
     "data": {
      "text/plain": [
       "'BudgetCategories'"
      ]
     },
     "metadata": {},
     "output_type": "display_data"
    },
    {
     "data": {
      "text/plain": [
       "Index(['CategoryId', 'ProfileId', 'CategoryType', 'Name', 'Sequence',\n",
       "       'Description', 'HelpText', 'Sys_ModifiedUserID'],\n",
       "      dtype='object')"
      ]
     },
     "metadata": {},
     "output_type": "display_data"
    },
    {
     "data": {
      "text/plain": [
       "'BudgetCategoryLines'"
      ]
     },
     "metadata": {},
     "output_type": "display_data"
    },
    {
     "data": {
      "text/plain": [
       "Index(['LineId', 'CategoryId', 'Name', 'Sequence', 'Description', 'HelpText',\n",
       "       'Sys_ModifiedUserID'],\n",
       "      dtype='object')"
      ]
     },
     "metadata": {},
     "output_type": "display_data"
    },
    {
     "data": {
      "text/plain": [
       "'no data in BudgetExpense'"
      ]
     },
     "metadata": {},
     "output_type": "display_data"
    },
    {
     "data": {
      "text/plain": [
       "'no data in BudgetExpenseComments'"
      ]
     },
     "metadata": {},
     "output_type": "display_data"
    },
    {
     "data": {
      "text/plain": [
       "'no data in BudgetExpenseReports'"
      ]
     },
     "metadata": {},
     "output_type": "display_data"
    },
    {
     "data": {
      "text/plain": [
       "'BudgetProfiles'"
      ]
     },
     "metadata": {},
     "output_type": "display_data"
    },
    {
     "data": {
      "text/plain": [
       "Index(['ProfileId', 'Name', 'Description', 'Sys_ModifiedUserID'], dtype='object')"
      ]
     },
     "metadata": {},
     "output_type": "display_data"
    },
    {
     "data": {
      "text/plain": [
       "'CostCategories'"
      ]
     },
     "metadata": {},
     "output_type": "display_data"
    },
    {
     "data": {
      "text/plain": [
       "Index(['CostCategoryID', 'Code', 'Description', 'Capital', 'Operating',\n",
       "       'GroupId'],\n",
       "      dtype='object')"
      ]
     },
     "metadata": {},
     "output_type": "display_data"
    },
    {
     "data": {
      "text/plain": [
       "'CostCategoryGroups'"
      ]
     },
     "metadata": {},
     "output_type": "display_data"
    },
    {
     "data": {
      "text/plain": [
       "Index(['CostCategoryGroupId', 'Name', 'Sequence', 'Type'], dtype='object')"
      ]
     },
     "metadata": {},
     "output_type": "display_data"
    },
    {
     "data": {
      "text/plain": [
       "'data_5310AnnualReporting_ServiceTypes'"
      ]
     },
     "metadata": {},
     "output_type": "display_data"
    },
    {
     "data": {
      "text/plain": [
       "Index(['Id', 'ServiceType', 'Open_Close', 'ClientsElgible', 'ClientsServed',\n",
       "       'ReportId', 'OrganizationId'],\n",
       "      dtype='object')"
      ]
     },
     "metadata": {},
     "output_type": "display_data"
    },
    {
     "data": {
      "text/plain": [
       "'data_5310_AnnualReporting'"
      ]
     },
     "metadata": {},
     "output_type": "display_data"
    },
    {
     "data": {
      "text/plain": [
       "Index(['Id', 'TitleVIComplaints', 'TitleVIComplaints_Text', 'DBEComplaints',\n",
       "       'DBEComplaints_Text', 'EEOComplaints', 'EEOComplaints_Text',\n",
       "       'Lawsuits_Text', 'ReportId', 'OrganizationId', 'ServiceTypeId',\n",
       "       'AgencyContact_LastUpdated', 'AgencyProfile_LastUpdated',\n",
       "       'AgnecyImpDoc_LastUpdated', 'LawSuits', 'Events_Text'],\n",
       "      dtype='object')"
      ]
     },
     "metadata": {},
     "output_type": "display_data"
    },
    {
     "data": {
      "text/plain": [
       "'no data in data_Admendment_View'"
      ]
     },
     "metadata": {},
     "output_type": "display_data"
    },
    {
     "data": {
      "text/plain": [
       "'data_Allocations'"
      ]
     },
     "metadata": {},
     "output_type": "display_data"
    },
    {
     "data": {
      "text/plain": [
       "Index(['Id', 'DistributionId', 'RequestId', 'FundingProgramId', 'Amount',\n",
       "       'Type', 'FiscalYear', 'UnPlanned', 'IsEncumbered', 'AllocationId',\n",
       "       'Comments', 'Sys_ModifiedUserId', 'FAN', 'JobNumber'],\n",
       "      dtype='object')"
      ]
     },
     "metadata": {},
     "output_type": "display_data"
    },
    {
     "data": {
      "text/plain": [
       "'data_Amendment_Contact_View'"
      ]
     },
     "metadata": {},
     "output_type": "display_data"
    },
    {
     "data": {
      "text/plain": [
       "Index(['AmendmentViewId', 'AmendmentId', 'ContractId', 'ContractNumber',\n",
       "       'FederalTotal', 'FederalTotalText', 'StateTotal', 'StateTotalText',\n",
       "       'MaxAllowed'],\n",
       "      dtype='object')"
      ]
     },
     "metadata": {},
     "output_type": "display_data"
    },
    {
     "data": {
      "text/plain": [
       "'data_Announcements'"
      ]
     },
     "metadata": {},
     "output_type": "display_data"
    },
    {
     "data": {
      "text/plain": [
       "Index(['Id', 'Announcement', 'sys_ModifiedUserId'], dtype='object')"
      ]
     },
     "metadata": {},
     "output_type": "display_data"
    },
    {
     "data": {
      "text/plain": [
       "'data_AssetDisposalVehicle'"
      ]
     },
     "metadata": {},
     "output_type": "display_data"
    },
    {
     "data": {
      "text/plain": [
       "Index(['DisposalId', 'AssetId', 'Discriminator', 'RequestDate', 'DisposedDate',\n",
       "       'Status', 'Mileage', 'MileageAsOfDate', 'JustificationId',\n",
       "       'FairMarketValue', 'MaintenanceCost', 'MethodId',\n",
       "       'MethodOtherDescription', 'TransferToOrgId', 'TransferFromOrgId',\n",
       "       'Comment', 'Sys_ModifiedUserId'],\n",
       "      dtype='object')"
      ]
     },
     "metadata": {},
     "output_type": "display_data"
    },
    {
     "data": {
      "text/plain": [
       "'no data in data_BudgetItemsTotals'"
      ]
     },
     "metadata": {},
     "output_type": "display_data"
    },
    {
     "data": {
      "text/plain": [
       "'no data in data_BudgetItemsTotals_Report'"
      ]
     },
     "metadata": {},
     "output_type": "display_data"
    },
    {
     "data": {
      "text/plain": [
       "'no data in data_BudgetItems_Report'"
      ]
     },
     "metadata": {},
     "output_type": "display_data"
    },
    {
     "data": {
      "text/plain": [
       "'no data in data_Budget_Reporting_ServiceData'"
      ]
     },
     "metadata": {},
     "output_type": "display_data"
    },
    {
     "data": {
      "text/plain": [
       "'data_CalendarEvents'"
      ]
     },
     "metadata": {},
     "output_type": "display_data"
    },
    {
     "data": {
      "text/plain": [
       "Index(['Id', 'EventStartDate', 'EventEndDate', 'Title', 'Description',\n",
       "       'OwnerId', 'OwnerTypeId', 'AllDay', 'IsPublic', 'Sys_ModifiedId'],\n",
       "      dtype='object')"
      ]
     },
     "metadata": {},
     "output_type": "display_data"
    },
    {
     "data": {
      "text/plain": [
       "'no data in data_Certification'"
      ]
     },
     "metadata": {},
     "output_type": "display_data"
    },
    {
     "data": {
      "text/plain": [
       "'data_CodeBlocks'"
      ]
     },
     "metadata": {},
     "output_type": "display_data"
    },
    {
     "data": {
      "text/plain": [
       "Index(['Id', 'InvoiceId', 'ReceivingCodeNumber', 'PaymentRequestCode',\n",
       "       'AuthorizedDisbursementNumber', 'ClaimScheduleNumber', 'RCDate',\n",
       "       'PRCDate', 'ADDate', 'ApprovedForDraw', 'ApprovedForDrawDate',\n",
       "       'Sys_UserModifiedDate', 'Sys_UserCreatedDate'],\n",
       "      dtype='object')"
      ]
     },
     "metadata": {},
     "output_type": "display_data"
    },
    {
     "data": {
      "text/plain": [
       "'no data in data_Comment'"
      ]
     },
     "metadata": {},
     "output_type": "display_data"
    },
    {
     "data": {
      "text/plain": [
       "'no data in data_ContractPaymentRequest'"
      ]
     },
     "metadata": {},
     "output_type": "display_data"
    },
    {
     "data": {
      "text/plain": [
       "'no data in data_ContractPaymentRequest_Allocation'"
      ]
     },
     "metadata": {},
     "output_type": "display_data"
    },
    {
     "data": {
      "text/plain": [
       "'no data in data_ContractPaymentRequest_AllocationDistrobution'"
      ]
     },
     "metadata": {},
     "output_type": "display_data"
    },
    {
     "data": {
      "text/plain": [
       "'no data in data_ContractPaymentRequest_CodeStrip'"
      ]
     },
     "metadata": {},
     "output_type": "display_data"
    },
    {
     "data": {
      "text/plain": [
       "'no data in data_ContractPaymentRequest_CodeStripInvoice'"
      ]
     },
     "metadata": {},
     "output_type": "display_data"
    },
    {
     "data": {
      "text/plain": [
       "'no data in data_ContractPaymentRequest_Documents'"
      ]
     },
     "metadata": {},
     "output_type": "display_data"
    },
    {
     "data": {
      "text/plain": [
       "'no data in data_ContractReport5307'"
      ]
     },
     "metadata": {},
     "output_type": "display_data"
    },
    {
     "data": {
      "text/plain": [
       "'no data in data_ContractReports'"
      ]
     },
     "metadata": {},
     "output_type": "display_data"
    },
    {
     "data": {
      "text/plain": [
       "'no data in data_ContractReportsOTPPP'"
      ]
     },
     "metadata": {},
     "output_type": "display_data"
    },
    {
     "data": {
      "text/plain": [
       "'data_Contracts'"
      ]
     },
     "metadata": {},
     "output_type": "display_data"
    },
    {
     "data": {
      "text/plain": [
       "Index(['Id', 'GrantId', 'ProgramId', 'ContractYear', 'OrganizationId',\n",
       "       'RequestTypeID', 'ProductionDate', 'ExpirationDate', 'ContractId',\n",
       "       'PlanToAgency', 'PlanFromAgency', 'PlanToAuthorizedSignatory',\n",
       "       'PlanToFiscal', 'PlanNTP', 'PlanMMARS', 'ActToAgency', 'ActFromAgency',\n",
       "       'ActToAuthorizedSignatory', 'ActToFiscal', 'ActNTP', 'ActMMARS',\n",
       "       'MaximumObligation', 'Sys_ModifiedUserID', 'EncumbranceDate',\n",
       "       'BeginDate', 'InvoiceEndDate', 'ContractExecDate', 'ApprovedEncDate',\n",
       "       'AmendmentText', 'AmendmentNumber', 'ParentId', 'ContractStatus',\n",
       "       'ProjectNumber', 'Status', 'ContractType', 'PreviousEncumberedAmount'],\n",
       "      dtype='object')"
      ]
     },
     "metadata": {},
     "output_type": "display_data"
    },
    {
     "data": {
      "text/plain": [
       "'no data in data_Contracts_Amendment'"
      ]
     },
     "metadata": {},
     "output_type": "display_data"
    },
    {
     "data": {
      "text/plain": [
       "'no data in data_Contracts_Award'"
      ]
     },
     "metadata": {},
     "output_type": "display_data"
    },
    {
     "data": {
      "text/plain": [
       "'no data in data_Contracts_Documents'"
      ]
     },
     "metadata": {},
     "output_type": "display_data"
    },
    {
     "data": {
      "text/plain": [
       "'no data in data_Contracts_Extension'"
      ]
     },
     "metadata": {},
     "output_type": "display_data"
    },
    {
     "data": {
      "text/plain": [
       "'no data in data_Contracts_Info'"
      ]
     },
     "metadata": {},
     "output_type": "display_data"
    },
    {
     "data": {
      "text/plain": [
       "'no data in data_Contract_Amendments'"
      ]
     },
     "metadata": {},
     "output_type": "display_data"
    },
    {
     "data": {
      "text/plain": [
       "'data_Counties'"
      ]
     },
     "metadata": {},
     "output_type": "display_data"
    },
    {
     "data": {
      "text/plain": [
       "Index(['Id', 'County', 'County_Code'], dtype='object')"
      ]
     },
     "metadata": {},
     "output_type": "display_data"
    },
    {
     "data": {
      "text/plain": [
       "'no data in data_CountyDistrict'"
      ]
     },
     "metadata": {},
     "output_type": "display_data"
    },
    {
     "data": {
      "text/plain": [
       "'data_Disposition_Equipment'"
      ]
     },
     "metadata": {},
     "output_type": "display_data"
    },
    {
     "data": {
      "text/plain": [
       "Index(['DispositionId', 'OrganizationId', 'EquipmentId', 'EquipmentStatusId',\n",
       "       'RequestDate', 'JustificationId', 'DisposalMethodId',\n",
       "       'OtherDisposalMethod', 'FairMarketValue', 'FairMarketValueSource',\n",
       "       'sys_CreatedUserId', 'sys_ModifiedUserId'],\n",
       "      dtype='object')"
      ]
     },
     "metadata": {},
     "output_type": "display_data"
    },
    {
     "data": {
      "text/plain": [
       "'no data in data_Disposition_Facilities'"
      ]
     },
     "metadata": {},
     "output_type": "display_data"
    },
    {
     "data": {
      "text/plain": [
       "'data_Disposition_Vehicles'"
      ]
     },
     "metadata": {},
     "output_type": "display_data"
    },
    {
     "data": {
      "text/plain": [
       "Index(['DispositionId', 'OrganizationId', 'VehicleId', 'RequestDate',\n",
       "       'JustificationId', 'DisposalMethodId', 'OtherDisposalMethod',\n",
       "       'FairMarketValue', 'VehicleStatusId', 'sys_CreatedUserId',\n",
       "       'sys_ModifiedUserId', 'FairMarketValueSource'],\n",
       "      dtype='object')"
      ]
     },
     "metadata": {},
     "output_type": "display_data"
    },
    {
     "data": {
      "text/plain": [
       "'data_Districts'"
      ]
     },
     "metadata": {},
     "output_type": "display_data"
    },
    {
     "data": {
      "text/plain": [
       "Index(['Id', 'District'], dtype='object')"
      ]
     },
     "metadata": {},
     "output_type": "display_data"
    },
    {
     "data": {
      "text/plain": [
       "'data_Documents'"
      ]
     },
     "metadata": {},
     "output_type": "display_data"
    },
    {
     "data": {
      "text/plain": [
       "Index(['ID', 'Typeid', 'Ownerid', 'DocumentName', 'DocumentSize', 'Deleted',\n",
       "       'Archived', 'CreatedDate', 'Source', 'DocumentFriendlyName'],\n",
       "      dtype='object')"
      ]
     },
     "metadata": {},
     "output_type": "display_data"
    },
    {
     "data": {
      "text/plain": [
       "'no data in data_DynamicFields'"
      ]
     },
     "metadata": {},
     "output_type": "display_data"
    },
    {
     "data": {
      "text/plain": [
       "'data_DynamicFields_Template'"
      ]
     },
     "metadata": {},
     "output_type": "display_data"
    },
    {
     "data": {
      "text/plain": [
       "Index(['Id', 'FieldName', 'FieldValue', 'FieldValueType',\n",
       "       'FieldManualEntryRequired', 'FieldOptionsId', 'OwnerId',\n",
       "       'OwnerSourceType', 'Sys_ModiifiedDate', 'Sequence', 'ReadOnly'],\n",
       "      dtype='object')"
      ]
     },
     "metadata": {},
     "output_type": "display_data"
    },
    {
     "data": {
      "text/plain": [
       "'data_Entity'"
      ]
     },
     "metadata": {},
     "output_type": "display_data"
    },
    {
     "data": {
      "text/plain": [
       "Index(['Id', 'EntityTypeId', 'Title', 'DeveloperViewSQL', 'FriendlyViewSQL',\n",
       "       'PageScript', 'Sys_ModifiedUserId'],\n",
       "      dtype='object')"
      ]
     },
     "metadata": {},
     "output_type": "display_data"
    },
    {
     "data": {
      "text/plain": [
       "'data_EntityRecords'"
      ]
     },
     "metadata": {},
     "output_type": "display_data"
    },
    {
     "data": {
      "text/plain": [
       "Index(['Id', 'EntityId', 'ParentId', 'Sys_ModifiedUserId'], dtype='object')"
      ]
     },
     "metadata": {},
     "output_type": "display_data"
    },
    {
     "data": {
      "text/plain": [
       "'no data in data_Entity_Groups'"
      ]
     },
     "metadata": {},
     "output_type": "display_data"
    },
    {
     "data": {
      "text/plain": [
       "'data_Entity_Properties'"
      ]
     },
     "metadata": {},
     "output_type": "display_data"
    },
    {
     "data": {
      "text/plain": [
       "Index(['Id', 'WidgetTypeId', 'DataTypeId', 'FieldKey', 'Label', 'DisplayOrder',\n",
       "       'DisplayByDefault', 'CanBeAdded', 'Required', 'Sys_ModifiedUserId'],\n",
       "      dtype='object')"
      ]
     },
     "metadata": {},
     "output_type": "display_data"
    },
    {
     "data": {
      "text/plain": [
       "'data_Entity_PropertiesRecords'"
      ]
     },
     "metadata": {},
     "output_type": "display_data"
    },
    {
     "data": {
      "text/plain": [
       "Index(['Id', 'EntityRecordId', 'EntityPropertyId', 'FieldKey', 'Value'], dtype='object')"
      ]
     },
     "metadata": {},
     "output_type": "display_data"
    },
    {
     "data": {
      "text/plain": [
       "'data_Entity_PropertyValues'"
      ]
     },
     "metadata": {},
     "output_type": "display_data"
    },
    {
     "data": {
      "text/plain": [
       "Index(['id', 'EntityId', 'EntityPropertyId', 'Value', 'Sys_ModifiedUserId'], dtype='object')"
      ]
     },
     "metadata": {},
     "output_type": "display_data"
    },
    {
     "data": {
      "text/plain": [
       "'no data in data_Entity_Property_Groups'"
      ]
     },
     "metadata": {},
     "output_type": "display_data"
    },
    {
     "data": {
      "text/plain": [
       "'data_Entity_Related_Profiles'"
      ]
     },
     "metadata": {},
     "output_type": "display_data"
    },
    {
     "data": {
      "text/plain": [
       "Index(['RelatedProfileId', 'EntityRecordId', 'ProfileEntityId',\n",
       "       'ProfileRelationTypeId', 'Required'],\n",
       "      dtype='object')"
      ]
     },
     "metadata": {},
     "output_type": "display_data"
    },
    {
     "data": {
      "text/plain": [
       "'data_events'"
      ]
     },
     "metadata": {},
     "output_type": "display_data"
    },
    {
     "data": {
      "text/plain": [
       "Index(['id', 'eventdate', 'endeventdate', 'publicEvent', 'title', 'notes',\n",
       "       'eventtype', 'displayInBold', 'displayInRed', 'allday', 'endallday',\n",
       "       'syssource', 'sysstatus', 'sysdate'],\n",
       "      dtype='object')"
      ]
     },
     "metadata": {},
     "output_type": "display_data"
    },
    {
     "data": {
      "text/plain": [
       "'no data in data_ExpenseCategories'"
      ]
     },
     "metadata": {},
     "output_type": "display_data"
    },
    {
     "data": {
      "text/plain": [
       "'no data in data_ExpenseSections'"
      ]
     },
     "metadata": {},
     "output_type": "display_data"
    },
    {
     "data": {
      "text/plain": [
       "'no data in data_Finding'"
      ]
     },
     "metadata": {},
     "output_type": "display_data"
    },
    {
     "data": {
      "text/plain": [
       "'no data in data_FindingHistory'"
      ]
     },
     "metadata": {},
     "output_type": "display_data"
    },
    {
     "data": {
      "text/plain": [
       "'no data in data_FindingHistoryDueDate'"
      ]
     },
     "metadata": {},
     "output_type": "display_data"
    },
    {
     "data": {
      "text/plain": [
       "'data_Folder'"
      ]
     },
     "metadata": {},
     "output_type": "display_data"
    },
    {
     "data": {
      "text/plain": [
       "Index(['Id', 'FolderName', 'Sys_ModifiedUserId'], dtype='object')"
      ]
     },
     "metadata": {},
     "output_type": "display_data"
    },
    {
     "data": {
      "text/plain": [
       "'data_FTA_LineItem_Codes'"
      ]
     },
     "metadata": {},
     "output_type": "display_data"
    },
    {
     "data": {
      "text/plain": [
       "Index(['CodeID', 'Code', 'Description', 'Category', 'Sys_ModifiedUserId',\n",
       "       'MOUCategory', 'BudgetProfileId', 'Sequence', 'FederalSharePercent',\n",
       "       'StateSharePercent', 'LocalSharePercent'],\n",
       "      dtype='object')"
      ]
     },
     "metadata": {},
     "output_type": "display_data"
    },
    {
     "data": {
      "text/plain": [
       "'data_FundSources'"
      ]
     },
     "metadata": {},
     "output_type": "display_data"
    },
    {
     "data": {
      "text/plain": [
       "Index(['FundSourceId', 'Name', 'CommonName', 'HasMatch', 'Match1', 'Match2',\n",
       "       'MatchRequirements', 'SourceAgency', 'AllocatingAgency', 'CFDA',\n",
       "       'Description', 'Requirement', 'Comments', 'RequiresApplication',\n",
       "       'Application', 'EntityRecordId', 'sys_ModifiedUserId',\n",
       "       'RequiresGroupReview', 'ProgramCoordinator',\n",
       "       'EligibleVehicleDisposition', 'ContractCode', 'RepRequired',\n",
       "       'GrantCoordinator', 'PTManager', 'HardDeadLine', 'SoftDeadline'],\n",
       "      dtype='object')"
      ]
     },
     "metadata": {},
     "output_type": "display_data"
    },
    {
     "data": {
      "text/plain": [
       "'data_FundSourcesPM'"
      ]
     },
     "metadata": {},
     "output_type": "display_data"
    },
    {
     "data": {
      "text/plain": [
       "Index(['Id', 'FundSourceId', 'PmId', 'D1', 'D2', 'D3', 'D4', 'D5', 'D6', 'D7',\n",
       "       'D8', 'D9', 'D10', 'D11', 'D12', 'sys_ModifiedUserId'],\n",
       "      dtype='object')"
      ]
     },
     "metadata": {},
     "output_type": "display_data"
    },
    {
     "data": {
      "text/plain": [
       "'no data in data_GrantApplicationConfigs'"
      ]
     },
     "metadata": {},
     "output_type": "display_data"
    },
    {
     "data": {
      "text/plain": [
       "'data_GrantForms'"
      ]
     },
     "metadata": {},
     "output_type": "display_data"
    },
    {
     "data": {
      "text/plain": [
       "Index(['GrantFormID', 'GrantID', 'Sequence', 'FormTitle', 'Url',\n",
       "       'AllowedUpload', 'Required', 'sys_ModifiedUserId'],\n",
       "      dtype='object')"
      ]
     },
     "metadata": {},
     "output_type": "display_data"
    },
    {
     "data": {
      "text/plain": [
       "'data_GrantOpportunities'"
      ]
     },
     "metadata": {},
     "output_type": "display_data"
    },
    {
     "data": {
      "text/plain": [
       "Index(['OpportunityID', 'OrganizationID', 'GrantID', 'Status',\n",
       "       'sys_ModifiedUserId'],\n",
       "      dtype='object')"
      ]
     },
     "metadata": {},
     "output_type": "display_data"
    },
    {
     "data": {
      "text/plain": [
       "'data_GrantOpportunitiesActivity'"
      ]
     },
     "metadata": {},
     "output_type": "display_data"
    },
    {
     "data": {
      "text/plain": [
       "Index(['CommentId', 'OpportunityId', 'Status', 'Comment',\n",
       "       'sys_ModifiedUserId'],\n",
       "      dtype='object')"
      ]
     },
     "metadata": {},
     "output_type": "display_data"
    },
    {
     "data": {
      "text/plain": [
       "'data_GrantOpportunityForms'"
      ]
     },
     "metadata": {},
     "output_type": "display_data"
    },
    {
     "data": {
      "text/plain": [
       "Index(['OpportunityFormID', 'OpportunityID', 'GrantFormID', 'UploadedDocument',\n",
       "       'sys_ModifiedUserId'],\n",
       "      dtype='object')"
      ]
     },
     "metadata": {},
     "output_type": "display_data"
    },
    {
     "data": {
      "text/plain": [
       "'data_GrantOpportunityProjects'"
      ]
     },
     "metadata": {},
     "output_type": "display_data"
    },
    {
     "data": {
      "text/plain": [
       "Index(['OpportunityProjectID', 'OpportunityID', 'ProjectID', 'ProjectScore',\n",
       "       'ProjectAdjustedScore', 'sys_ModifiedUserId',\n",
       "       'nonApplicationOrganizationId', 'nonApplicationYear'],\n",
       "      dtype='object')"
      ]
     },
     "metadata": {},
     "output_type": "display_data"
    },
    {
     "data": {
      "text/plain": [
       "'data_GrantOpportunityRevenue'"
      ]
     },
     "metadata": {},
     "output_type": "display_data"
    },
    {
     "data": {
      "text/plain": [
       "Index(['OpportunityRevID', 'OpportunityID', 'LNTM_NUMBER', 'LNTM_DESCRIPTION',\n",
       "       'Value', 'Sys_ModifiedBy'],\n",
       "      dtype='object')"
      ]
     },
     "metadata": {},
     "output_type": "display_data"
    },
    {
     "data": {
      "text/plain": [
       "'data_Groups'"
      ]
     },
     "metadata": {},
     "output_type": "display_data"
    },
    {
     "data": {
      "text/plain": [
       "Index(['Id', 'Title', 'OrganizationId', 'EntityId', 'SystemGroup',\n",
       "       'Sys_ModifiedUserId'],\n",
       "      dtype='object')"
      ]
     },
     "metadata": {},
     "output_type": "display_data"
    },
    {
     "data": {
      "text/plain": [
       "'data_GroupSystemModule'"
      ]
     },
     "metadata": {},
     "output_type": "display_data"
    },
    {
     "data": {
      "text/plain": [
       "Index(['Id', 'GroupId', 'SystemModuleId', 'Sys_ModifiedUserId'], dtype='object')"
      ]
     },
     "metadata": {},
     "output_type": "display_data"
    },
    {
     "data": {
      "text/plain": [
       "'data_GroupSystemModulePermissionValues'"
      ]
     },
     "metadata": {},
     "output_type": "display_data"
    },
    {
     "data": {
      "text/plain": [
       "Index(['Id', 'GroupSystemModuleId', 'SystemModulePermissionId', 'IsChecked',\n",
       "       'Sys_ModifiedUserId'],\n",
       "      dtype='object')"
      ]
     },
     "metadata": {},
     "output_type": "display_data"
    },
    {
     "data": {
      "text/plain": [
       "'data_HistoryLog'"
      ]
     },
     "metadata": {},
     "output_type": "display_data"
    },
    {
     "data": {
      "text/plain": [
       "Index(['Id', 'HistoryLogType', 'Comment', 'HistoryProcessStatus', 'OwnerId'], dtype='object')"
      ]
     },
     "metadata": {},
     "output_type": "display_data"
    },
    {
     "data": {
      "text/plain": [
       "'data_ImportantDocuments'"
      ]
     },
     "metadata": {},
     "output_type": "display_data"
    },
    {
     "data": {
      "text/plain": [
       "Index(['Id', 'OrganizationId', 'DocumentCategoryId', 'DocumentTypeId',\n",
       "       'FriendlyName', 'FileName', 'FileYear', 'Expires', 'UploadedByUser',\n",
       "       'UploadedDate', 'Archived'],\n",
       "      dtype='object')"
      ]
     },
     "metadata": {},
     "output_type": "display_data"
    },
    {
     "data": {
      "text/plain": [
       "'data_Imported_Dispositions'"
      ]
     },
     "metadata": {},
     "output_type": "display_data"
    },
    {
     "data": {
      "text/plain": [
       "Index(['DisposalId', 'Discriminator', 'OrganizationId', 'VehicleId',\n",
       "       'RequestDate', 'JustificationId', 'DisposalMethodId',\n",
       "       'OtherDisposalMethod', 'Mileage', 'MileageAsOfDate', 'FairMarketValue',\n",
       "       'VehicleStatusId', 'sys_CreatedUserId', 'Sys_ModifiedUserId',\n",
       "       'FairMarketValueSource', 'Comment'],\n",
       "      dtype='object')"
      ]
     },
     "metadata": {},
     "output_type": "display_data"
    },
    {
     "data": {
      "text/plain": [
       "'data_Inspection'"
      ]
     },
     "metadata": {},
     "output_type": "display_data"
    },
    {
     "data": {
      "text/plain": [
       "Index(['Id', 'EntityRecordId', 'FiscalYear', 'ReviewTypeId', 'Purpose',\n",
       "       'Comments', 'StartDate', 'EndDate', 'ReviewerName',\n",
       "       'ReviewerOrganization', 'QuestionnaireDocumentId',\n",
       "       'PostQuestionnaireDocumentId', 'StatusId', 'Sys_ModifiedUserId',\n",
       "       'QuestionnaireStatusId', 'PostQuestionnaireStatusId',\n",
       "       'AgencyQuestionnaireUploaded', 'QuestionnaireSubmittedToAgency'],\n",
       "      dtype='object')"
      ]
     },
     "metadata": {},
     "output_type": "display_data"
    },
    {
     "data": {
      "text/plain": [
       "'no data in data_InventoryRemovalQueue'"
      ]
     },
     "metadata": {},
     "output_type": "display_data"
    },
    {
     "data": {
      "text/plain": [
       "'data_Inventory_Comment'"
      ]
     },
     "metadata": {},
     "output_type": "display_data"
    },
    {
     "data": {
      "text/plain": [
       "Index(['CommentId', 'SourceType', 'SourceId', 'Comment', 'sys_CreatedUserId',\n",
       "       'sys_ModifiedUserId'],\n",
       "      dtype='object')"
      ]
     },
     "metadata": {},
     "output_type": "display_data"
    },
    {
     "data": {
      "text/plain": [
       "'data_Inventory_Equipment'"
      ]
     },
     "metadata": {},
     "output_type": "display_data"
    },
    {
     "data": {
      "text/plain": [
       "Index(['EquipmentId', 'OrganizationId', 'ClassificationID', 'EquipmentName',\n",
       "       'VIN', 'LicensePlate', 'AgencyId', 'DOTId', 'FundedByDOT',\n",
       "       'FundingProgramId', 'GrantIdPrimary', 'OtherGrantPrimary',\n",
       "       'GrantIdSecondary', 'OtherGrantSecondary', 'DOTContractId',\n",
       "       'OtherDOTContract', 'UPIN', 'Quantity', 'AverageCostPerUnit',\n",
       "       'TotalCost', 'FederalShare', 'FederalSharePercent', 'StateShare',\n",
       "       'StateSharePercent', 'LocalShare', 'LocalSharePercent', 'TDCShare',\n",
       "       'TDCSharePercent', 'DOTCapitalResponsibility',\n",
       "       'OrganizationCapitalResponsibility', 'OtherCapitalResponsibility',\n",
       "       'OtherCapitalResponsibilityOrg', 'EquipmentClassID', 'EquipmentTypeID',\n",
       "       'EquipmentTypeOther', 'Manufacturer', 'Model', 'EquipmentYear',\n",
       "       'SerialNumber', 'EquipmentStatusId', 'ImprovementTypeId',\n",
       "       'CurrentCondition', 'CurrentConditionDate', 'ConditionRatingId',\n",
       "       'CurrentMileage', 'CurrentMileageDate', 'YearOfRenewal',\n",
       "       'RenewalTypeId', 'PurchaseOrderNumber', 'PurchaseOrderDate', 'Vendor',\n",
       "       'ReceivedDate', 'LastInspectionDate', 'NextInspectionDate',\n",
       "       'VehicleLocationStreet', 'VehicleLocationCity', 'VehicleLocationState',\n",
       "       'InServiceDate', 'AverageEstimatedServiceYearsWhenNew',\n",
       "       'UsefulLifeYearsRemaining', 'OutOfServiceDate', 'IsDOTLienHolder',\n",
       "       'IsTitleOnFileWithDOT', 'TitleNumber', 'RegistrationNumber', 'Comments',\n",
       "       'DispositionDate', 'sys_ModifiedUserId'],\n",
       "      dtype='object')"
      ]
     },
     "metadata": {},
     "output_type": "display_data"
    },
    {
     "data": {
      "text/plain": [
       "'data_Inventory_Facilities'"
      ]
     },
     "metadata": {},
     "output_type": "display_data"
    },
    {
     "data": {
      "text/plain": [
       "Index(['FacilityId', 'OrganizationId', 'FacilityName', 'Address1', 'Address2',\n",
       "       'City', 'State', 'ZipCode', 'County', 'Latitude', 'Longitude',\n",
       "       'FundedByDOT', 'FundSourceId', 'GrantIdPrimary', 'OtherGrantPrimary',\n",
       "       'GrantSharePrimary', 'GrantIdSecondary', 'OtherGrantSecondary',\n",
       "       'GrantShareSecondary', 'DOTContractId', 'OtherDOTContract',\n",
       "       'PurchaseOrderNumber', 'PurchaseOrderDate', 'InvoiceNumber',\n",
       "       'PaymentVoucherNumber', 'PaymentVoucherDate', 'UPIN', 'TotalCost',\n",
       "       'FederalShare', 'FederalSharePercent', 'StateShare',\n",
       "       'StateSharePercent', 'LocalShare', 'LocalSharePercent',\n",
       "       'DOTCapitalResponsibility', 'OrganizationCapitalResponsibility',\n",
       "       'OtherCapitalResponsibility', 'OtherCapitalResponsibilityOrg',\n",
       "       'OwnershipTypeId', 'FacilityTypeCategoryId', 'OtherFacilityCategory',\n",
       "       'PrimaryModeServedId', 'UnitSpaceSize', 'UnitSpaceType', 'YearBuilt',\n",
       "       'YearReconstructed', 'ADAAccessible', 'SectionOfLargerFacility',\n",
       "       'FacilityStatusId', 'EstimatedConditionAssessment', 'CurrentCondition',\n",
       "       'DateOfAssessment', 'ConditionRatingId', 'LastInspectionDate',\n",
       "       'NextInspectionDate', 'sys_CreatedUserId', 'sys_ModifiedUserId',\n",
       "       'UsefulLifeYearsRemaining'],\n",
       "      dtype='object')"
      ]
     },
     "metadata": {},
     "output_type": "display_data"
    },
    {
     "data": {
      "text/plain": [
       "'data_Inventory_Vehicles'"
      ]
     },
     "metadata": {},
     "output_type": "display_data"
    },
    {
     "data": {
      "text/plain": [
       "Index(['VehicleId', 'OrganizationId', 'VIN', 'LicensePlate', 'AgencyId',\n",
       "       'DOTId', 'FundedByDOT', 'FundingProgramId', 'GrantIdPrimary',\n",
       "       'OtherGrantPrimary', 'GrantSharePrimary', 'GrantIdSecondary',\n",
       "       'OtherGrantSecondary', 'GrantShareSecondary', 'DOTContractId',\n",
       "       'OtherDOTContract', 'PurchaseOrderNumber', 'PurchaseOrderDate',\n",
       "       'InvoiceNumber', 'PaymentVoucherNumber', 'PaymentVoucherDate',\n",
       "       'AwardYear', 'UPIN', 'TotalCost', 'FederalShare', 'FederalSharePercent',\n",
       "       'StateShare', 'StateSharePercent', 'LocalShare', 'LocalSharePercent',\n",
       "       'DOTCapitalResponsibility', 'OrganizationCapitalResponsibility',\n",
       "       'OtherCapitalResponsibility', 'OtherCapitalResponsibilityOrg',\n",
       "       'CategoryId', 'VehicleYear', 'ManufacturerId', 'ModelId', 'OtherModel',\n",
       "       'ChassisId', 'OtherChassis', 'FuelTypeId', 'VehicleHeightFeet',\n",
       "       'VehicleHeightInches', 'VehicleLengthFeet', 'GVWR', 'SeatingCapacity',\n",
       "       'StandingCapacity', 'WheelchairPositions', 'WheelchairRampOrLift',\n",
       "       'RampOrLiftManufacturerId', 'OtherRampOrLiftManufacturer',\n",
       "       'EmergencyContingencyVehicle', 'VehicleStatusId', 'ImprovementTypeId',\n",
       "       'CurrentCondition', 'CurrentConditionDate', 'ConditionRatingId',\n",
       "       'CurrentMileage', 'CurrentMileageDate', 'YearOfRenewal',\n",
       "       'RenewalTypeId', 'PriceAgreementNumber', 'PriceAgreementDate',\n",
       "       'PurchaseDate', 'Vendor', 'ReceivedDate', 'LastInspectionDate',\n",
       "       'NextInspectionDate', 'VehicleLocationStreet', 'VehicleLocationCity',\n",
       "       'VehicleLocationState', 'InServiceDate', 'UsefulLifeYearsRemaining',\n",
       "       'UsefulLifeMilesRemaining', 'OutOfServiceDate', 'IsDOTLienHolder',\n",
       "       'IsTitleOnFileWithDOT', 'TitleNumber', 'RegistrationNumber', 'NTDID',\n",
       "       'VehicleTypeId', 'AverageEstimatedServiceYearsWhenNew',\n",
       "       'DedicatedFleet', 'OwnershipTypeId', 'FundingSourceId',\n",
       "       'NTDOtherModeId', 'NTDTypeOfServiceId', 'Comments', 'DispositionDate',\n",
       "       'Sys_CreatedUserId', 'Sys_ModifiedUserID', 'VehicleIDNumber',\n",
       "       'TDCShare', 'TDCSharePercent'],\n",
       "      dtype='object')"
      ]
     },
     "metadata": {},
     "output_type": "display_data"
    },
    {
     "data": {
      "text/plain": [
       "'no data in data_Invoices'"
      ]
     },
     "metadata": {},
     "output_type": "display_data"
    },
    {
     "data": {
      "text/plain": [
       "'data_LaborUnions'"
      ]
     },
     "metadata": {},
     "output_type": "display_data"
    },
    {
     "data": {
      "text/plain": [
       "Index(['Id', 'OrgId', 'UnionName', 'LocalName', 'Address', 'Address2', 'City',\n",
       "       'State', 'Zip', 'Phone', 'Contact', 'Email', 'Sys_ModifiedUserId'],\n",
       "      dtype='object')"
      ]
     },
     "metadata": {},
     "output_type": "display_data"
    },
    {
     "data": {
      "text/plain": [
       "'data_Library'"
      ]
     },
     "metadata": {},
     "output_type": "display_data"
    },
    {
     "data": {
      "text/plain": [
       "Index(['Id', 'GUID', 'FolderId', 'OwnerTypeId', 'OwnerId', 'Title', 'FileName',\n",
       "       'FileSize', 'FileTypeId', 'LibraryTypeId'],\n",
       "      dtype='object')"
      ]
     },
     "metadata": {},
     "output_type": "display_data"
    },
    {
     "data": {
      "text/plain": [
       "'data_Notification_QueuedMessages'"
      ]
     },
     "metadata": {},
     "output_type": "display_data"
    },
    {
     "data": {
      "text/plain": [
       "Index(['QueuedMessageID', 'QueueGroupID', 'ToAddress', 'ToBcc', 'ToCc',\n",
       "       'Subject', 'Message', 'MessageStatusID', 'MessageSentDate', 'Notes',\n",
       "       'Sys_ModifiedUserID', 'Attempts', 'ReplyTo'],\n",
       "      dtype='object')"
      ]
     },
     "metadata": {},
     "output_type": "display_data"
    },
    {
     "data": {
      "text/plain": [
       "'data_Notification_QueueGroups'"
      ]
     },
     "metadata": {},
     "output_type": "display_data"
    },
    {
     "data": {
      "text/plain": [
       "Index(['QueueGroupID', 'NotificationTemplateID', 'GroupTypeID',\n",
       "       'InitiatedUserID', 'CreatedDate', 'Sys_ModifiedUserID'],\n",
       "      dtype='object')"
      ]
     },
     "metadata": {},
     "output_type": "display_data"
    },
    {
     "data": {
      "text/plain": [
       "'data_Notification_Templates'"
      ]
     },
     "metadata": {},
     "output_type": "display_data"
    },
    {
     "data": {
      "text/plain": [
       "Index(['NotificationTemplateID', 'Subject', 'Description', 'Template',\n",
       "       'TriggerDescription', 'TemplateTypeID', 'Sys_ModifiedUserID',\n",
       "       'IsComplete', 'ReplyTo', 'ReplyToType'],\n",
       "      dtype='object')"
      ]
     },
     "metadata": {},
     "output_type": "display_data"
    },
    {
     "data": {
      "text/plain": [
       "'data_OpportunityComments'"
      ]
     },
     "metadata": {},
     "output_type": "display_data"
    },
    {
     "data": {
      "text/plain": [
       "Index(['CommentId', 'ApplicationId', 'Comment', 'Sys_ModifiedUserId'], dtype='object')"
      ]
     },
     "metadata": {},
     "output_type": "display_data"
    },
    {
     "data": {
      "text/plain": [
       "'no data in data_OrganizationProjectPlans'"
      ]
     },
     "metadata": {},
     "output_type": "display_data"
    },
    {
     "data": {
      "text/plain": [
       "'data_OrganizationRidership_Vehicle'"
      ]
     },
     "metadata": {},
     "output_type": "display_data"
    },
    {
     "data": {
      "text/plain": [
       "Index(['Id', 'ReportId', 'VehicleId', 'OrgId', 'AgencyId', 'Vin', 'Condition',\n",
       "       'BeginingMileage', 'EndingMileage', 'DaysInService', 'HoursInService',\n",
       "       'AvgHoursPerWeek', 'MaintenanceRepairCosts', 'IsVehInAccident',\n",
       "       'OutOfServiceFor3Days', 'Sys_UserModifiedId', 'Sys_DateModified'],\n",
       "      dtype='object')"
      ]
     },
     "metadata": {},
     "output_type": "display_data"
    },
    {
     "data": {
      "text/plain": [
       "'data_OrganizationRidership_VehicleReport'"
      ]
     },
     "metadata": {},
     "output_type": "display_data"
    },
    {
     "data": {
      "text/plain": [
       "Index(['Id', 'ReportId', 'InsuranceCompany', 'PolicyNumber', 'PolicyExpDate',\n",
       "       'DaysInReportingPeriod', 'CHPReportDate', 'Sys_UserModifiedId'],\n",
       "      dtype='object')"
      ]
     },
     "metadata": {},
     "output_type": "display_data"
    },
    {
     "data": {
      "text/plain": [
       "'data_PaymentRequest'"
      ]
     },
     "metadata": {},
     "output_type": "display_data"
    },
    {
     "data": {
      "text/plain": [
       "Index(['PaymentRequestId', 'ContractId', 'RequestNumber', 'RequestType',\n",
       "       'ExpenseReportId', 'PaymentRequestStatusId', 'Comments',\n",
       "       'TransmittleDocument', 'Sys_ModifiedUserID', 'BillingSummaryDocument',\n",
       "       'SubmittedDate', 'PaymentDate', 'ReturnedDate', 'AgencyInv'],\n",
       "      dtype='object')"
      ]
     },
     "metadata": {},
     "output_type": "display_data"
    },
    {
     "data": {
      "text/plain": [
       "'data_PaymentRequest_AllocationPayments'"
      ]
     },
     "metadata": {},
     "output_type": "display_data"
    },
    {
     "data": {
      "text/plain": [
       "Index(['PaymentRequestAllocationId', 'PaymentRequestProjectId', 'AllocationId',\n",
       "       'AllocationTotal', 'AllocationAmountAvailable', 'ApprovedAmount',\n",
       "       'PaymentAmount', 'PaymentDate', 'VoucherNumber', 'Sys_ModifiedUserID',\n",
       "       'ApprovedLocalMatch', 'DistributionTitle', 'ProjectTitle', 'RCNumber',\n",
       "       'RCDate'],\n",
       "      dtype='object')"
      ]
     },
     "metadata": {},
     "output_type": "display_data"
    },
    {
     "data": {
      "text/plain": [
       "'data_PaymentRequest_Projects'"
      ]
     },
     "metadata": {},
     "output_type": "display_data"
    },
    {
     "data": {
      "text/plain": [
       "Index(['PaymentRequestProjectId', 'PaymentRequestId', 'ProjectId',\n",
       "       'ProjectTitle', 'AmountRequested', 'LocalMatch', 'Sys_ModifiedUserID',\n",
       "       'AvailableAmount', 'sequence'],\n",
       "      dtype='object')"
      ]
     },
     "metadata": {},
     "output_type": "display_data"
    },
    {
     "data": {
      "text/plain": [
       "'no data in data_PaymentRequest_SubmssionHistory'"
      ]
     },
     "metadata": {},
     "output_type": "display_data"
    },
    {
     "data": {
      "text/plain": [
       "'data_PerformanceMeasures'"
      ]
     },
     "metadata": {},
     "output_type": "display_data"
    },
    {
     "data": {
      "text/plain": [
       "Index(['Id', 'PerformanceMeasureTypeId', 'Year', 'MeasurePeriodTypeId',\n",
       "       'PeriodId', 'StatusID', 'Sys_CreatedUserId', 'Sys_ModifiedUserId'],\n",
       "      dtype='object')"
      ]
     },
     "metadata": {},
     "output_type": "display_data"
    },
    {
     "data": {
      "text/plain": [
       "'data_PerformanceMeasuresGroups'"
      ]
     },
     "metadata": {},
     "output_type": "display_data"
    },
    {
     "data": {
      "text/plain": [
       "Index(['Id', 'GroupName', 'PerformanceMeasuresID', 'Sys_CreatedUserId',\n",
       "       'Sys_ModifiedUserID', 'StatusId'],\n",
       "      dtype='object')"
      ]
     },
     "metadata": {},
     "output_type": "display_data"
    },
    {
     "data": {
      "text/plain": [
       "'data_PerformanceMeasuresOrg'"
      ]
     },
     "metadata": {},
     "output_type": "display_data"
    },
    {
     "data": {
      "text/plain": [
       "Index(['Id', 'GroupPlanId', 'OrganizationId', 'OrgStatusId',\n",
       "       'OrganizationReportId', 'Sys_CreatedUserId', 'Sys_ModifiedUserId'],\n",
       "      dtype='object')"
      ]
     },
     "metadata": {},
     "output_type": "display_data"
    },
    {
     "data": {
      "text/plain": [
       "'data_ProjectHistory'"
      ]
     },
     "metadata": {},
     "output_type": "display_data"
    },
    {
     "data": {
      "text/plain": [
       "Index(['Id', 'ProjectId', 'Description', 'Sys_ModifiedUserId'], dtype='object')"
      ]
     },
     "metadata": {},
     "output_type": "display_data"
    },
    {
     "data": {
      "text/plain": [
       "'data_ProjectReviewStep'"
      ]
     },
     "metadata": {},
     "output_type": "display_data"
    },
    {
     "data": {
      "text/plain": [
       "Index(['ID', 'Sequence', 'StepDescription', 'OnPassGoToID', 'OnFailGoToID'], dtype='object')"
      ]
     },
     "metadata": {},
     "output_type": "display_data"
    },
    {
     "data": {
      "text/plain": [
       "'data_Projects'"
      ]
     },
     "metadata": {},
     "output_type": "display_data"
    },
    {
     "data": {
      "text/plain": [
       "Index(['Id', 'ParentId', 'UPIN', 'ProjectNumber', 'FTALineItem', 'Description',\n",
       "       'EstimatedCost', 'Notes', 'Priority', 'ProjectStatusId',\n",
       "       'CreatedByUserId', 'CreatedDate', 'Sys_ModifiedUserId', 'ProjectYear',\n",
       "       'VehicleType', 'MilestoneDate', 'VehicleDosposition', 'Quantity',\n",
       "       'VehicleId', 'Favorite', 'VIN', 'PercentageDesignation',\n",
       "       'ProjectClosedDate', 'ProjectClosedUserId', 'BudgetProfileId',\n",
       "       'BeginDate', 'EndDate', 'VehicleClass', 'VehicleContractType',\n",
       "       'VehicleFuelType', 'ReplacingVehicle', 'MPOYesNo', 'FTIP',\n",
       "       'FTIPApprovalDate', 'STIPRefNumber', 'IsStimulusMoney'],\n",
       "      dtype='object')"
      ]
     },
     "metadata": {},
     "output_type": "display_data"
    },
    {
     "data": {
      "text/plain": [
       "'data_Project_Tasks'"
      ]
     },
     "metadata": {},
     "output_type": "display_data"
    },
    {
     "data": {
      "text/plain": [
       "Index(['Id', 'ParentId', 'FiscalYear', 'Title', 'TaskStatusId',\n",
       "       'Sys_ModifiedUserId'],\n",
       "      dtype='object')"
      ]
     },
     "metadata": {},
     "output_type": "display_data"
    },
    {
     "data": {
      "text/plain": [
       "'data_Project_Task_Funding'"
      ]
     },
     "metadata": {},
     "output_type": "display_data"
    },
    {
     "data": {
      "text/plain": [
       "Index(['Id', 'ParentId', 'Federal', 'State', 'Local', 'TRC', 'InKind', 'Other',\n",
       "       'Match', 'MatchFundSource', 'Sys_ModifiedUserId', 'OtherComment'],\n",
       "      dtype='object')"
      ]
     },
     "metadata": {},
     "output_type": "display_data"
    },
    {
     "data": {
      "text/plain": [
       "'no data in data_ReportExpenseLineItems'"
      ]
     },
     "metadata": {},
     "output_type": "display_data"
    },
    {
     "data": {
      "text/plain": [
       "'no data in data_ReportExpenseProjectSummaries'"
      ]
     },
     "metadata": {},
     "output_type": "display_data"
    },
    {
     "data": {
      "text/plain": [
       "'data_Reports'"
      ]
     },
     "metadata": {},
     "output_type": "display_data"
    },
    {
     "data": {
      "text/plain": [
       "Index(['Id', 'ReportCategoryId', 'ReportFile', 'ReportTitle', 'Sort',\n",
       "       'Sys_ModifiedUserId', 'PopupWindowSize'],\n",
       "      dtype='object')"
      ]
     },
     "metadata": {},
     "output_type": "display_data"
    },
    {
     "data": {
      "text/plain": [
       "'no data in data_RequestLog'"
      ]
     },
     "metadata": {},
     "output_type": "display_data"
    },
    {
     "data": {
      "text/plain": [
       "'data_ReviewTracking'"
      ]
     },
     "metadata": {},
     "output_type": "display_data"
    },
    {
     "data": {
      "text/plain": [
       "Index(['Id', 'PTManagerComments', 'AdministratorComments', 'DirectorComments',\n",
       "       'PTManagerId', 'AdministratorId', 'DirectorId',\n",
       "       'PTManagerIdModifiedDate', 'AdministratorIdModifiedDate',\n",
       "       'DirectorIdModifiedDate', 'IsComplete'],\n",
       "      dtype='object')"
      ]
     },
     "metadata": {},
     "output_type": "display_data"
    },
    {
     "data": {
      "text/plain": [
       "'data_ReviewType'"
      ]
     },
     "metadata": {},
     "output_type": "display_data"
    },
    {
     "data": {
      "text/plain": [
       "Index(['Id', 'ReviewType', 'Sys_ModifiedUserId'], dtype='object')"
      ]
     },
     "metadata": {},
     "output_type": "display_data"
    },
    {
     "data": {
      "text/plain": [
       "'no data in data_Scorecard_5307'"
      ]
     },
     "metadata": {},
     "output_type": "display_data"
    },
    {
     "data": {
      "text/plain": [
       "'data_Scorecard_5310_Expanded'"
      ]
     },
     "metadata": {},
     "output_type": "display_data"
    },
    {
     "data": {
      "text/plain": [
       "Index(['Id', 'UserId', 'OpportunityID', 'ProjectId', 'ProgGoalsObjectives',\n",
       "       'ProjImplementPlan', 'ProgPerfIndicators', 'CommOutreach',\n",
       "       'EmerPlanPrep', 'IsComplete', 'Sys_ModifiedUserId', 'NotRecommended',\n",
       "       'Score', 'Comments'],\n",
       "      dtype='object')"
      ]
     },
     "metadata": {},
     "output_type": "display_data"
    },
    {
     "data": {
      "text/plain": [
       "'data_Scorecard_5310_Traditional'"
      ]
     },
     "metadata": {},
     "output_type": "display_data"
    },
    {
     "data": {
      "text/plain": [
       "Index(['Id', 'UserId', 'OpportunityID', 'ProjectId', 'AoA_1a', 'AoA_1b',\n",
       "       'AoA_2a', 'AoA_2b', 'AoA_3a', 'AoA_4a', 'AoA_4b', 'AoA_4c', 'AoA_5a',\n",
       "       'AoA_6a', 'AoA_6b', 'AoA_7a', 'AoA_7b', 'AoA_8a', 'AoA_8b', 'AoA_8c',\n",
       "       'Cord_1a', 'Cord_1b', 'Cord_1c', 'Cord_1d', 'Cord_2a', 'Cord_2b',\n",
       "       'Cord_2c', 'SE_1a', 'SE_1b', 'SE_2a', 'SE_2b', 'SE_3a', 'SE_3b',\n",
       "       'SE_4a', 'SE_4b', 'IsComplete', 'Sys_ModifiedUserId', 'NotRecommended',\n",
       "       'Score', 'Comments'],\n",
       "      dtype='object')"
      ]
     },
     "metadata": {},
     "output_type": "display_data"
    },
    {
     "data": {
      "text/plain": [
       "'no data in data_Scorecard_5311'"
      ]
     },
     "metadata": {},
     "output_type": "display_data"
    },
    {
     "data": {
      "text/plain": [
       "'data_Scorecard_5311f'"
      ]
     },
     "metadata": {},
     "output_type": "display_data"
    },
    {
     "data": {
      "text/plain": [
       "Index(['Id', 'UserId', 'OpportunityID', 'ProjectId', 'PA_Sched', 'PA_GenPub',\n",
       "       'PA_Fixed', 'PA_Urb', 'PA_Trans', 'PA_LayOver', 'PA_Stops', 'PP_NonUrb',\n",
       "       'PP_Con', 'PP_Inter', 'PP_Trans', 'PP_Infra', 'PP_Out', 'QP_Def',\n",
       "       'QP_NO', 'QP_SG', 'QP_CIB', 'QP_MS', 'QP_POA', 'QP_SD', 'QP_CR',\n",
       "       'QP_IB', 'QP_GC', 'IsComplete', 'Sys_ModifiedUserId', 'NotRecommended',\n",
       "       'PA_Comments', 'PP_Comments', 'QP_Comments', 'Score'],\n",
       "      dtype='object')"
      ]
     },
     "metadata": {},
     "output_type": "display_data"
    },
    {
     "data": {
      "text/plain": [
       "'data_Scorecard_5311fv2'"
      ]
     },
     "metadata": {},
     "output_type": "display_data"
    },
    {
     "data": {
      "text/plain": [
       "Index(['Id', 'UserId', 'OpportunityID', 'ProjectId', 'PA_Evidence',\n",
       "       'PA_Feasibility', 'PA_Transportation', 'PA_Fiscal', 'PA_Coorordination',\n",
       "       'PA_Transit', 'PA_Comments', 'PA_Support', 'IsComplete',\n",
       "       'Sys_ModifiedUserId', 'NotRecommended', 'Score', 'Comments'],\n",
       "      dtype='object')"
      ]
     },
     "metadata": {},
     "output_type": "display_data"
    },
    {
     "data": {
      "text/plain": [
       "'no data in data_Scorecard_5311v2'"
      ]
     },
     "metadata": {},
     "output_type": "display_data"
    },
    {
     "data": {
      "text/plain": [
       "'no data in data_Scorecard_A'"
      ]
     },
     "metadata": {},
     "output_type": "display_data"
    },
    {
     "data": {
      "text/plain": [
       "'no data in data_Scorecard_OTPPP'"
      ]
     },
     "metadata": {},
     "output_type": "display_data"
    },
    {
     "data": {
      "text/plain": [
       "'data_ServerDefinedQueries'"
      ]
     },
     "metadata": {},
     "output_type": "display_data"
    },
    {
     "data": {
      "text/plain": [
       "Index(['Id', 'Title', 'SQL', 'Preview', 'Sys_ModifiedUserId'], dtype='object')"
      ]
     },
     "metadata": {},
     "output_type": "display_data"
    },
    {
     "data": {
      "text/plain": [
       "'data_ServiceHours'"
      ]
     },
     "metadata": {},
     "output_type": "display_data"
    },
    {
     "data": {
      "text/plain": [
       "Index(['Id', 'ServiceTypeTime', 'AverageWeekdaySchedule',\n",
       "       'AverageSaturdaySchedule', 'AverageSundaySchedule', 'WeekdayAMPeak',\n",
       "       'WeekdayMidday', 'WeekdayPMPeak', 'ServiceMode', 'OrganizationId',\n",
       "       'Sys_UserCreated', 'Sys_DateCreated', 'Sys_DateModified',\n",
       "       'ModeAssociationId'],\n",
       "      dtype='object')"
      ]
     },
     "metadata": {},
     "output_type": "display_data"
    },
    {
     "data": {
      "text/plain": [
       "'data_ServiceInfo'"
      ]
     },
     "metadata": {},
     "output_type": "display_data"
    },
    {
     "data": {
      "text/plain": [
       "Index(['Id', 'ServiceAreaId', 'ServicePopulation', 'Comments',\n",
       "       'OrganizationId', 'Sys_UserCreated', 'Sys_DateCreated',\n",
       "       'Sys_DateModified'],\n",
       "      dtype='object')"
      ]
     },
     "metadata": {},
     "output_type": "display_data"
    },
    {
     "data": {
      "text/plain": [
       "'data_ServiceInfo_SelectedModes'"
      ]
     },
     "metadata": {},
     "output_type": "display_data"
    },
    {
     "data": {
      "text/plain": [
       "Index(['Id', 'OrganizationId', 'ModeDescription', 'ModeId',\n",
       "       'ModeAssociationDescription', 'ModeAssociationId',\n",
       "       'Sys_UserModifiedDate'],\n",
       "      dtype='object')"
      ]
     },
     "metadata": {},
     "output_type": "display_data"
    },
    {
     "data": {
      "text/plain": [
       "'data_Status'"
      ]
     },
     "metadata": {},
     "output_type": "display_data"
    },
    {
     "data": {
      "text/plain": [
       "Index(['Id', 'Status'], dtype='object')"
      ]
     },
     "metadata": {},
     "output_type": "display_data"
    },
    {
     "data": {
      "text/plain": [
       "'data_TaskBudgetLines'"
      ]
     },
     "metadata": {},
     "output_type": "display_data"
    },
    {
     "data": {
      "text/plain": [
       "Index(['BudgetLineID', 'ProjectTaskId', 'ALI_StateCode', 'Value',\n",
       "       'Sys_ModifiedUserID'],\n",
       "      dtype='object')"
      ]
     },
     "metadata": {},
     "output_type": "display_data"
    },
    {
     "data": {
      "text/plain": [
       "'data_Transfer_Vehicles'"
      ]
     },
     "metadata": {},
     "output_type": "display_data"
    },
    {
     "data": {
      "text/plain": [
       "Index(['TransferId', 'OrganizationId', 'VehicleId', 'RequestDate',\n",
       "       'JustificationId', 'TransferToOrganizationId', 'FairMarketValue',\n",
       "       'FairMarketValueSource', 'VehicleStatusId', 'sys_CreatedUserId',\n",
       "       'sys_ModifiedUserId'],\n",
       "      dtype='object')"
      ]
     },
     "metadata": {},
     "output_type": "display_data"
    },
    {
     "data": {
      "text/plain": [
       "'data_UnionAffiliations'"
      ]
     },
     "metadata": {},
     "output_type": "display_data"
    },
    {
     "data": {
      "text/plain": [
       "Index(['AffiliationId', 'OrgId', 'AffiliationType', 'AffiliationName',\n",
       "       'Contact', 'Address', 'City', 'State', 'Zip', 'Phone', 'Email',\n",
       "       'Sys_ModifiedUserId'],\n",
       "      dtype='object')"
      ]
     },
     "metadata": {},
     "output_type": "display_data"
    },
    {
     "data": {
      "text/plain": [
       "'data_UnionNames'"
      ]
     },
     "metadata": {},
     "output_type": "display_data"
    },
    {
     "data": {
      "text/plain": [
       "Index(['Id', 'UnionName', 'OrgId', 'Sys_ModifiedUser'], dtype='object')"
      ]
     },
     "metadata": {},
     "output_type": "display_data"
    },
    {
     "data": {
      "text/plain": [
       "'data_UnionProvider'"
      ]
     },
     "metadata": {},
     "output_type": "display_data"
    },
    {
     "data": {
      "text/plain": [
       "Index(['Id', 'Provider', 'OrgId', 'Sys_ModifiedUser'], dtype='object')"
      ]
     },
     "metadata": {},
     "output_type": "display_data"
    },
    {
     "data": {
      "text/plain": [
       "'no data in data_VehicleDespositionActivity'"
      ]
     },
     "metadata": {},
     "output_type": "display_data"
    },
    {
     "data": {
      "text/plain": [
       "'no data in data_VehicleDispositions'"
      ]
     },
     "metadata": {},
     "output_type": "display_data"
    },
    {
     "data": {
      "text/plain": [
       "'no data in data_vehicles'"
      ]
     },
     "metadata": {},
     "output_type": "display_data"
    },
    {
     "data": {
      "text/plain": [
       "'data_VehicleThresholds'"
      ]
     },
     "metadata": {},
     "output_type": "display_data"
    },
    {
     "data": {
      "text/plain": [
       "Index(['VehicleThresholdId', 'Code', 'Comments', 'UsefulLife', 'Mileage'], dtype='object')"
      ]
     },
     "metadata": {},
     "output_type": "display_data"
    },
    {
     "data": {
      "text/plain": [
       "'no data in data_Veh_Maintenance'"
      ]
     },
     "metadata": {},
     "output_type": "display_data"
    },
    {
     "data": {
      "text/plain": [
       "'no data in data_Veh_Maintenance_LineItem'"
      ]
     },
     "metadata": {},
     "output_type": "display_data"
    },
    {
     "data": {
      "text/plain": [
       "'data_Widget_AttributeValues'"
      ]
     },
     "metadata": {},
     "output_type": "display_data"
    },
    {
     "data": {
      "text/plain": [
       "Index(['Id', 'EntityPropertyId', 'AttributeId', 'Value'], dtype='object')"
      ]
     },
     "metadata": {},
     "output_type": "display_data"
    },
    {
     "data": {
      "text/plain": [
       "'no data in extension_AgencyBudgets'"
      ]
     },
     "metadata": {},
     "output_type": "display_data"
    },
    {
     "data": {
      "text/plain": [
       "'extension_data_Comments'"
      ]
     },
     "metadata": {},
     "output_type": "display_data"
    },
    {
     "data": {
      "text/plain": [
       "Index(['CommentId', 'RequestId', 'Comment', 'Sys_ModifiedUserId'], dtype='object')"
      ]
     },
     "metadata": {},
     "output_type": "display_data"
    },
    {
     "data": {
      "text/plain": [
       "'extension_data_Grants'"
      ]
     },
     "metadata": {},
     "output_type": "display_data"
    },
    {
     "data": {
      "text/plain": [
       "Index(['GrantId', 'FiscalYear', 'FundSourceId', 'GrantNumber', 'AwardedTotal',\n",
       "       'AwardedDate', 'ExecutionDate', 'ExpirationDate', 'DateClosedbyFTA',\n",
       "       'Active', 'Deleted', 'CreatedDate', 'LastModified', 'Source',\n",
       "       'GrantStatusId', 'IsLocked', 'IsBudgeted', 'Deadline', 'PublicURL',\n",
       "       'AllocationsTotal', 'AllocationDate', 'DolDate', 'PopDate',\n",
       "       'DolDateSubmitted', 'DolDateSubmittedById', 'PopDateSubmitted',\n",
       "       'PopDateSubmittedById', 'Comments', 'Notes', 'Status', 'CreatedUserId',\n",
       "       'PublishedDate', 'ReopenedDate', 'ReopenedUserId', 'PublishedUserId',\n",
       "       'ClosedUserId', 'Chapter', 'Statute', 'Appropriation', 'Unit',\n",
       "       'ProjectID', 'StateFY', 'PEC', 'FAIN'],\n",
       "      dtype='object')"
      ]
     },
     "metadata": {},
     "output_type": "display_data"
    },
    {
     "data": {
      "text/plain": [
       "'extension_data_Grants_Distribution'"
      ]
     },
     "metadata": {},
     "output_type": "display_data"
    },
    {
     "data": {
      "text/plain": [
       "Index(['Id', 'GrantId', 'Title', 'Amount', 'Locked', 'Sys_ModifiedUserId'], dtype='object')"
      ]
     },
     "metadata": {},
     "output_type": "display_data"
    },
    {
     "data": {
      "text/plain": [
       "'no data in extension_data_Grants_Distribution_AgencyAmounts'"
      ]
     },
     "metadata": {},
     "output_type": "display_data"
    },
    {
     "data": {
      "text/plain": [
       "'no data in extension_data_JPATrackings'"
      ]
     },
     "metadata": {},
     "output_type": "display_data"
    },
    {
     "data": {
      "text/plain": [
       "'no data in extension_data_JPATrackings_Extension'"
      ]
     },
     "metadata": {},
     "output_type": "display_data"
    },
    {
     "data": {
      "text/plain": [
       "'no data in extension_data_PopRequests'"
      ]
     },
     "metadata": {},
     "output_type": "display_data"
    },
    {
     "data": {
      "text/plain": [
       "'no data in extension_data_ReviewSetup'"
      ]
     },
     "metadata": {},
     "output_type": "display_data"
    },
    {
     "data": {
      "text/plain": [
       "'no data in extension_data_TIP'"
      ]
     },
     "metadata": {},
     "output_type": "display_data"
    },
    {
     "data": {
      "text/plain": [
       "'no data in extension_data_TIP_Projects'"
      ]
     },
     "metadata": {},
     "output_type": "display_data"
    },
    {
     "data": {
      "text/plain": [
       "'no data in extension_data_TIP_Review'"
      ]
     },
     "metadata": {},
     "output_type": "display_data"
    },
    {
     "data": {
      "text/plain": [
       "'no data in extension_data_UserScoreCard'"
      ]
     },
     "metadata": {},
     "output_type": "display_data"
    },
    {
     "data": {
      "text/plain": [
       "'no data in extension_data_Wpo_JPA_Checklist'"
      ]
     },
     "metadata": {},
     "output_type": "display_data"
    },
    {
     "data": {
      "text/plain": [
       "'no data in extension_data_Wpo_JPA_Checklist_Review'"
      ]
     },
     "metadata": {},
     "output_type": "display_data"
    },
    {
     "data": {
      "text/plain": [
       "'no data in extension_link_CIP_Project'"
      ]
     },
     "metadata": {},
     "output_type": "display_data"
    },
    {
     "data": {
      "text/plain": [
       "'no data in extension_NTDAnnualReports_BasicContacts'"
      ]
     },
     "metadata": {},
     "output_type": "display_data"
    },
    {
     "data": {
      "text/plain": [
       "'extension_pl_AgendaTypes'"
      ]
     },
     "metadata": {},
     "output_type": "display_data"
    },
    {
     "data": {
      "text/plain": [
       "Index(['AgendaTypeId', 'Code', 'Name'], dtype='object')"
      ]
     },
     "metadata": {},
     "output_type": "display_data"
    },
    {
     "data": {
      "text/plain": [
       "'extension_pl_CIP_Status'"
      ]
     },
     "metadata": {},
     "output_type": "display_data"
    },
    {
     "data": {
      "text/plain": [
       "Index(['Id', 'Title'], dtype='object')"
      ]
     },
     "metadata": {},
     "output_type": "display_data"
    },
    {
     "data": {
      "text/plain": [
       "'extension_pl_GrantFundFields'"
      ]
     },
     "metadata": {},
     "output_type": "display_data"
    },
    {
     "data": {
      "text/plain": [
       "Index(['Id', 'Category'], dtype='object')"
      ]
     },
     "metadata": {},
     "output_type": "display_data"
    },
    {
     "data": {
      "text/plain": [
       "'extension_pl_GrantStatus'"
      ]
     },
     "metadata": {},
     "output_type": "display_data"
    },
    {
     "data": {
      "text/plain": [
       "Index(['Id', 'Title'], dtype='object')"
      ]
     },
     "metadata": {},
     "output_type": "display_data"
    },
    {
     "data": {
      "text/plain": [
       "'extension_pl_JPAStatus'"
      ]
     },
     "metadata": {},
     "output_type": "display_data"
    },
    {
     "data": {
      "text/plain": [
       "Index(['Id', 'StatusName'], dtype='object')"
      ]
     },
     "metadata": {},
     "output_type": "display_data"
    },
    {
     "data": {
      "text/plain": [
       "'extension_pl_NeedStatus'"
      ]
     },
     "metadata": {},
     "output_type": "display_data"
    },
    {
     "data": {
      "text/plain": [
       "Index(['Id', 'Title'], dtype='object')"
      ]
     },
     "metadata": {},
     "output_type": "display_data"
    },
    {
     "data": {
      "text/plain": [
       "'extension_pl_Organization_CIP'"
      ]
     },
     "metadata": {},
     "output_type": "display_data"
    },
    {
     "data": {
      "text/plain": [
       "Index(['Id', 'Type', 'Code', 'Title', 'Points'], dtype='object')"
      ]
     },
     "metadata": {},
     "output_type": "display_data"
    },
    {
     "data": {
      "text/plain": [
       "'extension_pl_ProjectCategory'"
      ]
     },
     "metadata": {},
     "output_type": "display_data"
    },
    {
     "data": {
      "text/plain": [
       "Index(['Id', 'Code', 'Title'], dtype='object')"
      ]
     },
     "metadata": {},
     "output_type": "display_data"
    },
    {
     "data": {
      "text/plain": [
       "'extension_pl_ProjectSubCategory'"
      ]
     },
     "metadata": {},
     "output_type": "display_data"
    },
    {
     "data": {
      "text/plain": [
       "Index(['Id', 'CategoryCode', 'ProjectCode', 'Title', 'Score'], dtype='object')"
      ]
     },
     "metadata": {},
     "output_type": "display_data"
    },
    {
     "data": {
      "text/plain": [
       "'extension_pl_StateCodes'"
      ]
     },
     "metadata": {},
     "output_type": "display_data"
    },
    {
     "data": {
      "text/plain": [
       "Index(['Id', 'StateCode', 'ProgramTitle'], dtype='object')"
      ]
     },
     "metadata": {},
     "output_type": "display_data"
    },
    {
     "data": {
      "text/plain": [
       "'extension_pl_TIP_Status'"
      ]
     },
     "metadata": {},
     "output_type": "display_data"
    },
    {
     "data": {
      "text/plain": [
       "Index(['Id', 'Title'], dtype='object')"
      ]
     },
     "metadata": {},
     "output_type": "display_data"
    },
    {
     "data": {
      "text/plain": [
       "'extension_pl_Wpo_JPM_ChecklistForms'"
      ]
     },
     "metadata": {},
     "output_type": "display_data"
    },
    {
     "data": {
      "text/plain": [
       "Index(['Id', 'GroupId', 'Title', 'Form', 'Sequence'], dtype='object')"
      ]
     },
     "metadata": {},
     "output_type": "display_data"
    },
    {
     "data": {
      "text/plain": [
       "'extension_pl_Wpo_JPM_ChecklistMilestones'"
      ]
     },
     "metadata": {},
     "output_type": "display_data"
    },
    {
     "data": {
      "text/plain": [
       "Index(['Id', 'MileStone', 'GroupId', 'FormId', 'NotificationId', 'Sequence'], dtype='object')"
      ]
     },
     "metadata": {},
     "output_type": "display_data"
    },
    {
     "data": {
      "text/plain": [
       "'extension_pl_Wpo_JPM_ChecklistNotifications'"
      ]
     },
     "metadata": {},
     "output_type": "display_data"
    },
    {
     "data": {
      "text/plain": [
       "Index(['Id', 'GroupId', 'Title', 'Notification1', 'Notification2', 'Sequence'], dtype='object')"
      ]
     },
     "metadata": {},
     "output_type": "display_data"
    },
    {
     "data": {
      "text/plain": [
       "'extension_rpt_Wpo_JFM'"
      ]
     },
     "metadata": {},
     "output_type": "display_data"
    },
    {
     "data": {
      "text/plain": [
       "Index(['Id', 'ContactId', 'FormId', 'AirportName', 'SponsorName', 'FMItem',\n",
       "       'Description', 'ExecutionDate', 'FirmName', 'CertifiedBy', 'Engineer',\n",
       "       'Contractor', 'FDOTInspector', 'UPIN'],\n",
       "      dtype='object')"
      ]
     },
     "metadata": {},
     "output_type": "display_data"
    },
    {
     "data": {
      "text/plain": [
       "'Fact_ApplicationDocuments'"
      ]
     },
     "metadata": {},
     "output_type": "display_data"
    },
    {
     "data": {
      "text/plain": [
       "Index(['Id', 'OrganizationId', 'DocumentCategoryId', 'FriendlyName',\n",
       "       'FileName', 'DocumentSize', 'Deleted', 'Archived', 'ModifiedDate',\n",
       "       'ModifiedUser', 'ExpiryDate'],\n",
       "      dtype='object')"
      ]
     },
     "metadata": {},
     "output_type": "display_data"
    },
    {
     "data": {
      "text/plain": [
       "'Fact_ApplicationDocument_Log'"
      ]
     },
     "metadata": {},
     "output_type": "display_data"
    },
    {
     "data": {
      "text/plain": [
       "Index(['Id', 'OrganizationId', 'ApplicationYear', 'DocumentId', 'ActionId',\n",
       "       'ModifiedDate', 'ModifiedUser', 'Document_TypeId'],\n",
       "      dtype='object')"
      ]
     },
     "metadata": {},
     "output_type": "display_data"
    },
    {
     "data": {
      "text/plain": [
       "'InventoryEquipment'"
      ]
     },
     "metadata": {},
     "output_type": "display_data"
    },
    {
     "data": {
      "text/plain": [
       "Index(['Id', 'CountyID', 'OrganizationId', 'AgencyName', 'InventoryNum',\n",
       "       'Condition', 'Description', 'DateInService', 'Manufacturer',\n",
       "       'AcquisitionCost', 'DateOutOfService', 'Disposed?', 'Comment',\n",
       "       'Sys_ModifiedUserId', 'DispositionDate', 'DOTFunded', 'FundingSource',\n",
       "       'Quantity', 'StandardAgreementNumber', 'GrantNumber', 'FederalShare',\n",
       "       'TollShare', 'OtherShare', 'TotalCost', 'DOTID', 'SerialNumber',\n",
       "       'PurchaseOrderNumber', 'PurchaseOrderDate', 'InvoiceNumber', 'Vendor',\n",
       "       'LastInspectionDate', 'NextInspectionDate', 'ImprovementType',\n",
       "       'Comments', 'InventoryID', 'EquipmentYear', 'Model', 'ULYearsRemaining',\n",
       "       'DateIn', 'DateOut', 'Location', 'CurrentYrCondition', 'EquipmentType',\n",
       "       'AverageCostPerUnit', 'FederalSharePer', 'TollSharePer', 'Status'],\n",
       "      dtype='object')"
      ]
     },
     "metadata": {},
     "output_type": "display_data"
    },
    {
     "data": {
      "text/plain": [
       "'no data in InventoryEquipment_Import'"
      ]
     },
     "metadata": {},
     "output_type": "display_data"
    },
    {
     "data": {
      "text/plain": [
       "'no data in InventoryFacility'"
      ]
     },
     "metadata": {},
     "output_type": "display_data"
    },
    {
     "data": {
      "text/plain": [
       "'no data in InventoryPNR'"
      ]
     },
     "metadata": {},
     "output_type": "display_data"
    },
    {
     "data": {
      "text/plain": [
       "'no data in InventoryRail'"
      ]
     },
     "metadata": {},
     "output_type": "display_data"
    },
    {
     "data": {
      "text/plain": [
       "'InventoryVehicle'"
      ]
     },
     "metadata": {},
     "output_type": "display_data"
    },
    {
     "data": {
      "text/plain": [
       "Index(['Id', 'OrganizationId', 'CountyID', 'AgencyName', 'InventoryID',\n",
       "       'CurrentYrMileage', 'CurrentYrCondition', 'ProjectNumber', 'Vendor',\n",
       "       'Mfr', 'Model', 'VehicleYear', 'VIN', 'PT_Code', 'Use', 'Fuel',\n",
       "       'RegSeats', 'DisSeats', 'Own?', 'Revenue?', 'Active?', 'DateIn',\n",
       "       'DateOut', 'Cost', 'FedPerc', 'OHPerc', 'DispositionValue',\n",
       "       'DispositionFedStatus', 'DispositionDate', 'DispositionMiles',\n",
       "       'Comments', 'Sys_ModifiedUserId', 'DOTFunded', 'FundingSource',\n",
       "       'VehicleStatus', 'LiscensePlate', 'GrantNumber', 'DOTLienStatus',\n",
       "       'FederalShare', 'TollShare', 'OtherShare', 'TotalCost', 'VehicleLength',\n",
       "       'Lift', 'LiftType', 'Ramp', 'RampType', 'MileageAsOfDate',\n",
       "       'FederalSharePer', 'TollSharePer', 'OtherSharePer', 'DOTID',\n",
       "       'StandardAgreementNumber', 'PurchaseOrderNumber', 'PurchaseOrderDate',\n",
       "       'InvoiceNumber', 'EquipmentReceivedDate', 'TitleNumber',\n",
       "       'TitleReleaseDate', 'ReportingReleaseDate', 'WheelchairPositions',\n",
       "       'ImprovementType', 'ReplaceVIN', 'ULYearsRemaining',\n",
       "       'ULMileageRemaining', 'YearRebuild', 'VehicleTransferDate',\n",
       "       'TransferRecipient', 'TransferSANumber', 'LastInspectionDate',\n",
       "       'NextInspectionDate', 'Program', 'FTACategory', 'LocalShare',\n",
       "       'LocalSharePer', 'MfrSec', 'WheelchairEquiped', 'VehicleClass',\n",
       "       'BusNum', 'FairMarketValue', 'SoldPrice', 'ULExpirationDate'],\n",
       "      dtype='object')"
      ]
     },
     "metadata": {},
     "output_type": "display_data"
    },
    {
     "data": {
      "text/plain": [
       "'InventoryVehicles_Import'"
      ]
     },
     "metadata": {},
     "output_type": "display_data"
    },
    {
     "data": {
      "text/plain": [
       "Index(['Id', 'OrganizationId', 'Agency', 'District', 'Funded By DOT?',\n",
       "       'State or Federal', 'Program', 'SA #', 'Grant ', 'Program Share',\n",
       "       'Program Perecent', 'Toll Credit', 'Toll Credit Percent',\n",
       "       'Federal Share', 'Federal Share Percent', 'Local Share',\n",
       "       'Local Share Percent', 'Vehicle Cost', 'Bus #',\n",
       "       'Does Caltrans Hold Title as Lienholder?', 'Title Number',\n",
       "       'Vehicle License Plate Number', 'Current Mileage', 'Vehicle Use',\n",
       "       'Status', 'Improvement Type', 'VIN Number', 'Year', 'FTA Category',\n",
       "       'Vehicle Class', 'Secondary Manufacturer', 'Chassis', 'Fuel Type',\n",
       "       'Vehicle Length', 'Equipped with Wheelchair Lift?',\n",
       "       'Ambulatory Seating Capacity', 'Wheelchair Positions',\n",
       "       'Placed Into Service Date', 'FTA Useful Life Years',\n",
       "       'Useful Life Expiration Date', 'FTA Useful Life Mileage',\n",
       "       'Vehicle Release from Reporting Date', 'Year Rebuild',\n",
       "       'Last Inspection Date', 'Vehicle Condition', 'Next Inspection Date',\n",
       "       'Purchase Order Number', 'Purchase Order Date', 'Invoice Number',\n",
       "       'Vendor', 'Equipment Transfer Date', 'Equipment Transfer Recipient',\n",
       "       'Vehicle Transfer SA#',\n",
       "       'Fair Market Value at Time of Diposition Request', 'Sold Price',\n",
       "       'Disposition Date', 'Comments', 'Sys_ModifiedUserId'],\n",
       "      dtype='object')"
      ]
     },
     "metadata": {},
     "output_type": "display_data"
    },
    {
     "data": {
      "text/plain": [
       "'no data in InventoryVehicles_Import_2'"
      ]
     },
     "metadata": {},
     "output_type": "display_data"
    },
    {
     "data": {
      "text/plain": [
       "'no data in LINE_ITEMS'"
      ]
     },
     "metadata": {},
     "output_type": "display_data"
    },
    {
     "data": {
      "text/plain": [
       "'no data in LINE_ITEM_TYPES'"
      ]
     },
     "metadata": {},
     "output_type": "display_data"
    },
    {
     "data": {
      "text/plain": [
       "'link_ALI_StateCodes'"
      ]
     },
     "metadata": {},
     "output_type": "display_data"
    },
    {
     "data": {
      "text/plain": [
       "Index(['ID', 'ALIID', 'StateLineCode'], dtype='object')"
      ]
     },
     "metadata": {},
     "output_type": "display_data"
    },
    {
     "data": {
      "text/plain": [
       "'link_Contract_Allocations'"
      ]
     },
     "metadata": {},
     "output_type": "display_data"
    },
    {
     "data": {
      "text/plain": [
       "Index(['Id', 'ContractId', 'AllocationId', 'RequestId'], dtype='object')"
      ]
     },
     "metadata": {},
     "output_type": "display_data"
    },
    {
     "data": {
      "text/plain": [
       "'no data in link_Contract_Amendments'"
      ]
     },
     "metadata": {},
     "output_type": "display_data"
    },
    {
     "data": {
      "text/plain": [
       "'no data in link_Contract_ProjectRequest'"
      ]
     },
     "metadata": {},
     "output_type": "display_data"
    },
    {
     "data": {
      "text/plain": [
       "'no data in Link_DistrictReps'"
      ]
     },
     "metadata": {},
     "output_type": "display_data"
    },
    {
     "data": {
      "text/plain": [
       "'no data in link_DynamicField_Options'"
      ]
     },
     "metadata": {},
     "output_type": "display_data"
    },
    {
     "data": {
      "text/plain": [
       "'no data in link_EntityDescendents'"
      ]
     },
     "metadata": {},
     "output_type": "display_data"
    },
    {
     "data": {
      "text/plain": [
       "'link_EntityRelations'"
      ]
     },
     "metadata": {},
     "output_type": "display_data"
    },
    {
     "data": {
      "text/plain": [
       "Index(['EntityRelationId', 'EntityId', 'RelationEntityId'], dtype='object')"
      ]
     },
     "metadata": {},
     "output_type": "display_data"
    },
    {
     "data": {
      "text/plain": [
       "'link_Entity_EntityProperties'"
      ]
     },
     "metadata": {},
     "output_type": "display_data"
    },
    {
     "data": {
      "text/plain": [
       "Index(['Id', 'EntityId', 'EntityPropertyId', 'SectionId',\n",
       "       'Sys_ModifiedUserId'],\n",
       "      dtype='object')"
      ]
     },
     "metadata": {},
     "output_type": "display_data"
    },
    {
     "data": {
      "text/plain": [
       "'link_Equipment_Mode'"
      ]
     },
     "metadata": {},
     "output_type": "display_data"
    },
    {
     "data": {
      "text/plain": [
       "Index(['Id', 'EquipmentId', 'ModeId'], dtype='object')"
      ]
     },
     "metadata": {},
     "output_type": "display_data"
    },
    {
     "data": {
      "text/plain": [
       "'link_Facility_ServiceProvider'"
      ]
     },
     "metadata": {},
     "output_type": "display_data"
    },
    {
     "data": {
      "text/plain": [
       "Index(['Id', 'FacilityId', 'OrganizationId'], dtype='object')"
      ]
     },
     "metadata": {},
     "output_type": "display_data"
    },
    {
     "data": {
      "text/plain": [
       "'no data in link_Finding_Comment'"
      ]
     },
     "metadata": {},
     "output_type": "display_data"
    },
    {
     "data": {
      "text/plain": [
       "'link_GrantScoreCard'"
      ]
     },
     "metadata": {},
     "output_type": "display_data"
    },
    {
     "data": {
      "text/plain": [
       "Index(['Id', 'GrantId', 'ScoreCard', 'Type', 'TableName'], dtype='object')"
      ]
     },
     "metadata": {},
     "output_type": "display_data"
    },
    {
     "data": {
      "text/plain": [
       "'link_ImportantDocuments_Category_Type'"
      ]
     },
     "metadata": {},
     "output_type": "display_data"
    },
    {
     "data": {
      "text/plain": [
       "Index(['Id', 'ImportantDocumentsCategoryId', 'ImportantDocumentsTypeId'], dtype='object')"
      ]
     },
     "metadata": {},
     "output_type": "display_data"
    },
    {
     "data": {
      "text/plain": [
       "'link_ImportantDocumentType_SuppliedDocument'"
      ]
     },
     "metadata": {},
     "output_type": "display_data"
    },
    {
     "data": {
      "text/plain": [
       "Index(['Id', 'ImportantDocumentsTypeId', 'FileName', 'UploadedDate',\n",
       "       'Archived'],\n",
       "      dtype='object')"
      ]
     },
     "metadata": {},
     "output_type": "display_data"
    },
    {
     "data": {
      "text/plain": [
       "'link_Inspection_Folder'"
      ]
     },
     "metadata": {},
     "output_type": "display_data"
    },
    {
     "data": {
      "text/plain": [
       "Index(['Id', 'InspectionId', 'FolderId'], dtype='object')"
      ]
     },
     "metadata": {},
     "output_type": "display_data"
    },
    {
     "data": {
      "text/plain": [
       "'no data in link_OrganizationContactType'"
      ]
     },
     "metadata": {},
     "output_type": "display_data"
    },
    {
     "data": {
      "text/plain": [
       "'link_OrganizationFundSources'"
      ]
     },
     "metadata": {},
     "output_type": "display_data"
    },
    {
     "data": {
      "text/plain": [
       "Index(['OrganizationFundSourceId', 'OrganizationId', 'FundingSourceId'], dtype='object')"
      ]
     },
     "metadata": {},
     "output_type": "display_data"
    },
    {
     "data": {
      "text/plain": [
       "'no data in link_OrganizationPlannedProjects'"
      ]
     },
     "metadata": {},
     "output_type": "display_data"
    },
    {
     "data": {
      "text/plain": [
       "'link_OrganizationRidership_VehicleNarrative'"
      ]
     },
     "metadata": {},
     "output_type": "display_data"
    },
    {
     "data": {
      "text/plain": [
       "Index(['Id', 'RidershipReportId', 'ReportId', 'VehicleId', 'NarrativeType',\n",
       "       'NarrativeDescription', 'Sys_UserModifiedId'],\n",
       "      dtype='object')"
      ]
     },
     "metadata": {},
     "output_type": "display_data"
    },
    {
     "data": {
      "text/plain": [
       "'link_OrgId_EntityRecordId_OLD_MAPPINGS'"
      ]
     },
     "metadata": {},
     "output_type": "display_data"
    },
    {
     "data": {
      "text/plain": [
       "Index(['Id', 'OrgId', 'EntityRecordId'], dtype='object')"
      ]
     },
     "metadata": {},
     "output_type": "display_data"
    },
    {
     "data": {
      "text/plain": [
       "'link_PerformanceMeasuresEquipment'"
      ]
     },
     "metadata": {},
     "output_type": "display_data"
    },
    {
     "data": {
      "text/plain": [
       "Index(['Id', 'PerformanceMeasuresId', 'EquipmentTypeId', 'Years',\n",
       "       'YearsEditRule', 'RulePercent', 'PercentEditRule', 'Sys_CreatedUserId',\n",
       "       'Sys_ModifiedUserId', 'GroupPlanId'],\n",
       "      dtype='object')"
      ]
     },
     "metadata": {},
     "output_type": "display_data"
    },
    {
     "data": {
      "text/plain": [
       "'link_PerformanceMeasuresEquipmentOrg'"
      ]
     },
     "metadata": {},
     "output_type": "display_data"
    },
    {
     "data": {
      "text/plain": [
       "Index(['Id', 'PerformanceMeasuresEquipmentID', 'Organizationid', 'Years',\n",
       "       'RulePercent', 'Sys_CreatedUserId', 'Sys_ModifiedUserId'],\n",
       "      dtype='object')"
      ]
     },
     "metadata": {},
     "output_type": "display_data"
    },
    {
     "data": {
      "text/plain": [
       "'link_PerformanceMeasuresFacilities'"
      ]
     },
     "metadata": {},
     "output_type": "display_data"
    },
    {
     "data": {
      "text/plain": [
       "Index(['Id', 'PerformanceMeasuresId', 'FacilityType', 'ConditionId',\n",
       "       'RatingEditRule', 'RulePercent', 'PercentEditRule', 'Sys_CreatedUserId',\n",
       "       'Sys_ModifiedUserId', 'GroupPlanId'],\n",
       "      dtype='object')"
      ]
     },
     "metadata": {},
     "output_type": "display_data"
    },
    {
     "data": {
      "text/plain": [
       "'link_PerformanceMeasuresFacilitiesOrg'"
      ]
     },
     "metadata": {},
     "output_type": "display_data"
    },
    {
     "data": {
      "text/plain": [
       "Index(['Id', 'PerformanceMeasuresFacilitiesId', 'OrganizationId',\n",
       "       'ConditionId', 'RulePercent', 'Sys_CreatedUserId',\n",
       "       'Sys_ModifiedUserId'],\n",
       "      dtype='object')"
      ]
     },
     "metadata": {},
     "output_type": "display_data"
    },
    {
     "data": {
      "text/plain": [
       "'link_PerformanceMeasuresGroupInventoryTypes'"
      ]
     },
     "metadata": {},
     "output_type": "display_data"
    },
    {
     "data": {
      "text/plain": [
       "Index(['Id', 'PerformanceMeasuresGroupPlanId', 'InventoryTypeId'], dtype='object')"
      ]
     },
     "metadata": {},
     "output_type": "display_data"
    },
    {
     "data": {
      "text/plain": [
       "'link_PerformanceMeasuresVehicle'"
      ]
     },
     "metadata": {},
     "output_type": "display_data"
    },
    {
     "data": {
      "text/plain": [
       "Index(['Id', 'PerformanceMeasuresId', 'VehicleTypeId', 'Years',\n",
       "       'YearsEditRule', 'RulePercent', 'PercentEditRule', 'Sys_CreatedUserId',\n",
       "       'Sys_ModifiedUserId', 'GroupPlanId'],\n",
       "      dtype='object')"
      ]
     },
     "metadata": {},
     "output_type": "display_data"
    },
    {
     "data": {
      "text/plain": [
       "'link_PerformanceMeasuresVehicleOrg'"
      ]
     },
     "metadata": {},
     "output_type": "display_data"
    },
    {
     "data": {
      "text/plain": [
       "Index(['Id', 'PerformanceMeasuresVehicleID', 'Organizationid', 'Years',\n",
       "       'RulePercent', 'Sys_CreatedUserId', 'Sys_ModifiedUserId'],\n",
       "      dtype='object')"
      ]
     },
     "metadata": {},
     "output_type": "display_data"
    },
    {
     "data": {
      "text/plain": [
       "'no data in link_Program_Application'"
      ]
     },
     "metadata": {},
     "output_type": "display_data"
    },
    {
     "data": {
      "text/plain": [
       "'link_ProjectReviewStep_Project'"
      ]
     },
     "metadata": {},
     "output_type": "display_data"
    },
    {
     "data": {
      "text/plain": [
       "Index(['ID', 'OpportunityID', 'ProjectID', 'ProjectReviewStepID', 'UserID',\n",
       "       'CreatedDate', 'SysStatusID'],\n",
       "      dtype='object')"
      ]
     },
     "metadata": {},
     "output_type": "display_data"
    },
    {
     "data": {
      "text/plain": [
       "'no data in link_ProjectVehicleMaintenance'"
      ]
     },
     "metadata": {},
     "output_type": "display_data"
    },
    {
     "data": {
      "text/plain": [
       "'link_Report_Entity'"
      ]
     },
     "metadata": {},
     "output_type": "display_data"
    },
    {
     "data": {
      "text/plain": [
       "Index(['Id', 'EntityId', 'ReportId', 'ReportLinkText'], dtype='object')"
      ]
     },
     "metadata": {},
     "output_type": "display_data"
    },
    {
     "data": {
      "text/plain": [
       "'link_ReviewType_Folder'"
      ]
     },
     "metadata": {},
     "output_type": "display_data"
    },
    {
     "data": {
      "text/plain": [
       "Index(['Id', 'ReviewTypeId', 'FolderId', 'Sys_ModifiedUserId'], dtype='object')"
      ]
     },
     "metadata": {},
     "output_type": "display_data"
    },
    {
     "data": {
      "text/plain": [
       "'link_ReviewType_Reviewers'"
      ]
     },
     "metadata": {},
     "output_type": "display_data"
    },
    {
     "data": {
      "text/plain": [
       "Index(['ReviewTypeId', 'ReviewerUserId'], dtype='object')"
      ]
     },
     "metadata": {},
     "output_type": "display_data"
    },
    {
     "data": {
      "text/plain": [
       "'no data in link_Review_User_Opportunity'"
      ]
     },
     "metadata": {},
     "output_type": "display_data"
    },
    {
     "data": {
      "text/plain": [
       "'link_Review_User_Project'"
      ]
     },
     "metadata": {},
     "output_type": "display_data"
    },
    {
     "data": {
      "text/plain": [
       "Index(['Id', 'OpportunityId', 'ProjectId', 'UserId', 'Complete', 'Score',\n",
       "       'Sys_LastModifiedDate'],\n",
       "      dtype='object')"
      ]
     },
     "metadata": {},
     "output_type": "display_data"
    },
    {
     "data": {
      "text/plain": [
       "'link_ServiceInfo_County_Organization'"
      ]
     },
     "metadata": {},
     "output_type": "display_data"
    },
    {
     "data": {
      "text/plain": [
       "Index(['Id', 'CountyId', 'OrganizationId'], dtype='object')"
      ]
     },
     "metadata": {},
     "output_type": "display_data"
    },
    {
     "data": {
      "text/plain": [
       "'link_ServiceInfo_Modes_Organization'"
      ]
     },
     "metadata": {},
     "output_type": "display_data"
    },
    {
     "data": {
      "text/plain": [
       "Index(['Id', 'ModeId', 'OrganizationId', 'ModeAssociation'], dtype='object')"
      ]
     },
     "metadata": {},
     "output_type": "display_data"
    },
    {
     "data": {
      "text/plain": [
       "'link_ServiceInfo_Municipalities_Organization'"
      ]
     },
     "metadata": {},
     "output_type": "display_data"
    },
    {
     "data": {
      "text/plain": [
       "Index(['Id', 'MunicipalityId', 'OrganizationId'], dtype='object')"
      ]
     },
     "metadata": {},
     "output_type": "display_data"
    },
    {
     "data": {
      "text/plain": [
       "'link_ServiceInfo_UrbanizedArea_Organization'"
      ]
     },
     "metadata": {},
     "output_type": "display_data"
    },
    {
     "data": {
      "text/plain": [
       "Index(['Id', 'UrbanizedId', 'OrganizationId'], dtype='object')"
      ]
     },
     "metadata": {},
     "output_type": "display_data"
    },
    {
     "data": {
      "text/plain": [
       "'link_UserContactType'"
      ]
     },
     "metadata": {},
     "output_type": "display_data"
    },
    {
     "data": {
      "text/plain": [
       "Index(['ID', 'ContactTypeId', 'UserId'], dtype='object')"
      ]
     },
     "metadata": {},
     "output_type": "display_data"
    },
    {
     "data": {
      "text/plain": [
       "'no data in link_User_DashboardControl'"
      ]
     },
     "metadata": {},
     "output_type": "display_data"
    },
    {
     "data": {
      "text/plain": [
       "'link_User_Grant'"
      ]
     },
     "metadata": {},
     "output_type": "display_data"
    },
    {
     "data": {
      "text/plain": [
       "Index(['Id', 'UserId', 'GrantId'], dtype='object')"
      ]
     },
     "metadata": {},
     "output_type": "display_data"
    },
    {
     "data": {
      "text/plain": [
       "'link_User_Group'"
      ]
     },
     "metadata": {},
     "output_type": "display_data"
    },
    {
     "data": {
      "text/plain": [
       "Index(['Id', 'UserId', 'GroupId'], dtype='object')"
      ]
     },
     "metadata": {},
     "output_type": "display_data"
    },
    {
     "data": {
      "text/plain": [
       "'link_User_Organization'"
      ]
     },
     "metadata": {},
     "output_type": "display_data"
    },
    {
     "data": {
      "text/plain": [
       "Index(['Id', 'UserId', 'OrganizationId'], dtype='object')"
      ]
     },
     "metadata": {},
     "output_type": "display_data"
    },
    {
     "data": {
      "text/plain": [
       "'link_VehicleClassContractType'"
      ]
     },
     "metadata": {},
     "output_type": "display_data"
    },
    {
     "data": {
      "text/plain": [
       "Index(['Id', 'ClassId', 'VehicleContractTypeId'], dtype='object')"
      ]
     },
     "metadata": {},
     "output_type": "display_data"
    },
    {
     "data": {
      "text/plain": [
       "'link_VehicleClassFuelType'"
      ]
     },
     "metadata": {},
     "output_type": "display_data"
    },
    {
     "data": {
      "text/plain": [
       "Index(['Id', 'ClassId', 'FuelID'], dtype='object')"
      ]
     },
     "metadata": {},
     "output_type": "display_data"
    },
    {
     "data": {
      "text/plain": [
       "'link_VehicleDispositions'"
      ]
     },
     "metadata": {},
     "output_type": "display_data"
    },
    {
     "data": {
      "text/plain": [
       "Index(['Id', 'VehicleId', 'DispositionId'], dtype='object')"
      ]
     },
     "metadata": {},
     "output_type": "display_data"
    },
    {
     "data": {
      "text/plain": [
       "'link_VehicleFTACodeClass'"
      ]
     },
     "metadata": {},
     "output_type": "display_data"
    },
    {
     "data": {
      "text/plain": [
       "Index(['Id', 'CodeId', 'ClassId'], dtype='object')"
      ]
     },
     "metadata": {},
     "output_type": "display_data"
    },
    {
     "data": {
      "text/plain": [
       "'link_Vehicle_Mode'"
      ]
     },
     "metadata": {},
     "output_type": "display_data"
    },
    {
     "data": {
      "text/plain": [
       "Index(['Id', 'VehicleId', 'VehicleModeId'], dtype='object')"
      ]
     },
     "metadata": {},
     "output_type": "display_data"
    },
    {
     "data": {
      "text/plain": [
       "'link_WatchlistProjects'"
      ]
     },
     "metadata": {},
     "output_type": "display_data"
    },
    {
     "data": {
      "text/plain": [
       "Index(['Id', 'UserId', 'ProjectId'], dtype='object')"
      ]
     },
     "metadata": {},
     "output_type": "display_data"
    },
    {
     "data": {
      "text/plain": [
       "'link_WidgetType_Attributes'"
      ]
     },
     "metadata": {},
     "output_type": "display_data"
    },
    {
     "data": {
      "text/plain": [
       "Index(['Id', 'WidgetTypeId', 'AttributeId'], dtype='object')"
      ]
     },
     "metadata": {},
     "output_type": "display_data"
    },
    {
     "data": {
      "text/plain": [
       "'no data in MPOs'"
      ]
     },
     "metadata": {},
     "output_type": "display_data"
    },
    {
     "data": {
      "text/plain": [
       "'no data in OrganizationAdditionalContacts'"
      ]
     },
     "metadata": {},
     "output_type": "display_data"
    },
    {
     "data": {
      "text/plain": [
       "'OrganizationContacts'"
      ]
     },
     "metadata": {},
     "output_type": "display_data"
    },
    {
     "data": {
      "text/plain": [
       "Index(['Id', 'OrganizationId', 'Salutation', 'FirstName', 'MiddleInitial',\n",
       "       'LastName', 'Suffix', 'Position', 'ContactTypeId', 'Address1',\n",
       "       'Address2', 'City', 'County', 'State', 'ZipCode', 'PrimaryPhone',\n",
       "       'PrimaryPhoneExt', 'SecondaryPhone', 'SecondaryPhoneExt',\n",
       "       'PrimaryEmail', 'SecondaryEmail', 'Comments', 'Sys_ModifiedUserId'],\n",
       "      dtype='object')"
      ]
     },
     "metadata": {},
     "output_type": "display_data"
    },
    {
     "data": {
      "text/plain": [
       "'no data in OrganizationConversion'"
      ]
     },
     "metadata": {},
     "output_type": "display_data"
    },
    {
     "data": {
      "text/plain": [
       "'OrganizationCounties'"
      ]
     },
     "metadata": {},
     "output_type": "display_data"
    },
    {
     "data": {
      "text/plain": [
       "Index(['Id', 'OrganizationId', 'CountyList', 'Sys_UserModified'], dtype='object')"
      ]
     },
     "metadata": {},
     "output_type": "display_data"
    },
    {
     "data": {
      "text/plain": [
       "'no data in OrganizationCTD'"
      ]
     },
     "metadata": {},
     "output_type": "display_data"
    },
    {
     "data": {
      "text/plain": [
       "'OrganizationDistrict'"
      ]
     },
     "metadata": {},
     "output_type": "display_data"
    },
    {
     "data": {
      "text/plain": [
       "Index(['Id', 'OrganizationId', 'DistrictList', 'Sys_UserModified'], dtype='object')"
      ]
     },
     "metadata": {},
     "output_type": "display_data"
    },
    {
     "data": {
      "text/plain": [
       "'OrganizationFares'"
      ]
     },
     "metadata": {},
     "output_type": "display_data"
    },
    {
     "data": {
      "text/plain": [
       "Index(['Id', 'OrganizationId', 'BaseFixed', 'BaseDemand', 'YouthFixed',\n",
       "       'YouthDemand', 'EDFixed', 'EDDemand', 'TransfersFixed',\n",
       "       'TransfersDemand', 'Memo', 'PublicFareChangeProcess', 'FareStructure',\n",
       "       'DiscountTypes', 'FareMedia', 'RAddressOne', 'RAddressTwo', 'RCity',\n",
       "       'RState', 'RZip', 'FareEffectiveDate'],\n",
       "      dtype='object')"
      ]
     },
     "metadata": {},
     "output_type": "display_data"
    },
    {
     "data": {
      "text/plain": [
       "'no data in OrganizationFundingSources'"
      ]
     },
     "metadata": {},
     "output_type": "display_data"
    },
    {
     "data": {
      "text/plain": [
       "'OrganizationGrantee'"
      ]
     },
     "metadata": {},
     "output_type": "display_data"
    },
    {
     "data": {
      "text/plain": [
       "Index(['Id', 'OrganizationId', 'Name', 'Address1', 'Address2', 'City', 'State',\n",
       "       'Zipcode', 'ContactName', 'ContactTitle', 'Phone', 'Fax', 'Email',\n",
       "       'OrganizationContactId', 'Same', 'GranteeContactId'],\n",
       "      dtype='object')"
      ]
     },
     "metadata": {},
     "output_type": "display_data"
    },
    {
     "data": {
      "text/plain": [
       "'OrganizationInventoryTypes'"
      ]
     },
     "metadata": {},
     "output_type": "display_data"
    },
    {
     "data": {
      "text/plain": [
       "Index(['Id', 'InventoryType'], dtype='object')"
      ]
     },
     "metadata": {},
     "output_type": "display_data"
    },
    {
     "data": {
      "text/plain": [
       "'OrganizationReportComponents'"
      ]
     },
     "metadata": {},
     "output_type": "display_data"
    },
    {
     "data": {
      "text/plain": [
       "Index(['OrganizationComponentId', 'ReportId', 'ReportComponentId', 'Completed',\n",
       "       'ReviewComment', 'Sys_ModifiedUserId'],\n",
       "      dtype='object')"
      ]
     },
     "metadata": {},
     "output_type": "display_data"
    },
    {
     "data": {
      "text/plain": [
       "'OrganizationReports'"
      ]
     },
     "metadata": {},
     "output_type": "display_data"
    },
    {
     "data": {
      "text/plain": [
       "Index(['ReportId', 'OrganizationId', 'Year', 'Type', 'Period', 'Status',\n",
       "       'ReviewComment', 'Sys_ModifiedUserId', 'ReportProfileType',\n",
       "       'CompositeKey', 'ContractId', 'AttestedVersion', 'ContractBudgetId'],\n",
       "      dtype='object')"
      ]
     },
     "metadata": {},
     "output_type": "display_data"
    },
    {
     "data": {
      "text/plain": [
       "'OrganizationReport_Comment'"
      ]
     },
     "metadata": {},
     "output_type": "display_data"
    },
    {
     "data": {
      "text/plain": [
       "Index(['Id', 'ReportId', 'Comment'], dtype='object')"
      ]
     },
     "metadata": {},
     "output_type": "display_data"
    },
    {
     "data": {
      "text/plain": [
       "'Organizations'"
      ]
     },
     "metadata": {},
     "output_type": "display_data"
    },
    {
     "data": {
      "text/plain": [
       "Index(['Id', 'Name', 'Address1', 'Address2', 'City', 'State', 'Zipcode',\n",
       "       'Phone', 'Fax', 'Acronym', 'WebsiteURL', 'Sys_ModifiedUserId',\n",
       "       'EntityRecordId', 'OrganizationContactId', 'MPOId', 'ProgramType',\n",
       "       'CountyImageWeb', 'CountyImageServer', 'RepUserId', 'County',\n",
       "       'DistrictNumber', 'DUNSNumber', 'FederalId', 'Districts', 'Counties',\n",
       "       'MailingAddress1', 'MailingAddress2', 'MailingCity', 'MailingZip',\n",
       "       'MailingState', 'SecondaryOrganizationContactId', 'MainContactEmail',\n",
       "       'AlternatePhone', 'LiscensePlate', 'VCUSTNumber', 'USDOTNumber',\n",
       "       'GovernanceType', 'MPOJurisdiction', 'UrbanizedAreas',\n",
       "       'UnionAffiliations', 'SenateDistrict', 'AssemblyDistrict',\n",
       "       'CalTranDistrict', 'EmergnecyEvacuationPlan', 'ServiceProvider',\n",
       "       'VendorNumber', 'AddressCode', 'LegalName', 'CommonName', 'ZipCode2',\n",
       "       'Website', 'PrimaryContactId', 'PrimaryContactName',\n",
       "       'PrimaryContactMainPhone', 'OrganizationType', 'NTDReportingId',\n",
       "       'OrgType', 'RegisteredDBAName', 'RemittanceState', 'RemittanceAddress1',\n",
       "       'RemittanceAddress2', 'RemittanceCity', 'RemittanceZipCode',\n",
       "       'TransitRelatedEmployees', 'GTFS'],\n",
       "      dtype='object')"
      ]
     },
     "metadata": {},
     "output_type": "display_data"
    },
    {
     "data": {
      "text/plain": [
       "'OrganizationServiceHours'"
      ]
     },
     "metadata": {},
     "output_type": "display_data"
    },
    {
     "data": {
      "text/plain": [
       "Index(['Id', 'OrganizationId', 'WeekDayStartTimeFixed', 'WeekDayEndTimeFixed',\n",
       "       'WeekDayStartTimeDemand', 'WeekDayEndTimeDemand',\n",
       "       'SaturdayStartTimeFixed', 'SaturdayEndTimeFixed',\n",
       "       'SaturdayStartTimeDemand', 'SaturdayEndTimeDemand',\n",
       "       'SundayStartTimeFixed', 'SundayEndTimeFixed', 'SundayStartTimeDemand',\n",
       "       'SundayEndTimeDemand', 'Memo', 'OperationDays'],\n",
       "      dtype='object')"
      ]
     },
     "metadata": {},
     "output_type": "display_data"
    },
    {
     "data": {
      "text/plain": [
       "'OrganizationSystem'"
      ]
     },
     "metadata": {},
     "output_type": "display_data"
    },
    {
     "data": {
      "text/plain": [
       "Index(['Id', 'OrganizationId', 'SystemType', 'SystemArea', 'AgencyType',\n",
       "       'ServiceType', 'Comments', 'AgencyId'],\n",
       "      dtype='object')"
      ]
     },
     "metadata": {},
     "output_type": "display_data"
    },
    {
     "data": {
      "text/plain": [
       "'OrganizationSystemTypes'"
      ]
     },
     "metadata": {},
     "output_type": "display_data"
    },
    {
     "data": {
      "text/plain": [
       "Index(['Id', 'OrgTypeName', 'EntityRecordId'], dtype='object')"
      ]
     },
     "metadata": {},
     "output_type": "display_data"
    },
    {
     "data": {
      "text/plain": [
       "'Organizations_Imported'"
      ]
     },
     "metadata": {},
     "output_type": "display_data"
    },
    {
     "data": {
      "text/plain": [
       "Index(['Org Type', 'Legal Name', 'AcronymDBA', 'ADDRESS', 'CITY', 'State',\n",
       "       'ZIP', 'District', 'MPORTPA'],\n",
       "      dtype='object')"
      ]
     },
     "metadata": {},
     "output_type": "display_data"
    },
    {
     "data": {
      "text/plain": [
       "'Organizations_OLD_SAVE'"
      ]
     },
     "metadata": {},
     "output_type": "display_data"
    },
    {
     "data": {
      "text/plain": [
       "Index(['Id', 'Name', 'Address1', 'Address2', 'City', 'State', 'Zipcode',\n",
       "       'Phone', 'Fax', 'Acronym', 'WebsiteURL', 'Sys_ModifiedUserId',\n",
       "       'EntityRecordId', 'OrganizationContactId', 'MPOId', 'ProgramType',\n",
       "       'CountyImageWeb', 'CountyImageServer', 'RepUserId', 'County',\n",
       "       'DistrictNumber', 'DUNSNumber', 'FederalId', 'Districts', 'Counties',\n",
       "       'MailingAddress1', 'MailingAddress2', 'MailingCity', 'MailingZip',\n",
       "       'MailingState', 'SecondaryOrganizationContactId', 'MainContactEmail',\n",
       "       'AlternatePhone', 'LiscensePlate', 'VCUSTNumber', 'USDOTNumber',\n",
       "       'GovernanceType', 'MPOJurisdiction', 'UrbanizedAreas',\n",
       "       'UnionAffiliations', 'SenateDistrict', 'AssemblyDistrict',\n",
       "       'CalTranDistrict', 'EmergnecyEvacuationPlan', 'ServiceProvider',\n",
       "       'VendorNumber', 'AddressCode', 'LegalName', 'CommonName', 'ZipCode2',\n",
       "       'Website', 'PrimaryContactId', 'PrimaryContactName',\n",
       "       'PrimaryContactMainPhone', 'OrganizationType', 'NTDReportingId',\n",
       "       'OrgType'],\n",
       "      dtype='object')"
      ]
     },
     "metadata": {},
     "output_type": "display_data"
    },
    {
     "data": {
      "text/plain": [
       "'no data in Organization_Info_Import'"
      ]
     },
     "metadata": {},
     "output_type": "display_data"
    },
    {
     "data": {
      "text/plain": [
       "'no data in pl_ActivityLogType'"
      ]
     },
     "metadata": {},
     "output_type": "display_data"
    },
    {
     "data": {
      "text/plain": [
       "'pl_ACT_Codes'"
      ]
     },
     "metadata": {},
     "output_type": "display_data"
    },
    {
     "data": {
      "text/plain": [
       "Index(['ALI', 'F2', 'Description', 'F4', 'ACT'], dtype='object')"
      ]
     },
     "metadata": {},
     "output_type": "display_data"
    },
    {
     "data": {
      "text/plain": [
       "'no data in pl_AmendmentStatus'"
      ]
     },
     "metadata": {},
     "output_type": "display_data"
    },
    {
     "data": {
      "text/plain": [
       "'pl_ApplicationDocument_Type'"
      ]
     },
     "metadata": {},
     "output_type": "display_data"
    },
    {
     "data": {
      "text/plain": [
       "Index(['ID', 'Document_Type', 'Simple_Section_Name'], dtype='object')"
      ]
     },
     "metadata": {},
     "output_type": "display_data"
    },
    {
     "data": {
      "text/plain": [
       "'pl_BudgetCategoryTypes'"
      ]
     },
     "metadata": {},
     "output_type": "display_data"
    },
    {
     "data": {
      "text/plain": [
       "Index(['CategoryId', 'CategoryTypeName'], dtype='object')"
      ]
     },
     "metadata": {},
     "output_type": "display_data"
    },
    {
     "data": {
      "text/plain": [
       "'pl_CodeStripSACNumber'"
      ]
     },
     "metadata": {},
     "output_type": "display_data"
    },
    {
     "data": {
      "text/plain": [
       "Index(['Id', 'SAC_Number', 'sys_ModifiedUserId'], dtype='object')"
      ]
     },
     "metadata": {},
     "output_type": "display_data"
    },
    {
     "data": {
      "text/plain": [
       "'pl_Condition'"
      ]
     },
     "metadata": {},
     "output_type": "display_data"
    },
    {
     "data": {
      "text/plain": [
       "Index(['Id', 'Condition', 'Sys_UserModified', 'Sys_DateModified', 'Sequence'], dtype='object')"
      ]
     },
     "metadata": {},
     "output_type": "display_data"
    },
    {
     "data": {
      "text/plain": [
       "'pl_ContactTypes'"
      ]
     },
     "metadata": {},
     "output_type": "display_data"
    },
    {
     "data": {
      "text/plain": [
       "Index(['Id', 'Type'], dtype='object')"
      ]
     },
     "metadata": {},
     "output_type": "display_data"
    },
    {
     "data": {
      "text/plain": [
       "'pl_ContractPaymentRequestStatus'"
      ]
     },
     "metadata": {},
     "output_type": "display_data"
    },
    {
     "data": {
      "text/plain": [
       "Index(['Id', 'Status', 'sys_ModifiedUserId'], dtype='object')"
      ]
     },
     "metadata": {},
     "output_type": "display_data"
    },
    {
     "data": {
      "text/plain": [
       "'no data in pl_ContractType'"
      ]
     },
     "metadata": {},
     "output_type": "display_data"
    },
    {
     "data": {
      "text/plain": [
       "'no data in pl_ContractTypes'"
      ]
     },
     "metadata": {},
     "output_type": "display_data"
    },
    {
     "data": {
      "text/plain": [
       "'pl_DisposalEquipmentJustifications'"
      ]
     },
     "metadata": {},
     "output_type": "display_data"
    },
    {
     "data": {
      "text/plain": [
       "Index(['JustificationId', 'Description', 'Sequence'], dtype='object')"
      ]
     },
     "metadata": {},
     "output_type": "display_data"
    },
    {
     "data": {
      "text/plain": [
       "'pl_DisposalEquipmentMethods'"
      ]
     },
     "metadata": {},
     "output_type": "display_data"
    },
    {
     "data": {
      "text/plain": [
       "Index(['MethodId', 'Description', 'Sequence'], dtype='object')"
      ]
     },
     "metadata": {},
     "output_type": "display_data"
    },
    {
     "data": {
      "text/plain": [
       "'pl_DisposalFacilityJustifications'"
      ]
     },
     "metadata": {},
     "output_type": "display_data"
    },
    {
     "data": {
      "text/plain": [
       "Index(['JustificationId', 'Description', 'Sequence'], dtype='object')"
      ]
     },
     "metadata": {},
     "output_type": "display_data"
    },
    {
     "data": {
      "text/plain": [
       "'pl_DisposalFacilityMethods'"
      ]
     },
     "metadata": {},
     "output_type": "display_data"
    },
    {
     "data": {
      "text/plain": [
       "Index(['MethodId', 'Description', 'Sequence'], dtype='object')"
      ]
     },
     "metadata": {},
     "output_type": "display_data"
    },
    {
     "data": {
      "text/plain": [
       "'pl_DisposalMethods'"
      ]
     },
     "metadata": {},
     "output_type": "display_data"
    },
    {
     "data": {
      "text/plain": [
       "Index(['MethodId', 'Description', 'Sequence'], dtype='object')"
      ]
     },
     "metadata": {},
     "output_type": "display_data"
    },
    {
     "data": {
      "text/plain": [
       "'pl_DisposalStatus'"
      ]
     },
     "metadata": {},
     "output_type": "display_data"
    },
    {
     "data": {
      "text/plain": [
       "Index(['StatusId', 'Name'], dtype='object')"
      ]
     },
     "metadata": {},
     "output_type": "display_data"
    },
    {
     "data": {
      "text/plain": [
       "'pl_DisposalVehicleJustifications'"
      ]
     },
     "metadata": {},
     "output_type": "display_data"
    },
    {
     "data": {
      "text/plain": [
       "Index(['JustificationId', 'Description', 'Sequence', 'Type'], dtype='object')"
      ]
     },
     "metadata": {},
     "output_type": "display_data"
    },
    {
     "data": {
      "text/plain": [
       "'pl_DisposalVehicleMethods'"
      ]
     },
     "metadata": {},
     "output_type": "display_data"
    },
    {
     "data": {
      "text/plain": [
       "Index(['MethodId', 'Description', 'Sequence'], dtype='object')"
      ]
     },
     "metadata": {},
     "output_type": "display_data"
    },
    {
     "data": {
      "text/plain": [
       "'pl_DispositionStatusTypes'"
      ]
     },
     "metadata": {},
     "output_type": "display_data"
    },
    {
     "data": {
      "text/plain": [
       "Index(['DispositionStatusId', 'Name'], dtype='object')"
      ]
     },
     "metadata": {},
     "output_type": "display_data"
    },
    {
     "data": {
      "text/plain": [
       "'no data in pl_DistrictCounties'"
      ]
     },
     "metadata": {},
     "output_type": "display_data"
    },
    {
     "data": {
      "text/plain": [
       "'pl_DynamicField_Options'"
      ]
     },
     "metadata": {},
     "output_type": "display_data"
    },
    {
     "data": {
      "text/plain": [
       "Index(['Id', 'Option', 'Parameter', 'Sys_ModiifiedDate'], dtype='object')"
      ]
     },
     "metadata": {},
     "output_type": "display_data"
    },
    {
     "data": {
      "text/plain": [
       "'pl_DynamicField_Source'"
      ]
     },
     "metadata": {},
     "output_type": "display_data"
    },
    {
     "data": {
      "text/plain": [
       "Index(['Id', 'Soruce', 'Sys_ModiifiedDate'], dtype='object')"
      ]
     },
     "metadata": {},
     "output_type": "display_data"
    },
    {
     "data": {
      "text/plain": [
       "'pl_DynamicField_ValueTypes'"
      ]
     },
     "metadata": {},
     "output_type": "display_data"
    },
    {
     "data": {
      "text/plain": [
       "Index(['Id', 'ValueType', 'Sys_ModiifiedDate'], dtype='object')"
      ]
     },
     "metadata": {},
     "output_type": "display_data"
    },
    {
     "data": {
      "text/plain": [
       "'pl_EntityTypes'"
      ]
     },
     "metadata": {},
     "output_type": "display_data"
    },
    {
     "data": {
      "text/plain": [
       "Index(['Id', 'Type', 'DefaultEntity', 'ParentEntityID', 'Sys_ModifiedUserId'], dtype='object')"
      ]
     },
     "metadata": {},
     "output_type": "display_data"
    },
    {
     "data": {
      "text/plain": [
       "'pl_EquipmentClass'"
      ]
     },
     "metadata": {},
     "output_type": "display_data"
    },
    {
     "data": {
      "text/plain": [
       "Index(['ID', 'Name'], dtype='object')"
      ]
     },
     "metadata": {},
     "output_type": "display_data"
    },
    {
     "data": {
      "text/plain": [
       "'pl_EquipmentClassification'"
      ]
     },
     "metadata": {},
     "output_type": "display_data"
    },
    {
     "data": {
      "text/plain": [
       "Index(['ID', 'Name'], dtype='object')"
      ]
     },
     "metadata": {},
     "output_type": "display_data"
    },
    {
     "data": {
      "text/plain": [
       "'pl_EquipmentConditionStatus'"
      ]
     },
     "metadata": {},
     "output_type": "display_data"
    },
    {
     "data": {
      "text/plain": [
       "Index(['ID', 'Status'], dtype='object')"
      ]
     },
     "metadata": {},
     "output_type": "display_data"
    },
    {
     "data": {
      "text/plain": [
       "'pl_EquipmentStatus'"
      ]
     },
     "metadata": {},
     "output_type": "display_data"
    },
    {
     "data": {
      "text/plain": [
       "Index(['ID', 'Status', 'Selectable'], dtype='object')"
      ]
     },
     "metadata": {},
     "output_type": "display_data"
    },
    {
     "data": {
      "text/plain": [
       "'pl_EquipmentType'"
      ]
     },
     "metadata": {},
     "output_type": "display_data"
    },
    {
     "data": {
      "text/plain": [
       "Index(['ID', 'Name', 'UsefulLife_Years', 'AverageEstimatedServiceYearsNew',\n",
       "       'EquipmentClassID'],\n",
       "      dtype='object')"
      ]
     },
     "metadata": {},
     "output_type": "display_data"
    },
    {
     "data": {
      "text/plain": [
       "'pl_ExpenseReportStatus'"
      ]
     },
     "metadata": {},
     "output_type": "display_data"
    },
    {
     "data": {
      "text/plain": [
       "Index(['ExpenseReportStatusId', 'Name'], dtype='object')"
      ]
     },
     "metadata": {},
     "output_type": "display_data"
    },
    {
     "data": {
      "text/plain": [
       "'pl_FacilityMode'"
      ]
     },
     "metadata": {},
     "output_type": "display_data"
    },
    {
     "data": {
      "text/plain": [
       "Index(['ModeId', 'Mode', 'sys_CreatedUserId', 'sys_ModifiedUserId'], dtype='object')"
      ]
     },
     "metadata": {},
     "output_type": "display_data"
    },
    {
     "data": {
      "text/plain": [
       "'pl_FacilityOwnershipType'"
      ]
     },
     "metadata": {},
     "output_type": "display_data"
    },
    {
     "data": {
      "text/plain": [
       "Index(['FacilityOwnershipTypeId', 'OwnershipType', 'sys_CreatedUserId',\n",
       "       'sys_ModifiedUserId'],\n",
       "      dtype='object')"
      ]
     },
     "metadata": {},
     "output_type": "display_data"
    },
    {
     "data": {
      "text/plain": [
       "'pl_FacilityStatus'"
      ]
     },
     "metadata": {},
     "output_type": "display_data"
    },
    {
     "data": {
      "text/plain": [
       "Index(['FacilityStatusId', 'Status', 'sys_CreatedUserId',\n",
       "       'sys_ModifiedUserId'],\n",
       "      dtype='object')"
      ]
     },
     "metadata": {},
     "output_type": "display_data"
    },
    {
     "data": {
      "text/plain": [
       "'pl_FacilityTypeCategory'"
      ]
     },
     "metadata": {},
     "output_type": "display_data"
    },
    {
     "data": {
      "text/plain": [
       "Index(['FacilityTypeCategoryId', 'FacilityType', 'FacilityCategory',\n",
       "       'sys_CreatedUserId', 'sys_ModifiedUserId'],\n",
       "      dtype='object')"
      ]
     },
     "metadata": {},
     "output_type": "display_data"
    },
    {
     "data": {
      "text/plain": [
       "'pl_FacilityTypeUsefulLife'"
      ]
     },
     "metadata": {},
     "output_type": "display_data"
    },
    {
     "data": {
      "text/plain": [
       "Index(['Id', 'FacilityType', 'UsefulLife'], dtype='object')"
      ]
     },
     "metadata": {},
     "output_type": "display_data"
    },
    {
     "data": {
      "text/plain": [
       "'pl_FTACategory'"
      ]
     },
     "metadata": {},
     "output_type": "display_data"
    },
    {
     "data": {
      "text/plain": [
       "Index(['Id', 'FTACategory', 'UsefulLife_Years', 'UsefulLife_Miles',\n",
       "       'UsefulLife_Rules', 'Sys_UserModified', 'Sys_DateModified'],\n",
       "      dtype='object')"
      ]
     },
     "metadata": {},
     "output_type": "display_data"
    },
    {
     "data": {
      "text/plain": [
       "'pl_FuelType'"
      ]
     },
     "metadata": {},
     "output_type": "display_data"
    },
    {
     "data": {
      "text/plain": [
       "Index(['FuelTypeId', 'FuelType', 'sys_CreatedUserId', 'sys_ModifiedUserId'], dtype='object')"
      ]
     },
     "metadata": {},
     "output_type": "display_data"
    },
    {
     "data": {
      "text/plain": [
       "'pl_FuelType_BACKUP'"
      ]
     },
     "metadata": {},
     "output_type": "display_data"
    },
    {
     "data": {
      "text/plain": [
       "Index(['Id', 'FuelType', 'Sys_UserModified', 'Sys_DateModified'], dtype='object')"
      ]
     },
     "metadata": {},
     "output_type": "display_data"
    },
    {
     "data": {
      "text/plain": [
       "'pl_FundRequestStatus'"
      ]
     },
     "metadata": {},
     "output_type": "display_data"
    },
    {
     "data": {
      "text/plain": [
       "Index(['Id', 'Title', 'EditRequest', 'EditAllocation'], dtype='object')"
      ]
     },
     "metadata": {},
     "output_type": "display_data"
    },
    {
     "data": {
      "text/plain": [
       "'pl_ImportantDocumentsCategory'"
      ]
     },
     "metadata": {},
     "output_type": "display_data"
    },
    {
     "data": {
      "text/plain": [
       "Index(['Id', 'CategoryName', 'Sequence'], dtype='object')"
      ]
     },
     "metadata": {},
     "output_type": "display_data"
    },
    {
     "data": {
      "text/plain": [
       "'pl_ImportantDocumentsType'"
      ]
     },
     "metadata": {},
     "output_type": "display_data"
    },
    {
     "data": {
      "text/plain": [
       "Index(['Id', 'DocumentType', 'ValidityTerm', 'Expires', 'SecondaryAction',\n",
       "       'SecondaryActionDescription', 'DocumentDownload', 'Sequence'],\n",
       "      dtype='object')"
      ]
     },
     "metadata": {},
     "output_type": "display_data"
    },
    {
     "data": {
      "text/plain": [
       "'pl_InventoryType'"
      ]
     },
     "metadata": {},
     "output_type": "display_data"
    },
    {
     "data": {
      "text/plain": [
       "Index(['InventoryTypeId', 'Name', 'sys_CreatedUserId', 'sys_ModifiedUserId'], dtype='object')"
      ]
     },
     "metadata": {},
     "output_type": "display_data"
    },
    {
     "data": {
      "text/plain": [
       "'no data in pl_InventoryVehicle_LiftType'"
      ]
     },
     "metadata": {},
     "output_type": "display_data"
    },
    {
     "data": {
      "text/plain": [
       "'no data in pl_InventoryVehicle_RampType'"
      ]
     },
     "metadata": {},
     "output_type": "display_data"
    },
    {
     "data": {
      "text/plain": [
       "'no data in pl_LiftType'"
      ]
     },
     "metadata": {},
     "output_type": "display_data"
    },
    {
     "data": {
      "text/plain": [
       "'pl_Modes'"
      ]
     },
     "metadata": {},
     "output_type": "display_data"
    },
    {
     "data": {
      "text/plain": [
       "Index(['Id', 'Mode'], dtype='object')"
      ]
     },
     "metadata": {},
     "output_type": "display_data"
    },
    {
     "data": {
      "text/plain": [
       "'pl_Municipalities'"
      ]
     },
     "metadata": {},
     "output_type": "display_data"
    },
    {
     "data": {
      "text/plain": [
       "Index(['Id', 'Municipality'], dtype='object')"
      ]
     },
     "metadata": {},
     "output_type": "display_data"
    },
    {
     "data": {
      "text/plain": [
       "'pl_OpportunityStatusTypes'"
      ]
     },
     "metadata": {},
     "output_type": "display_data"
    },
    {
     "data": {
      "text/plain": [
       "Index(['OpportunityStatusId', 'Name'], dtype='object')"
      ]
     },
     "metadata": {},
     "output_type": "display_data"
    },
    {
     "data": {
      "text/plain": [
       "'pl_OrganizationServiceType'"
      ]
     },
     "metadata": {},
     "output_type": "display_data"
    },
    {
     "data": {
      "text/plain": [
       "Index(['Id', 'ServiceType', 'Sys_UserModified'], dtype='object')"
      ]
     },
     "metadata": {},
     "output_type": "display_data"
    },
    {
     "data": {
      "text/plain": [
       "'pl_Organization_Agency_Type'"
      ]
     },
     "metadata": {},
     "output_type": "display_data"
    },
    {
     "data": {
      "text/plain": [
       "Index(['Id', 'AgencyType', 'Sys_UserModified'], dtype='object')"
      ]
     },
     "metadata": {},
     "output_type": "display_data"
    },
    {
     "data": {
      "text/plain": [
       "'pl_OrgType'"
      ]
     },
     "metadata": {},
     "output_type": "display_data"
    },
    {
     "data": {
      "text/plain": [
       "Index(['ID', 'OrgType'], dtype='object')"
      ]
     },
     "metadata": {},
     "output_type": "display_data"
    },
    {
     "data": {
      "text/plain": [
       "'pl_PerformanceMeasuresConditionId'"
      ]
     },
     "metadata": {},
     "output_type": "display_data"
    },
    {
     "data": {
      "text/plain": [
       "Index(['Id', 'ConditionName'], dtype='object')"
      ]
     },
     "metadata": {},
     "output_type": "display_data"
    },
    {
     "data": {
      "text/plain": [
       "'pl_PerformanceMeasuresOrgStatus'"
      ]
     },
     "metadata": {},
     "output_type": "display_data"
    },
    {
     "data": {
      "text/plain": [
       "Index(['Id', 'Status'], dtype='object')"
      ]
     },
     "metadata": {},
     "output_type": "display_data"
    },
    {
     "data": {
      "text/plain": [
       "'no data in pl_PerformanceMeasuresPeriods'"
      ]
     },
     "metadata": {},
     "output_type": "display_data"
    },
    {
     "data": {
      "text/plain": [
       "'no data in pl_PerformanceMeasuresPeriodTypes'"
      ]
     },
     "metadata": {},
     "output_type": "display_data"
    },
    {
     "data": {
      "text/plain": [
       "'pl_PerformanceMeasuresStatus'"
      ]
     },
     "metadata": {},
     "output_type": "display_data"
    },
    {
     "data": {
      "text/plain": [
       "Index(['Id', 'Status'], dtype='object')"
      ]
     },
     "metadata": {},
     "output_type": "display_data"
    },
    {
     "data": {
      "text/plain": [
       "'pl_PerformanceMeasuresTypes'"
      ]
     },
     "metadata": {},
     "output_type": "display_data"
    },
    {
     "data": {
      "text/plain": [
       "Index(['Id', 'Type'], dtype='object')"
      ]
     },
     "metadata": {},
     "output_type": "display_data"
    },
    {
     "data": {
      "text/plain": [
       "'pl_PickListItems'"
      ]
     },
     "metadata": {},
     "output_type": "display_data"
    },
    {
     "data": {
      "text/plain": [
       "Index(['Id', 'PicklistTypeId', 'Title', 'Description', 'Sequence'], dtype='object')"
      ]
     },
     "metadata": {},
     "output_type": "display_data"
    },
    {
     "data": {
      "text/plain": [
       "'no data in pl_PicklistTypes'"
      ]
     },
     "metadata": {},
     "output_type": "display_data"
    },
    {
     "data": {
      "text/plain": [
       "'pl_ProgramRegion'"
      ]
     },
     "metadata": {},
     "output_type": "display_data"
    },
    {
     "data": {
      "text/plain": [
       "Index(['Id', 'Region'], dtype='object')"
      ]
     },
     "metadata": {},
     "output_type": "display_data"
    },
    {
     "data": {
      "text/plain": [
       "'pl_ProjectStatus'"
      ]
     },
     "metadata": {},
     "output_type": "display_data"
    },
    {
     "data": {
      "text/plain": [
       "Index(['Id', 'Title'], dtype='object')"
      ]
     },
     "metadata": {},
     "output_type": "display_data"
    },
    {
     "data": {
      "text/plain": [
       "'pl_QReportTabs'"
      ]
     },
     "metadata": {},
     "output_type": "display_data"
    },
    {
     "data": {
      "text/plain": [
       "Index(['id', 'tabtitle', 'quarter', 'DistrictID'], dtype='object')"
      ]
     },
     "metadata": {},
     "output_type": "display_data"
    },
    {
     "data": {
      "text/plain": [
       "'no data in pl_RampType'"
      ]
     },
     "metadata": {},
     "output_type": "display_data"
    },
    {
     "data": {
      "text/plain": [
       "'pl_ReportingProfileTypes'"
      ]
     },
     "metadata": {},
     "output_type": "display_data"
    },
    {
     "data": {
      "text/plain": [
       "Index(['ReportProfileTypeId', 'Name'], dtype='object')"
      ]
     },
     "metadata": {},
     "output_type": "display_data"
    },
    {
     "data": {
      "text/plain": [
       "'pl_SAC'"
      ]
     },
     "metadata": {},
     "output_type": "display_data"
    },
    {
     "data": {
      "text/plain": [
       "Index(['Id', 'SAC'], dtype='object')"
      ]
     },
     "metadata": {},
     "output_type": "display_data"
    },
    {
     "data": {
      "text/plain": [
       "'pl_ServerTimeZones'"
      ]
     },
     "metadata": {},
     "output_type": "display_data"
    },
    {
     "data": {
      "text/plain": [
       "Index(['Id', 'TimeZone', 'Difference'], dtype='object')"
      ]
     },
     "metadata": {},
     "output_type": "display_data"
    },
    {
     "data": {
      "text/plain": [
       "'pl_ServiceArea'"
      ]
     },
     "metadata": {},
     "output_type": "display_data"
    },
    {
     "data": {
      "text/plain": [
       "Index(['Id', 'ServiceArea'], dtype='object')"
      ]
     },
     "metadata": {},
     "output_type": "display_data"
    },
    {
     "data": {
      "text/plain": [
       "'pl_ServiceInfo_ModeAssociation'"
      ]
     },
     "metadata": {},
     "output_type": "display_data"
    },
    {
     "data": {
      "text/plain": [
       "Index(['Id', 'ModeAssociation'], dtype='object')"
      ]
     },
     "metadata": {},
     "output_type": "display_data"
    },
    {
     "data": {
      "text/plain": [
       "'pl_States'"
      ]
     },
     "metadata": {},
     "output_type": "display_data"
    },
    {
     "data": {
      "text/plain": [
       "Index(['ID', 'code', 'name'], dtype='object')"
      ]
     },
     "metadata": {},
     "output_type": "display_data"
    },
    {
     "data": {
      "text/plain": [
       "'pl_Status'"
      ]
     },
     "metadata": {},
     "output_type": "display_data"
    },
    {
     "data": {
      "text/plain": [
       "Index(['Id', 'Title'], dtype='object')"
      ]
     },
     "metadata": {},
     "output_type": "display_data"
    },
    {
     "data": {
      "text/plain": [
       "'pl_UnionNames'"
      ]
     },
     "metadata": {},
     "output_type": "display_data"
    },
    {
     "data": {
      "text/plain": [
       "Index(['Id', 'UnionName'], dtype='object')"
      ]
     },
     "metadata": {},
     "output_type": "display_data"
    },
    {
     "data": {
      "text/plain": [
       "'pl_UrbanizedAreas'"
      ]
     },
     "metadata": {},
     "output_type": "display_data"
    },
    {
     "data": {
      "text/plain": [
       "Index(['Id', 'Population', 'UrbanizedArea'], dtype='object')"
      ]
     },
     "metadata": {},
     "output_type": "display_data"
    },
    {
     "data": {
      "text/plain": [
       "'pl_UserPrefix'"
      ]
     },
     "metadata": {},
     "output_type": "display_data"
    },
    {
     "data": {
      "text/plain": [
       "Index(['Id', 'Title', 'Sequence'], dtype='object')"
      ]
     },
     "metadata": {},
     "output_type": "display_data"
    },
    {
     "data": {
      "text/plain": [
       "'pl_VehicleChassis'"
      ]
     },
     "metadata": {},
     "output_type": "display_data"
    },
    {
     "data": {
      "text/plain": [
       "Index(['ChassisId', 'Name', 'sys_CreatedUserId', 'sys_ModifiedUserId'], dtype='object')"
      ]
     },
     "metadata": {},
     "output_type": "display_data"
    },
    {
     "data": {
      "text/plain": [
       "'pl_VehicleClass'"
      ]
     },
     "metadata": {},
     "output_type": "display_data"
    },
    {
     "data": {
      "text/plain": [
       "Index(['ClassId', 'Name'], dtype='object')"
      ]
     },
     "metadata": {},
     "output_type": "display_data"
    },
    {
     "data": {
      "text/plain": [
       "'pl_VehicleCodes'"
      ]
     },
     "metadata": {},
     "output_type": "display_data"
    },
    {
     "data": {
      "text/plain": [
       "Index(['Id', 'Code', 'Description'], dtype='object')"
      ]
     },
     "metadata": {},
     "output_type": "display_data"
    },
    {
     "data": {
      "text/plain": [
       "'pl_VehicleConditionRating'"
      ]
     },
     "metadata": {},
     "output_type": "display_data"
    },
    {
     "data": {
      "text/plain": [
       "Index(['ConditionRatingId', 'Rating', 'sys_CreatedUserId',\n",
       "       'sys_ModifiedUserId'],\n",
       "      dtype='object')"
      ]
     },
     "metadata": {},
     "output_type": "display_data"
    },
    {
     "data": {
      "text/plain": [
       "'pl_VehicleContractType'"
      ]
     },
     "metadata": {},
     "output_type": "display_data"
    },
    {
     "data": {
      "text/plain": [
       "Index(['VehicleContractTypeId', 'VehicleContractType'], dtype='object')"
      ]
     },
     "metadata": {},
     "output_type": "display_data"
    },
    {
     "data": {
      "text/plain": [
       "'pl_VehicleFuelTypes'"
      ]
     },
     "metadata": {},
     "output_type": "display_data"
    },
    {
     "data": {
      "text/plain": [
       "Index(['FuelID', 'FuelType'], dtype='object')"
      ]
     },
     "metadata": {},
     "output_type": "display_data"
    },
    {
     "data": {
      "text/plain": [
       "'pl_VehicleFundingSource'"
      ]
     },
     "metadata": {},
     "output_type": "display_data"
    },
    {
     "data": {
      "text/plain": [
       "Index(['FundingSourceId', 'Name', 'sys_CreatedUserId', 'sys_ModifiedUserId'], dtype='object')"
      ]
     },
     "metadata": {},
     "output_type": "display_data"
    },
    {
     "data": {
      "text/plain": [
       "'pl_VehicleImprovementType'"
      ]
     },
     "metadata": {},
     "output_type": "display_data"
    },
    {
     "data": {
      "text/plain": [
       "Index(['ImprovementTypeId', 'Improvement', 'sys_CreatedUserId',\n",
       "       'sys_ModifiedUserId'],\n",
       "      dtype='object')"
      ]
     },
     "metadata": {},
     "output_type": "display_data"
    },
    {
     "data": {
      "text/plain": [
       "'pl_VehicleManufacturer'"
      ]
     },
     "metadata": {},
     "output_type": "display_data"
    },
    {
     "data": {
      "text/plain": [
       "Index(['VehicleManufacturerId', 'Name', 'sys_CreatedUserId',\n",
       "       'sys_ModifiedUserId'],\n",
       "      dtype='object')"
      ]
     },
     "metadata": {},
     "output_type": "display_data"
    },
    {
     "data": {
      "text/plain": [
       "'pl_VehicleManufacturers'"
      ]
     },
     "metadata": {},
     "output_type": "display_data"
    },
    {
     "data": {
      "text/plain": [
       "Index(['ManufacturerID', 'ManufacturerName'], dtype='object')"
      ]
     },
     "metadata": {},
     "output_type": "display_data"
    },
    {
     "data": {
      "text/plain": [
       "'pl_VehicleMode'"
      ]
     },
     "metadata": {},
     "output_type": "display_data"
    },
    {
     "data": {
      "text/plain": [
       "Index(['ModeId', 'Mode', 'sys_CreatedUserId', 'sys_ModifiedUserId'], dtype='object')"
      ]
     },
     "metadata": {},
     "output_type": "display_data"
    },
    {
     "data": {
      "text/plain": [
       "'pl_VehicleModels'"
      ]
     },
     "metadata": {},
     "output_type": "display_data"
    },
    {
     "data": {
      "text/plain": [
       "Index(['ModelId', 'Model', 'sys_CreatedUserId', 'sys_ModifiedUserId'], dtype='object')"
      ]
     },
     "metadata": {},
     "output_type": "display_data"
    },
    {
     "data": {
      "text/plain": [
       "'pl_VehicleOtherMode'"
      ]
     },
     "metadata": {},
     "output_type": "display_data"
    },
    {
     "data": {
      "text/plain": [
       "Index(['ModeId', 'Mode', 'sys_CreatedUserId', 'sys_ModifiedUserId'], dtype='object')"
      ]
     },
     "metadata": {},
     "output_type": "display_data"
    },
    {
     "data": {
      "text/plain": [
       "'pl_VehicleOtherTOS'"
      ]
     },
     "metadata": {},
     "output_type": "display_data"
    },
    {
     "data": {
      "text/plain": [
       "Index(['TOSId', 'TOS', 'sys_CreatedUserId', 'sys_ModifiedUserId'], dtype='object')"
      ]
     },
     "metadata": {},
     "output_type": "display_data"
    },
    {
     "data": {
      "text/plain": [
       "'pl_VehicleOwnershipType'"
      ]
     },
     "metadata": {},
     "output_type": "display_data"
    },
    {
     "data": {
      "text/plain": [
       "Index(['OwnershipTypeId', 'Name', 'sys_CreatedUserId', 'sys_ModifiedUserId'], dtype='object')"
      ]
     },
     "metadata": {},
     "output_type": "display_data"
    },
    {
     "data": {
      "text/plain": [
       "'pl_VehicleRampLiftManufacturer'"
      ]
     },
     "metadata": {},
     "output_type": "display_data"
    },
    {
     "data": {
      "text/plain": [
       "Index(['VehicleRampLiftManufacturerId', 'Name', 'sys_CreatedUserId',\n",
       "       'sys_ModifiedUserId'],\n",
       "      dtype='object')"
      ]
     },
     "metadata": {},
     "output_type": "display_data"
    },
    {
     "data": {
      "text/plain": [
       "'pl_VehicleRenewalType'"
      ]
     },
     "metadata": {},
     "output_type": "display_data"
    },
    {
     "data": {
      "text/plain": [
       "Index(['RenewalTypeId', 'Type', 'sys_CreatedUserId', 'sys_ModifiedUserId'], dtype='object')"
      ]
     },
     "metadata": {},
     "output_type": "display_data"
    },
    {
     "data": {
      "text/plain": [
       "'pl_VehicleStatus'"
      ]
     },
     "metadata": {},
     "output_type": "display_data"
    },
    {
     "data": {
      "text/plain": [
       "Index(['Id', 'VehicleStatus', 'Sys_UserModified', 'Selectable'], dtype='object')"
      ]
     },
     "metadata": {},
     "output_type": "display_data"
    },
    {
     "data": {
      "text/plain": [
       "'pl_VehicleType'"
      ]
     },
     "metadata": {},
     "output_type": "display_data"
    },
    {
     "data": {
      "text/plain": [
       "Index(['VehicleTypeId', 'Name', 'AverageEstimatedServiceYearsNew',\n",
       "       'sys_CreatedUserId', 'sys_ModifiedUserId'],\n",
       "      dtype='object')"
      ]
     },
     "metadata": {},
     "output_type": "display_data"
    },
    {
     "data": {
      "text/plain": [
       "'pl_VehicleUseCodes'"
      ]
     },
     "metadata": {},
     "output_type": "display_data"
    },
    {
     "data": {
      "text/plain": [
       "Index(['UseID', 'VehicleUseDescription'], dtype='object')"
      ]
     },
     "metadata": {},
     "output_type": "display_data"
    },
    {
     "data": {
      "text/plain": [
       "'pl_Vehicle_Status'"
      ]
     },
     "metadata": {},
     "output_type": "display_data"
    },
    {
     "data": {
      "text/plain": [
       "Index(['ID', 'Status'], dtype='object')"
      ]
     },
     "metadata": {},
     "output_type": "display_data"
    },
    {
     "data": {
      "text/plain": [
       "'no data in Process_Workflow'"
      ]
     },
     "metadata": {},
     "output_type": "display_data"
    },
    {
     "data": {
      "text/plain": [
       "'ProjectTaskBudgetLines'"
      ]
     },
     "metadata": {},
     "output_type": "display_data"
    },
    {
     "data": {
      "text/plain": [
       "Index(['BudgetLineId', 'TaskId', 'LineId', 'Value', 'Sys_ModifiedUserID'], dtype='object')"
      ]
     },
     "metadata": {},
     "output_type": "display_data"
    },
    {
     "data": {
      "text/plain": [
       "'ProjectTaskBudgetLinesExtended'"
      ]
     },
     "metadata": {},
     "output_type": "display_data"
    },
    {
     "data": {
      "text/plain": [
       "Index(['Id', 'TaskId', 'Type', 'Title', 'Amount', 'Sys_ModifiedUserID'], dtype='object')"
      ]
     },
     "metadata": {},
     "output_type": "display_data"
    },
    {
     "data": {
      "text/plain": [
       "'ReportingComponents'"
      ]
     },
     "metadata": {},
     "output_type": "display_data"
    },
    {
     "data": {
      "text/plain": [
       "Index(['ReportingComponentId', 'Name', 'Path', 'Periods', 'GroupIdToNotify',\n",
       "       'Description', 'Sys_ModifiedUserId', 'Code'],\n",
       "      dtype='object')"
      ]
     },
     "metadata": {},
     "output_type": "display_data"
    },
    {
     "data": {
      "text/plain": [
       "'no data in Reporting_5310Ridership_DataElements'"
      ]
     },
     "metadata": {},
     "output_type": "display_data"
    },
    {
     "data": {
      "text/plain": [
       "'no data in Reporting_5310Ridership_DataValues'"
      ]
     },
     "metadata": {},
     "output_type": "display_data"
    },
    {
     "data": {
      "text/plain": [
       "'Reporting_5310Ridership_Report'"
      ]
     },
     "metadata": {},
     "output_type": "display_data"
    },
    {
     "data": {
      "text/plain": [
       "Index(['ReportId', 'OrganizationId', 'OrganizationReportId', 'ComponentId',\n",
       "       'VehicleId', 'VehicleYear', 'VehicleManufacturer', 'VehicleModel',\n",
       "       'VehicleVIN', 'VehicleLicensePlate', 'InsuranceCompany', 'PolicyNumber',\n",
       "       'PolicyExpDate', 'BeginningMileage', 'EndingMileage',\n",
       "       'EndingMileageDate', 'RepairMaintenance', 'ExplanationOfExtCosts',\n",
       "       'CurrentCondition', 'ExplanationOfCondition', 'InvolvedInAccident',\n",
       "       'AccidentInThisQuarter', 'DetailsOfAccident', 'Sys_CreatedUserId',\n",
       "       'Sys_ModifiedUserId', 'HoursInService', 'DaysInService',\n",
       "       'NarrativeBelow20', 'VehicleOutOfService', 'VehicleOutOfServiceDetails',\n",
       "       'RecentCHPDate'],\n",
       "      dtype='object')"
      ]
     },
     "metadata": {},
     "output_type": "display_data"
    },
    {
     "data": {
      "text/plain": [
       "'no data in Reporting_Budgets'"
      ]
     },
     "metadata": {},
     "output_type": "display_data"
    },
    {
     "data": {
      "text/plain": [
       "'no data in Reporting_Budget_TaskLines'"
      ]
     },
     "metadata": {},
     "output_type": "display_data"
    },
    {
     "data": {
      "text/plain": [
       "'no data in Reporting_DBE_FuelVendors'"
      ]
     },
     "metadata": {},
     "output_type": "display_data"
    },
    {
     "data": {
      "text/plain": [
       "'no data in Reporting_DBE_InsuranceVendors'"
      ]
     },
     "metadata": {},
     "output_type": "display_data"
    },
    {
     "data": {
      "text/plain": [
       "'no data in Reporting_DBE_MaintenanceVendors'"
      ]
     },
     "metadata": {},
     "output_type": "display_data"
    },
    {
     "data": {
      "text/plain": [
       "'no data in Reporting_DBE_StorageVendors'"
      ]
     },
     "metadata": {},
     "output_type": "display_data"
    },
    {
     "data": {
      "text/plain": [
       "'Reporting_NTDAnnual_Facilities'"
      ]
     },
     "metadata": {},
     "output_type": "display_data"
    },
    {
     "data": {
      "text/plain": [
       "Index(['Id', 'ReportId', 'FacilityId', 'OrganizationId', 'Organization',\n",
       "       'GroupPlan', 'FacilityName', 'SectionOfLargerFacility', 'StreetAddress',\n",
       "       'City', 'State', 'ZipCode', 'PrimaryModeServed',\n",
       "       'FacilityTypeCategoryId', 'FacilityTypeCategory',\n",
       "       'OtherFacilityCategory', 'YearBuilt', 'YearReconstructed',\n",
       "       'UnitSpaceSize', 'UnitSpaceType', 'OwnershipType',\n",
       "       'DOTCapitalResponsibility', 'OrganizationCapitalResponsibility',\n",
       "       'EstimatedConditionAssessment', 'CurrentCondition', 'DateOfAssessment',\n",
       "       'Sys_ModifiedUserId'],\n",
       "      dtype='object')"
      ]
     },
     "metadata": {},
     "output_type": "display_data"
    },
    {
     "data": {
      "text/plain": [
       "'Reporting_NTDAnnual_Intercity'"
      ]
     },
     "metadata": {},
     "output_type": "display_data"
    },
    {
     "data": {
      "text/plain": [
       "Index(['ReportId', 'OrganizationId', 'OrganizationReportId',\n",
       "       'Organization_LegalName', 'Organization_CommonName',\n",
       "       'Organization_Address1', 'Organization_Address2', 'Organization_City',\n",
       "       'Organization_State', 'Organization_ZipCode', 'Organization_Website',\n",
       "       'Organization_County', 'Organization_AgencyType',\n",
       "       'Organization_DUNSNumber', 'Organization_NTDReportingId',\n",
       "       'Organization_MainContactName', 'Organization_MainPhoneNumber',\n",
       "       'FTARuralAreaFormulaFunds_Operating',\n",
       "       'FTARuralAreaFormulaFunds_Capital',\n",
       "       'ARRARuralAreaFormulaFunds_Operating',\n",
       "       'ARRARuralAreaFormulaFunds_Capital', 'VRM', 'UPT',\n",
       "       'Sys_ModifiedUserId'],\n",
       "      dtype='object')"
      ]
     },
     "metadata": {},
     "output_type": "display_data"
    },
    {
     "data": {
      "text/plain": [
       "'Reporting_NTDAnnual_Modes'"
      ]
     },
     "metadata": {},
     "output_type": "display_data"
    },
    {
     "data": {
      "text/plain": [
       "Index(['Id', 'ReportId', 'Mode', 'TypeOfService', 'CommitmentDate',\n",
       "       'StartDate', 'EndDate', 'OperatingExpenses', 'CapitalExpenses',\n",
       "       'DirectlyGenerated_FareRevenues_Operating',\n",
       "       'DirectlyGenerated_FareRevenues_Capital', 'VRM', 'VRH', 'Total_UPT',\n",
       "       'Sponsored_UPT', 'VOMS', 'Sys_ModifiedUserId',\n",
       "       'DirectlyGenerated_FareRevenues_Operating_OrgPaidFares',\n",
       "       'DirectlyGenerated_FareRevenues_Capital_OrgPaidFares'],\n",
       "      dtype='object')"
      ]
     },
     "metadata": {},
     "output_type": "display_data"
    },
    {
     "data": {
      "text/plain": [
       "'Reporting_NTDAnnual_Rural'"
      ]
     },
     "metadata": {},
     "output_type": "display_data"
    },
    {
     "data": {
      "text/plain": [
       "Index(['ReportId', 'OrganizationId', 'OrganizationReportId',\n",
       "       'Organization_LegalName', 'Organization_CommonName',\n",
       "       'Organization_Address1', 'Organization_Address2', 'Organization_City',\n",
       "       'Organization_State', 'Organization_ZipCode', 'Organization_Website',\n",
       "       'Organization_County', 'Organization_AgencyType',\n",
       "       'Organization_DUNSNumber', 'Organization_NTDReportingId',\n",
       "       'Organization_MainContactName', 'Organization_MainPhoneNumber',\n",
       "       'OtherDirectlyGeneratedFunds_Operating',\n",
       "       'OtherDirectlyGeneratedFunds_Operating_Description',\n",
       "       'OtherDirectlyGeneratedFunds_Capital',\n",
       "       'OtherDirectlyGeneratedFunds_Capital_Description',\n",
       "       'Donations_Operating', 'Donations_Capital',\n",
       "       'ContractRevenues_Operating', 'ContractRevenues_Capital',\n",
       "       'Local_Operating', 'Local_Capital', 'State_Operating', 'State_Capital',\n",
       "       'Other_Operating', 'Other_Capital', 'FTACapitalProgramFunds_Operating',\n",
       "       'FTACapitalProgramFunds_Capital',\n",
       "       'ARRAMajorCapitalInvestment_Operating',\n",
       "       'ARRAMajorCapitalInvestment_Capital', 'FTAEnhancedMobility_Operating',\n",
       "       'FTAEnhancedMobility_Capital',\n",
       "       '5310CapitalAssistanceSpentOnOperations_Operating',\n",
       "       '5310CapitalAssistanceSpentOnOperations_Capital',\n",
       "       'FTARuralAreaFormulaFunds_Operating',\n",
       "       'FTARuralAreaFormulaFunds_Capital',\n",
       "       '5311CapitalAssistanceSpentOnOperations_Operating',\n",
       "       '5311CapitalAssistanceSpentOnOperations_Capital',\n",
       "       'ARRARuralAreaFormulaFunds_Operating',\n",
       "       'ARRARuralAreaFormulaFunds_Capital',\n",
       "       'FTAARRARuralAreaProgramFunds_Operating',\n",
       "       'FTAARRARuralAreaProgramFunds_Capital',\n",
       "       'FTATribalTransitFunds_Operating', 'FTATribalTransitFunds_Capital',\n",
       "       'ARRATribalTransitFunds_Operating', 'ARRATribalTransitFunds_Capital',\n",
       "       'FTAJobAccessFunds_Operating', 'FTAJobAccessFunds_Capital',\n",
       "       'FTANewFreedomFunds_Operating', 'FTANewFreedomFunds_Capital',\n",
       "       'FTATransitInThePark_Operating', 'FTATransitInThePark_Capital',\n",
       "       'FTABusAndBusFacilities_Operating', 'FTABusAndBusFacilities_Capital',\n",
       "       'ARRATIGGER_Operating', 'ARRATIGGER_Capital', 'OtherFTAFunds_Operating',\n",
       "       'OtherFTAFunds_Operating_Description', 'OtherFTAFunds_Capital',\n",
       "       'OtherFTAFunds_Capital_Description',\n",
       "       'OtherFTAFunds_CapitalAssistanceSpentOnOperations_Operating',\n",
       "       'OtherFTAFunds_CapitalAssistanceSpentOnOperations_Capital',\n",
       "       'OtherUSDOTFunds_Operating', 'OtherUSDOTFunds_Operating_Description',\n",
       "       'OtherUSDOTFunds_Capital', 'OtherUSDOTFunds_Capital_Description',\n",
       "       'OtherFederalFunds_Operating',\n",
       "       'OtherFederalFunds_Operating_Description', 'OtherFederalFunds_Capital',\n",
       "       'OtherFederalFunds_Capital_Description', 'ReportableIncidents',\n",
       "       'Fatalities', 'Injuries', 'NumberOfVolunteerDrivers',\n",
       "       'NumberOfPersonalVehiclesInService', 'Sys_ModifiedUserId',\n",
       "       'WithNTD_Operating', 'WithNonNTD_Operating', 'WithNTD_Capital',\n",
       "       'WithNonNTD_Capital', 'CapitalAssistance_Operating',\n",
       "       'CapitalAssistance_Capital', 'StateGoodRepair_Operating',\n",
       "       'StateGoodRepair_Capital'],\n",
       "      dtype='object')"
      ]
     },
     "metadata": {},
     "output_type": "display_data"
    },
    {
     "data": {
      "text/plain": [
       "'Reporting_NTDAnnual_UrbanTribal'"
      ]
     },
     "metadata": {},
     "output_type": "display_data"
    },
    {
     "data": {
      "text/plain": [
       "Index(['ReportId', 'OrganizationId', 'OrganizationReportId',\n",
       "       'Organization_LegalName', 'Organization_CommonName',\n",
       "       'Organization_Address1', 'Organization_Address2', 'Organization_City',\n",
       "       'Organization_State', 'Organization_ZipCode', 'Organization_Website',\n",
       "       'Organization_County', 'Organization_AgencyType',\n",
       "       'Organization_DUNSNumber', 'Organization_NTDReportingId',\n",
       "       'Organization_MainContactName', 'Organization_MainPhoneNumber',\n",
       "       'FTARuralAreaFormulaFunds_Operating',\n",
       "       'FTARuralAreaFormulaFunds_Capital',\n",
       "       'CapitalAssistanceSpentOnOperations_Operating',\n",
       "       'CapitalAssistanceSpentOnOperations_Capital',\n",
       "       'ARRARuralAreaFormulaFunds_Operating',\n",
       "       'ARRARuralAreaFormulaFunds_Capital',\n",
       "       'CapitalAssistanceSpentOnOpsARRARuralAreaFormulaFunds_Operating',\n",
       "       'CapitalAssistanceSpentOnOpsARRARuralAreaFormulaFunds_Capital',\n",
       "       'Sys_ModifiedUserId'],\n",
       "      dtype='object')"
      ]
     },
     "metadata": {},
     "output_type": "display_data"
    },
    {
     "data": {
      "text/plain": [
       "'Reporting_NTDAnnual_Vehicles'"
      ]
     },
     "metadata": {},
     "output_type": "display_data"
    },
    {
     "data": {
      "text/plain": [
       "Index(['Id', 'ReportId', 'VehicleId', 'VIN', 'NTDID', 'NumberInTotalFleet',\n",
       "       'NumberActiveInFleet', 'NumberWithADAAccess', 'VehicleType',\n",
       "       'FundSource', 'AverageEstimatedYearsWhenNew',\n",
       "       'AverageExpectedYearsWhenNew', 'VehicleYear', 'UsefulLifeRemaining',\n",
       "       'VehicleLengthFeet', 'SeatingCapacity', 'OwnershipType',\n",
       "       'ModesOperated', 'Sys_ModifiedUserId', 'AgencyId'],\n",
       "      dtype='object')"
      ]
     },
     "metadata": {},
     "output_type": "display_data"
    },
    {
     "data": {
      "text/plain": [
       "'no data in VehicleOrgLink'"
      ]
     },
     "metadata": {},
     "output_type": "display_data"
    },
    {
     "data": {
      "text/plain": [
       "'Vehicle_Inventory'"
      ]
     },
     "metadata": {},
     "output_type": "display_data"
    },
    {
     "data": {
      "text/plain": [
       "Index(['VehicleId', 'OrganizationId', 'LicensePlate', 'VIN', 'VehicleIDNumber',\n",
       "       'FundedByDOT', 'FundingSource', 'FundingAgency', 'GrantNumber',\n",
       "       'StandardAgreementNumber', 'FederalShare', 'FederalSharePercent',\n",
       "       'TollCredit', 'TollCreditPercent', 'LocalShare', 'LocalSharePercent',\n",
       "       'TotalCost', 'FTACategory', 'Year', 'Manufacturer', 'Model', 'Chassis',\n",
       "       'Class', 'FuelType', 'VehicleLength', 'AmbulatorySeatingCapacity',\n",
       "       'WheelchairPositions', 'WheelchairEquipped', 'VehicleStatus',\n",
       "       'ImprovementType', 'CurrentCondition', 'CurrentMileage', 'VehicleUse',\n",
       "       'PurchaseOrderNumber', 'PurchaseOrderDate', 'InvoiceNumber', 'Vendor',\n",
       "       'ReceivedDate', 'LastInspectionDate', 'NextInspectionDate',\n",
       "       'StateLienHolder', 'TitleNumber', 'VehicleTitleReleaseDate',\n",
       "       'VehicleReleaseReportingDate', 'FairMarketValue', 'TransferDate',\n",
       "       'SoldPrice', 'TransferRecipent', 'TransferStandardAgreementNumber',\n",
       "       'ReplacementVIN', 'InServiceDate', 'FTAUsefulLifeYearsRemaining',\n",
       "       'FTAUsefulLifeMileageRemaining', 'YearBuild', 'OutServiceDate', 'NTDID',\n",
       "       'Comments', 'Sys_ModifiedUserID', 'NTD_VehicleType',\n",
       "       'NTD_DedicatedFleet', 'NTD_OwnershipType', 'NTD_FundingType',\n",
       "       'NTD_Mode', 'NTD_TOS'],\n",
       "      dtype='object')"
      ]
     },
     "metadata": {},
     "output_type": "display_data"
    },
    {
     "data": {
      "text/plain": [
       "'_Agency_Contact'"
      ]
     },
     "metadata": {},
     "output_type": "display_data"
    },
    {
     "data": {
      "text/plain": [
       "Index(['District', 'Agency', 'RTPA/MPO', 'Title', 'Contact Person',\n",
       "       'First Name', 'Mid Initial', 'Last Name', 'Role', 'Email', 'Phone',\n",
       "       'Alt Contact Information', 'F13', 'F14', 'F15'],\n",
       "      dtype='object')"
      ]
     },
     "metadata": {},
     "output_type": "display_data"
    }
   ],
   "source": [
    "for k,v in dfs_dict.items():\n",
    "    df = v\n",
    "    if len(df) == 0:\n",
    "        display(f\"no data in {k}\")\n",
    "    else: \n",
    "        display(k)\n",
    "        display(df.columns)"
   ]
  },
  {
   "cell_type": "code",
   "execution_count": null,
   "metadata": {},
   "outputs": [],
   "source": []
  }
 ],
 "metadata": {
  "kernelspec": {
   "display_name": "Python 3",
   "language": "python",
   "name": "python3"
  },
  "language_info": {
   "codemirror_mode": {
    "name": "ipython",
    "version": 3
   },
   "file_extension": ".py",
   "mimetype": "text/x-python",
   "name": "python",
   "nbconvert_exporter": "python",
   "pygments_lexer": "ipython3",
   "version": "3.7.9"
  }
 },
 "nbformat": 4,
 "nbformat_minor": 4
}
