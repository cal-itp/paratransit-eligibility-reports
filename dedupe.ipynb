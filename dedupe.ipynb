{
 "cells": [
  {
   "cell_type": "markdown",
   "metadata": {},
   "source": [
    "# dedupe and finalize the list \n",
    "\n",
    "This notebook dedupes and finalizes the list"
   ]
  },
  {
   "cell_type": "code",
   "execution_count": 1,
   "metadata": {},
   "outputs": [],
   "source": [
    "import intake \n",
    "import pandas as pd \n",
    "import numpy as np"
   ]
  },
  {
   "cell_type": "code",
   "execution_count": 2,
   "metadata": {},
   "outputs": [],
   "source": [
    "cat = intake.open_catalog('catalog.yml')"
   ]
  },
  {
   "cell_type": "code",
   "execution_count": 3,
   "metadata": {},
   "outputs": [],
   "source": [
    "# let's load the mills source datasets. \n",
    "mills_official = cat.mills_official.read()\n",
    "# also the crosswalks\n",
    "\n",
    "trillium_crosswalk = cat.trillium_mills_crosswalk.read()[['trillium_agency_name', 'mills_name']]\n",
    "ctsa_crosswalk = cat.ctsa_mills_crosswalk.read()[['ctsa_agency_name', 'mills_name']]"
   ]
  },
  {
   "cell_type": "code",
   "execution_count": 4,
   "metadata": {},
   "outputs": [],
   "source": [
    "# drop dupes b/c fiscal year means multiple rows in teh dataset\n",
    "mills_official = mills_official.drop_duplicates(subset='Entity Name')"
   ]
  },
  {
   "cell_type": "code",
   "execution_count": 5,
   "metadata": {},
   "outputs": [],
   "source": [
    "# assign \"is_mills_act\" to true for this subset\n",
    "mills_official = mills_official.assign(is_mills_act=True)"
   ]
  },
  {
   "cell_type": "code",
   "execution_count": 6,
   "metadata": {},
   "outputs": [],
   "source": [
    "mills_official = mills_official.rename({'Entity Name': 'mills_name'}, axis=1)"
   ]
  },
  {
   "cell_type": "markdown",
   "metadata": {},
   "source": [
    "# Crosswalk / Join \n",
    "\n",
    "Using a manually created [crosswalk file](https://docs.google.com/spreadsheets/d/1inAKMhCkd4mtRcY1urM36IfLDzkyPRM1D3OJ_ftSXaw/edit?usp=sharing) we join the entire dataset to produce the final master list. "
   ]
  },
  {
   "cell_type": "code",
   "execution_count": 7,
   "metadata": {},
   "outputs": [
    {
     "data": {
      "text/html": [
       "<div>\n",
       "<style scoped>\n",
       "    .dataframe tbody tr th:only-of-type {\n",
       "        vertical-align: middle;\n",
       "    }\n",
       "\n",
       "    .dataframe tbody tr th {\n",
       "        vertical-align: top;\n",
       "    }\n",
       "\n",
       "    .dataframe thead th {\n",
       "        text-align: right;\n",
       "    }\n",
       "</style>\n",
       "<table border=\"1\" class=\"dataframe\">\n",
       "  <thead>\n",
       "    <tr style=\"text-align: right;\">\n",
       "      <th></th>\n",
       "      <th>trillium_agency_name</th>\n",
       "      <th>mills_name</th>\n",
       "      <th>is_mills_act</th>\n",
       "      <th>ctsa_agency_name</th>\n",
       "    </tr>\n",
       "  </thead>\n",
       "  <tbody>\n",
       "    <tr>\n",
       "      <th>0</th>\n",
       "      <td>Maywood Dial-A-Ride</td>\n",
       "      <td>NaN</td>\n",
       "      <td>NaN</td>\n",
       "      <td>NaN</td>\n",
       "    </tr>\n",
       "    <tr>\n",
       "      <th>1</th>\n",
       "      <td>Whittier Dial-A-Ride</td>\n",
       "      <td>NaN</td>\n",
       "      <td>NaN</td>\n",
       "      <td>NaN</td>\n",
       "    </tr>\n",
       "    <tr>\n",
       "      <th>2</th>\n",
       "      <td>Inglewood</td>\n",
       "      <td>NaN</td>\n",
       "      <td>NaN</td>\n",
       "      <td>NaN</td>\n",
       "    </tr>\n",
       "    <tr>\n",
       "      <th>3</th>\n",
       "      <td>Monrovia Transit Dial-A-Ride</td>\n",
       "      <td>NaN</td>\n",
       "      <td>NaN</td>\n",
       "      <td>NaN</td>\n",
       "    </tr>\n",
       "    <tr>\n",
       "      <th>4</th>\n",
       "      <td>Azusa Transit</td>\n",
       "      <td>NaN</td>\n",
       "      <td>NaN</td>\n",
       "      <td>NaN</td>\n",
       "    </tr>\n",
       "  </tbody>\n",
       "</table>\n",
       "</div>"
      ],
      "text/plain": [
       "           trillium_agency_name mills_name is_mills_act ctsa_agency_name\n",
       "0           Maywood Dial-A-Ride        NaN          NaN              NaN\n",
       "1          Whittier Dial-A-Ride        NaN          NaN              NaN\n",
       "2                     Inglewood        NaN          NaN              NaN\n",
       "3  Monrovia Transit Dial-A-Ride        NaN          NaN              NaN\n",
       "4                 Azusa Transit        NaN          NaN              NaN"
      ]
     },
     "execution_count": 7,
     "metadata": {},
     "output_type": "execute_result"
    }
   ],
   "source": [
    "# merge strategy \n",
    "\n",
    "# outer join CTSA / Mills, then left join trillium with mills. Then add in anything that is left from Trillium via concat.  \n",
    "\n",
    "trillium_has_mills = trillium_crosswalk[trillium_crosswalk.mills_name.notnull()]\n",
    "merged = (pd.concat([trillium_crosswalk[trillium_crosswalk.mills_name.isna()],\n",
    "            (mills_official.merge(ctsa_crosswalk, \n",
    "                                  left_on='mills_name',\n",
    "                                  right_on='mills_name',\n",
    "                                  how='outer')\n",
    "                           .merge(trillium_has_mills,\n",
    "                                 left_on='mills_name',\n",
    "                                 right_on='mills_name',\n",
    "                                 how='left'))\n",
    "                 ]).reset_index()\n",
    "                   .drop('index', axis=1))\n",
    "merged.head()"
   ]
  },
  {
   "cell_type": "code",
   "execution_count": 8,
   "metadata": {},
   "outputs": [],
   "source": [
    "merged = merged.assign(is_mills_act = merged.is_mills_act.replace({np.nan: False}),\n",
    "              mills_name = merged.mills_name.replace({np.nan: None}),\n",
    "              ctsa_agency_name = merged.ctsa_agency_name.replace({np.nan: None}),\n",
    "              trillium_agency_name = merged.trillium_agency_name.replace({np.nan: None})\n",
    "             )"
   ]
  },
  {
   "cell_type": "code",
   "execution_count": 13,
   "metadata": {},
   "outputs": [],
   "source": [
    "# quickly check no weirdness\n",
    "assert(len(merged) == 211) #what I am expecting, may need to change as dataset changes"
   ]
  },
  {
   "cell_type": "code",
   "execution_count": 9,
   "metadata": {},
   "outputs": [],
   "source": [
    "merged.to_csv('final/final_combined_paratransit_list.csv', index=False)"
   ]
  },
  {
   "cell_type": "code",
   "execution_count": null,
   "metadata": {},
   "outputs": [],
   "source": []
  }
 ],
 "metadata": {
  "kernelspec": {
   "display_name": "Python 3",
   "language": "python",
   "name": "python3"
  },
  "language_info": {
   "codemirror_mode": {
    "name": "ipython",
    "version": 3
   },
   "file_extension": ".py",
   "mimetype": "text/x-python",
   "name": "python",
   "nbconvert_exporter": "python",
   "pygments_lexer": "ipython3",
   "version": "3.7.9"
  }
 },
 "nbformat": 4,
 "nbformat_minor": 4
}
