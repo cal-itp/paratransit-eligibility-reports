{
 "cells": [
  {
   "cell_type": "markdown",
   "metadata": {},
   "source": [
    "# Assessment Explorartory Analysis \n",
    "Computing some basic stats about the state of paratransit agencies, based on Oliva's work"
   ]
  },
  {
   "cell_type": "code",
   "execution_count": 1,
   "metadata": {},
   "outputs": [
    {
     "data": {
      "text/plain": [
       "ThemeRegistry.enable('urbaninstitute')"
      ]
     },
     "execution_count": 1,
     "metadata": {},
     "output_type": "execute_result"
    }
   ],
   "source": [
    "import pandas as pd\n",
    "import intake\n",
    "import altair as alt\n",
    "alt.themes.enable(\"urbaninstitute\")"
   ]
  },
  {
   "cell_type": "code",
   "execution_count": 2,
   "metadata": {},
   "outputs": [],
   "source": [
    "catalog = intake.open_catalog('./catalog.yml')"
   ]
  },
  {
   "cell_type": "code",
   "execution_count": 3,
   "metadata": {},
   "outputs": [],
   "source": [
    "df = catalog.assessment_sheet(csv_kwargs={'skiprows': [1]}).read()"
   ]
  },
  {
   "cell_type": "code",
   "execution_count": 4,
   "metadata": {},
   "outputs": [
    {
     "name": "stdout",
     "output_type": "stream",
     "text": [
      "The number of agencies assessed was 217\n",
      "Of these, 202 were found to be actual providers of paratransit service\n"
     ]
    }
   ],
   "source": [
    "print(f\"The number of agencies assessed was {len(df)}\")\n",
    "print(f\"Of these, {len(df[df.is_provider == True])} were found to be actual providers of paratransit service\")"
   ]
  },
  {
   "cell_type": "code",
   "execution_count": 5,
   "metadata": {},
   "outputs": [],
   "source": [
    "# only subset to providers\n",
    "df = df[df.is_provider == True]"
   ]
  },
  {
   "cell_type": "markdown",
   "metadata": {},
   "source": [
    "Percentage of agencies that are mills act (TDA funded)"
   ]
  },
  {
   "cell_type": "code",
   "execution_count": 6,
   "metadata": {},
   "outputs": [
    {
     "data": {
      "text/plain": [
       "True     0.831633\n",
       "False    0.168367\n",
       "Name: is_mills_act, dtype: float64"
      ]
     },
     "execution_count": 6,
     "metadata": {},
     "output_type": "execute_result"
    }
   ],
   "source": [
    "df.is_mills_act.value_counts(normalize=True)"
   ]
  },
  {
   "cell_type": "markdown",
   "metadata": {},
   "source": [
    "## Application Types"
   ]
  },
  {
   "cell_type": "code",
   "execution_count": 52,
   "metadata": {},
   "outputs": [
    {
     "data": {
      "text/html": [
       "\n",
       "<div id=\"altair-viz-781196493112457e8bb0e7cb25e9a90b\"></div>\n",
       "<script type=\"text/javascript\">\n",
       "  (function(spec, embedOpt){\n",
       "    let outputDiv = document.currentScript.previousElementSibling;\n",
       "    if (outputDiv.id !== \"altair-viz-781196493112457e8bb0e7cb25e9a90b\") {\n",
       "      outputDiv = document.getElementById(\"altair-viz-781196493112457e8bb0e7cb25e9a90b\");\n",
       "    }\n",
       "    const paths = {\n",
       "      \"vega\": \"https://cdn.jsdelivr.net/npm//vega@5?noext\",\n",
       "      \"vega-lib\": \"https://cdn.jsdelivr.net/npm//vega-lib?noext\",\n",
       "      \"vega-lite\": \"https://cdn.jsdelivr.net/npm//vega-lite@4.8.1?noext\",\n",
       "      \"vega-embed\": \"https://cdn.jsdelivr.net/npm//vega-embed@6?noext\",\n",
       "    };\n",
       "\n",
       "    function loadScript(lib) {\n",
       "      return new Promise(function(resolve, reject) {\n",
       "        var s = document.createElement('script');\n",
       "        s.src = paths[lib];\n",
       "        s.async = true;\n",
       "        s.onload = () => resolve(paths[lib]);\n",
       "        s.onerror = () => reject(`Error loading script: ${paths[lib]}`);\n",
       "        document.getElementsByTagName(\"head\")[0].appendChild(s);\n",
       "      });\n",
       "    }\n",
       "\n",
       "    function showError(err) {\n",
       "      outputDiv.innerHTML = `<div class=\"error\" style=\"color:red;\">${err}</div>`;\n",
       "      throw err;\n",
       "    }\n",
       "\n",
       "    function displayChart(vegaEmbed) {\n",
       "      vegaEmbed(outputDiv, spec, embedOpt)\n",
       "        .catch(err => showError(`Javascript Error: ${err.message}<br>This usually means there's a typo in your chart specification. See the javascript console for the full traceback.`));\n",
       "    }\n",
       "\n",
       "    if(typeof define === \"function\" && define.amd) {\n",
       "      requirejs.config({paths});\n",
       "      require([\"vega-embed\"], displayChart, err => showError(`Error loading script: ${err.message}`));\n",
       "    } else if (typeof vegaEmbed === \"function\") {\n",
       "      displayChart(vegaEmbed);\n",
       "    } else {\n",
       "      loadScript(\"vega\")\n",
       "        .then(() => loadScript(\"vega-lite\"))\n",
       "        .then(() => loadScript(\"vega-embed\"))\n",
       "        .catch(showError)\n",
       "        .then(() => displayChart(vegaEmbed));\n",
       "    }\n",
       "  })({\"usermeta\": {\"embedOptions\": {\"theme\": \"urbaninstitute\"}}, \"config\": {\"view\": {\"continuousWidth\": 400, \"continuousHeight\": 300}}, \"data\": {\"name\": \"data-0d5f01083772eb7bbcc1f176047c76ac\"}, \"mark\": \"bar\", \"encoding\": {\"x\": {\"type\": \"quantitative\", \"axis\": {\"format\": \"%\"}, \"field\": \"digital_app\", \"title\": \"Percentage of Agencies\"}, \"y\": {\"type\": \"nominal\", \"field\": \"index\", \"title\": \"Type of Application\"}}, \"title\": \"Percentage of Agencies taking Web Based Applications\", \"width\": 1000, \"$schema\": \"https://vega.github.io/schema/vega-lite/v4.8.1.json\", \"datasets\": {\"data-0d5f01083772eb7bbcc1f176047c76ac\": [{\"index\": \"No Online Application\", \"digital_app\": 0.4752475247524752}, {\"index\": \"PDF Form\", \"digital_app\": 0.42574257425742573}, {\"index\": \"Standard Web Form\", \"digital_app\": 0.09900990099009901}]}}, {\"mode\": \"vega-lite\"});\n",
       "</script>"
      ],
      "text/plain": [
       "alt.Chart(...)"
      ]
     },
     "execution_count": 52,
     "metadata": {},
     "output_type": "execute_result"
    }
   ],
   "source": [
    "alt.Chart(pd.DataFrame(df.digital_app.value_counts(normalize=True).rename({'PDF_form': 'PDF Form',\n",
    "                                                                           \"no_online_app\": \"No Online Application\",\n",
    "                                                                           \"standard_web_based_form\": \"Standard Web Form\"})).reset_index()).mark_bar().encode(\n",
    "    alt.X('digital_app', title='Percentage of Agencies', axis=alt.Axis(format='%')),\n",
    "    alt.Y('index', title='Type of Application')\n",
    ").properties(\n",
    "    title='Percentage of Agencies taking Web Based Applications',\n",
    ")"
   ]
  },
  {
   "cell_type": "markdown",
   "metadata": {},
   "source": [
    "As you can see, a pluarity of agencies have no online application. 40% simply give you a PDF form that must then be submitted via paper or email. Finally, 10% take a standard, web based interactive form. "
   ]
  },
  {
   "cell_type": "markdown",
   "metadata": {},
   "source": [
    "## Payment Tyes"
   ]
  },
  {
   "cell_type": "code",
   "execution_count": 11,
   "metadata": {},
   "outputs": [],
   "source": [
    "def split_payment_methods(row):\n",
    "    \"\"\"\n",
    "    taking in the value of payments methods, split in \n",
    "    list\n",
    "    \"\"\"\n",
    "    if row == 'none_fare_free':\n",
    "        return row\n",
    "    elif row == 'credit_card_bulk':\n",
    "        return row\n",
    "    elif \"_\" in row: \n",
    "        return row.split('_')\n",
    "    else: \n",
    "        return row"
   ]
  },
  {
   "cell_type": "code",
   "execution_count": 12,
   "metadata": {},
   "outputs": [],
   "source": [
    "df=df.assign(payments_methods=df.payment_methods.apply(split_payment_methods))"
   ]
  },
  {
   "cell_type": "code",
   "execution_count": 13,
   "metadata": {},
   "outputs": [],
   "source": [
    "payments = {}\n",
    "for item in df.payments_methods.values:\n",
    "    if type(item) == list:\n",
    "        for i in item: \n",
    "            if i not in payments:\n",
    "                payments[i] = 0\n",
    "            payments[i] += 1\n",
    "    else:\n",
    "        if item not in payments:\n",
    "            payments[item] = 0\n",
    "        payments[item] += 1"
   ]
  },
  {
   "cell_type": "code",
   "execution_count": 63,
   "metadata": {},
   "outputs": [
    {
     "data": {
      "text/html": [
       "\n",
       "<div id=\"altair-viz-6d9241fda0954932ae23ef7da7ae4e5f\"></div>\n",
       "<script type=\"text/javascript\">\n",
       "  (function(spec, embedOpt){\n",
       "    let outputDiv = document.currentScript.previousElementSibling;\n",
       "    if (outputDiv.id !== \"altair-viz-6d9241fda0954932ae23ef7da7ae4e5f\") {\n",
       "      outputDiv = document.getElementById(\"altair-viz-6d9241fda0954932ae23ef7da7ae4e5f\");\n",
       "    }\n",
       "    const paths = {\n",
       "      \"vega\": \"https://cdn.jsdelivr.net/npm//vega@5?noext\",\n",
       "      \"vega-lib\": \"https://cdn.jsdelivr.net/npm//vega-lib?noext\",\n",
       "      \"vega-lite\": \"https://cdn.jsdelivr.net/npm//vega-lite@4.8.1?noext\",\n",
       "      \"vega-embed\": \"https://cdn.jsdelivr.net/npm//vega-embed@6?noext\",\n",
       "    };\n",
       "\n",
       "    function loadScript(lib) {\n",
       "      return new Promise(function(resolve, reject) {\n",
       "        var s = document.createElement('script');\n",
       "        s.src = paths[lib];\n",
       "        s.async = true;\n",
       "        s.onload = () => resolve(paths[lib]);\n",
       "        s.onerror = () => reject(`Error loading script: ${paths[lib]}`);\n",
       "        document.getElementsByTagName(\"head\")[0].appendChild(s);\n",
       "      });\n",
       "    }\n",
       "\n",
       "    function showError(err) {\n",
       "      outputDiv.innerHTML = `<div class=\"error\" style=\"color:red;\">${err}</div>`;\n",
       "      throw err;\n",
       "    }\n",
       "\n",
       "    function displayChart(vegaEmbed) {\n",
       "      vegaEmbed(outputDiv, spec, embedOpt)\n",
       "        .catch(err => showError(`Javascript Error: ${err.message}<br>This usually means there's a typo in your chart specification. See the javascript console for the full traceback.`));\n",
       "    }\n",
       "\n",
       "    if(typeof define === \"function\" && define.amd) {\n",
       "      requirejs.config({paths});\n",
       "      require([\"vega-embed\"], displayChart, err => showError(`Error loading script: ${err.message}`));\n",
       "    } else if (typeof vegaEmbed === \"function\") {\n",
       "      displayChart(vegaEmbed);\n",
       "    } else {\n",
       "      loadScript(\"vega\")\n",
       "        .then(() => loadScript(\"vega-lite\"))\n",
       "        .then(() => loadScript(\"vega-embed\"))\n",
       "        .catch(showError)\n",
       "        .then(() => displayChart(vegaEmbed));\n",
       "    }\n",
       "  })({\"usermeta\": {\"embedOptions\": {\"theme\": \"urbaninstitute\"}}, \"config\": {\"view\": {\"continuousWidth\": 400, \"continuousHeight\": 300}}, \"data\": {\"name\": \"data-761eb5116aa6a6bd180bca18e5e82fd4\"}, \"mark\": \"bar\", \"encoding\": {\"x\": {\"type\": \"quantitative\", \"field\": \"count\", \"title\": \"Number of Agencies Taking Payment Form\"}, \"y\": {\"type\": \"nominal\", \"field\": \"payment_type\", \"title\": \"payment type\"}}, \"title\": \"Agency Fare Payment Options\", \"$schema\": \"https://vega.github.io/schema/vega-lite/v4.8.1.json\", \"datasets\": {\"data-761eb5116aa6a6bd180bca18e5e82fd4\": [{\"payment_type\": \"None (fare-free)\", \"count\": 22}, {\"payment_type\": \"Other\", \"count\": 8}, {\"payment_type\": \"Cash\", \"count\": 140}, {\"payment_type\": \"Check\", \"count\": 39}, {\"payment_type\": \"Credit\", \"count\": 28}, {\"payment_type\": \"Credit card (bulk purchase)\", \"count\": 28}]}}, {\"mode\": \"vega-lite\"});\n",
       "</script>"
      ],
      "text/plain": [
       "alt.Chart(...)"
      ]
     },
     "execution_count": 63,
     "metadata": {},
     "output_type": "execute_result"
    }
   ],
   "source": [
    "p_df = pd.DataFrame.from_dict(payments, orient='index').reset_index().rename({0: 'count', 'index': 'payment_type'}, axis=1).replace({'credit_card_bulk': \"Credit card (bulk purchase)\",\n",
    "                                                                                                          'none_fare_free': \"None (fare-free)\"}).replace(\n",
    "{'cash': 'Cash', 'check':'Check', 'credit':'Credit', 'other': 'Other'}\n",
    ")\n",
    "alt.Chart(p_df).mark_bar().encode(\n",
    "  alt.X('count', title=\"Number of Agencies Taking Payment Form\"),\n",
    "  alt.Y('payment_type', title=\"payment type\")\n",
    ").properties(\n",
    "    title='Agency Fare Payment Options',\n",
    ")"
   ]
  },
  {
   "cell_type": "markdown",
   "metadata": {},
   "source": [
    "# Agencies advertising cross-eligibility\n",
    "\n",
    "We looked to see if the agencies post a notice about using another agencies elibility verification. "
   ]
  },
  {
   "cell_type": "code",
   "execution_count": 64,
   "metadata": {},
   "outputs": [
    {
     "data": {
      "text/html": [
       "\n",
       "<div id=\"altair-viz-55cda5604b09414896050e9e971a22ba\"></div>\n",
       "<script type=\"text/javascript\">\n",
       "  (function(spec, embedOpt){\n",
       "    let outputDiv = document.currentScript.previousElementSibling;\n",
       "    if (outputDiv.id !== \"altair-viz-55cda5604b09414896050e9e971a22ba\") {\n",
       "      outputDiv = document.getElementById(\"altair-viz-55cda5604b09414896050e9e971a22ba\");\n",
       "    }\n",
       "    const paths = {\n",
       "      \"vega\": \"https://cdn.jsdelivr.net/npm//vega@5?noext\",\n",
       "      \"vega-lib\": \"https://cdn.jsdelivr.net/npm//vega-lib?noext\",\n",
       "      \"vega-lite\": \"https://cdn.jsdelivr.net/npm//vega-lite@4.8.1?noext\",\n",
       "      \"vega-embed\": \"https://cdn.jsdelivr.net/npm//vega-embed@6?noext\",\n",
       "    };\n",
       "\n",
       "    function loadScript(lib) {\n",
       "      return new Promise(function(resolve, reject) {\n",
       "        var s = document.createElement('script');\n",
       "        s.src = paths[lib];\n",
       "        s.async = true;\n",
       "        s.onload = () => resolve(paths[lib]);\n",
       "        s.onerror = () => reject(`Error loading script: ${paths[lib]}`);\n",
       "        document.getElementsByTagName(\"head\")[0].appendChild(s);\n",
       "      });\n",
       "    }\n",
       "\n",
       "    function showError(err) {\n",
       "      outputDiv.innerHTML = `<div class=\"error\" style=\"color:red;\">${err}</div>`;\n",
       "      throw err;\n",
       "    }\n",
       "\n",
       "    function displayChart(vegaEmbed) {\n",
       "      vegaEmbed(outputDiv, spec, embedOpt)\n",
       "        .catch(err => showError(`Javascript Error: ${err.message}<br>This usually means there's a typo in your chart specification. See the javascript console for the full traceback.`));\n",
       "    }\n",
       "\n",
       "    if(typeof define === \"function\" && define.amd) {\n",
       "      requirejs.config({paths});\n",
       "      require([\"vega-embed\"], displayChart, err => showError(`Error loading script: ${err.message}`));\n",
       "    } else if (typeof vegaEmbed === \"function\") {\n",
       "      displayChart(vegaEmbed);\n",
       "    } else {\n",
       "      loadScript(\"vega\")\n",
       "        .then(() => loadScript(\"vega-lite\"))\n",
       "        .then(() => loadScript(\"vega-embed\"))\n",
       "        .catch(showError)\n",
       "        .then(() => displayChart(vegaEmbed));\n",
       "    }\n",
       "  })({\"usermeta\": {\"embedOptions\": {\"theme\": \"urbaninstitute\"}}, \"config\": {\"view\": {\"continuousWidth\": 400, \"continuousHeight\": 300}}, \"data\": {\"name\": \"data-bd7f00f495b8c43ee1ed2ba1761222b4\"}, \"mark\": \"bar\", \"encoding\": {\"color\": {\"type\": \"nominal\", \"field\": \"is_mills_act\", \"title\": \"Mills Act Agency\"}, \"x\": {\"type\": \"nominal\", \"aggregate\": \"count\", \"field\": \"cross_elibility\", \"title\": \"Number of Agencies\"}, \"y\": {\"type\": \"nominal\", \"field\": \"cross_elibility\", \"title\": \"\"}}, \"title\": \"Does the Agency advertise cross eligibility?\", \"$schema\": \"https://vega.github.io/schema/vega-lite/v4.8.1.json\", \"datasets\": {\"data-bd7f00f495b8c43ee1ed2ba1761222b4\": [{\"cross_elibility\": \"No\", \"is_mills_act\": \"Not Mills Act Agency\"}, {\"cross_elibility\": \"Yes\", \"is_mills_act\": \"Not Mills Act Agency\"}, {\"cross_elibility\": \"No\", \"is_mills_act\": \"Not Mills Act Agency\"}, {\"cross_elibility\": \"No\", \"is_mills_act\": \"Not Mills Act Agency\"}, {\"cross_elibility\": \"No\", \"is_mills_act\": \"Not Mills Act Agency\"}, {\"cross_elibility\": \"No\", \"is_mills_act\": \"Not Mills Act Agency\"}, {\"cross_elibility\": \"No\", \"is_mills_act\": \"Not Mills Act Agency\"}, {\"cross_elibility\": \"No\", \"is_mills_act\": \"Not Mills Act Agency\"}, {\"cross_elibility\": \"No\", \"is_mills_act\": \"Not Mills Act Agency\"}, {\"cross_elibility\": \"No\", \"is_mills_act\": \"Not Mills Act Agency\"}, {\"cross_elibility\": \"No\", \"is_mills_act\": \"Not Mills Act Agency\"}, {\"cross_elibility\": \"No\", \"is_mills_act\": \"Not Mills Act Agency\"}, {\"cross_elibility\": \"No\", \"is_mills_act\": \"Not Mills Act Agency\"}, {\"cross_elibility\": \"No\", \"is_mills_act\": \"Not Mills Act Agency\"}, {\"cross_elibility\": \"No\", \"is_mills_act\": \"Not Mills Act Agency\"}, {\"cross_elibility\": \"No\", \"is_mills_act\": \"Not Mills Act Agency\"}, {\"cross_elibility\": \"No\", \"is_mills_act\": \"Not Mills Act Agency\"}, {\"cross_elibility\": \"No\", \"is_mills_act\": \"Not Mills Act Agency\"}, {\"cross_elibility\": \"No\", \"is_mills_act\": \"Not Mills Act Agency\"}, {\"cross_elibility\": \"No\", \"is_mills_act\": \"Not Mills Act Agency\"}, {\"cross_elibility\": \"Yes\", \"is_mills_act\": \"Not Mills Act Agency\"}, {\"cross_elibility\": \"No\", \"is_mills_act\": \"Not Mills Act Agency\"}, {\"cross_elibility\": \"No\", \"is_mills_act\": \"Not Mills Act Agency\"}, {\"cross_elibility\": \"No\", \"is_mills_act\": \"Not Mills Act Agency\"}, {\"cross_elibility\": \"No\", \"is_mills_act\": \"Not Mills Act Agency\"}, {\"cross_elibility\": \"No\", \"is_mills_act\": \"Not Mills Act Agency\"}, {\"cross_elibility\": \"No\", \"is_mills_act\": \"Not Mills Act Agency\"}, {\"cross_elibility\": \"Yes\", \"is_mills_act\": \"Mills Act Agency\"}, {\"cross_elibility\": \"Yes\", \"is_mills_act\": \"Mills Act Agency\"}, {\"cross_elibility\": \"Yes\", \"is_mills_act\": \"Mills Act Agency\"}, {\"cross_elibility\": \"No\", \"is_mills_act\": \"Mills Act Agency\"}, {\"cross_elibility\": \"No\", \"is_mills_act\": \"Mills Act Agency\"}, {\"cross_elibility\": \"Yes\", \"is_mills_act\": \"Mills Act Agency\"}, {\"cross_elibility\": \"No\", \"is_mills_act\": \"Mills Act Agency\"}, {\"cross_elibility\": \"No\", \"is_mills_act\": \"Mills Act Agency\"}, {\"cross_elibility\": \"No\", \"is_mills_act\": \"Mills Act Agency\"}, {\"cross_elibility\": \"Yes\", \"is_mills_act\": \"Mills Act Agency\"}, {\"cross_elibility\": \"Yes\", \"is_mills_act\": \"Mills Act Agency\"}, {\"cross_elibility\": \"Yes\", \"is_mills_act\": \"Mills Act Agency\"}, {\"cross_elibility\": \"No\", \"is_mills_act\": \"Mills Act Agency\"}, {\"cross_elibility\": \"No\", \"is_mills_act\": \"Mills Act Agency\"}, {\"cross_elibility\": \"Yes\", \"is_mills_act\": \"Mills Act Agency\"}, {\"cross_elibility\": \"No\", \"is_mills_act\": \"Mills Act Agency\"}, {\"cross_elibility\": \"No\", \"is_mills_act\": \"Mills Act Agency\"}, {\"cross_elibility\": \"No\", \"is_mills_act\": \"Mills Act Agency\"}, {\"cross_elibility\": \"No\", \"is_mills_act\": \"Mills Act Agency\"}, {\"cross_elibility\": \"No\", \"is_mills_act\": \"Mills Act Agency\"}, {\"cross_elibility\": \"No\", \"is_mills_act\": \"Mills Act Agency\"}, {\"cross_elibility\": \"Yes\", \"is_mills_act\": \"Mills Act Agency\"}, {\"cross_elibility\": \"No\", \"is_mills_act\": \"Mills Act Agency\"}, {\"cross_elibility\": \"Yes\", \"is_mills_act\": \"Mills Act Agency\"}, {\"cross_elibility\": \"Yes\", \"is_mills_act\": \"Mills Act Agency\"}, {\"cross_elibility\": \"No\", \"is_mills_act\": \"Mills Act Agency\"}, {\"cross_elibility\": \"No\", \"is_mills_act\": \"Mills Act Agency\"}, {\"cross_elibility\": \"No\", \"is_mills_act\": \"Mills Act Agency\"}, {\"cross_elibility\": \"No\", \"is_mills_act\": \"Mills Act Agency\"}, {\"cross_elibility\": \"Yes\", \"is_mills_act\": \"Mills Act Agency\"}, {\"cross_elibility\": \"No\", \"is_mills_act\": \"Mills Act Agency\"}, {\"cross_elibility\": \"Yes\", \"is_mills_act\": \"Mills Act Agency\"}, {\"cross_elibility\": \"Yes\", \"is_mills_act\": \"Mills Act Agency\"}, {\"cross_elibility\": \"No\", \"is_mills_act\": \"Mills Act Agency\"}, {\"cross_elibility\": \"No\", \"is_mills_act\": \"Not Mills Act Agency\"}, {\"cross_elibility\": \"Yes\", \"is_mills_act\": \"Mills Act Agency\"}, {\"cross_elibility\": \"No\", \"is_mills_act\": \"Mills Act Agency\"}, {\"cross_elibility\": \"Yes\", \"is_mills_act\": \"Mills Act Agency\"}, {\"cross_elibility\": \"No\", \"is_mills_act\": \"Mills Act Agency\"}, {\"cross_elibility\": \"No\", \"is_mills_act\": \"Mills Act Agency\"}, {\"cross_elibility\": \"Yes\", \"is_mills_act\": \"Mills Act Agency\"}, {\"cross_elibility\": \"No\", \"is_mills_act\": \"Mills Act Agency\"}, {\"cross_elibility\": \"No\", \"is_mills_act\": \"Mills Act Agency\"}, {\"cross_elibility\": \"No\", \"is_mills_act\": \"Mills Act Agency\"}, {\"cross_elibility\": \"No\", \"is_mills_act\": \"Mills Act Agency\"}, {\"cross_elibility\": \"No\", \"is_mills_act\": \"Mills Act Agency\"}, {\"cross_elibility\": \"No\", \"is_mills_act\": \"Mills Act Agency\"}, {\"cross_elibility\": \"No\", \"is_mills_act\": \"Mills Act Agency\"}, {\"cross_elibility\": \"Yes\", \"is_mills_act\": \"Mills Act Agency\"}, {\"cross_elibility\": \"No\", \"is_mills_act\": \"Mills Act Agency\"}, {\"cross_elibility\": \"Yes\", \"is_mills_act\": \"Mills Act Agency\"}, {\"cross_elibility\": \"No\", \"is_mills_act\": \"Mills Act Agency\"}, {\"cross_elibility\": \"Yes\", \"is_mills_act\": \"Mills Act Agency\"}, {\"cross_elibility\": \"Yes\", \"is_mills_act\": \"Mills Act Agency\"}, {\"cross_elibility\": \"No\", \"is_mills_act\": \"Mills Act Agency\"}, {\"cross_elibility\": \"No\", \"is_mills_act\": \"Mills Act Agency\"}, {\"cross_elibility\": \"No\", \"is_mills_act\": \"Mills Act Agency\"}, {\"cross_elibility\": \"Yes\", \"is_mills_act\": \"Mills Act Agency\"}, {\"cross_elibility\": \"No\", \"is_mills_act\": \"Mills Act Agency\"}, {\"cross_elibility\": \"Yes\", \"is_mills_act\": \"Mills Act Agency\"}, {\"cross_elibility\": \"No\", \"is_mills_act\": \"Mills Act Agency\"}, {\"cross_elibility\": \"No\", \"is_mills_act\": \"Mills Act Agency\"}, {\"cross_elibility\": \"No\", \"is_mills_act\": \"Mills Act Agency\"}, {\"cross_elibility\": \"Yes\", \"is_mills_act\": \"Mills Act Agency\"}, {\"cross_elibility\": \"Yes\", \"is_mills_act\": \"Mills Act Agency\"}, {\"cross_elibility\": \"No\", \"is_mills_act\": \"Mills Act Agency\"}, {\"cross_elibility\": \"No\", \"is_mills_act\": \"Mills Act Agency\"}, {\"cross_elibility\": \"No\", \"is_mills_act\": \"Mills Act Agency\"}, {\"cross_elibility\": \"No\", \"is_mills_act\": \"Mills Act Agency\"}, {\"cross_elibility\": \"No\", \"is_mills_act\": \"Mills Act Agency\"}, {\"cross_elibility\": \"No\", \"is_mills_act\": \"Mills Act Agency\"}, {\"cross_elibility\": \"No\", \"is_mills_act\": \"Mills Act Agency\"}, {\"cross_elibility\": \"No\", \"is_mills_act\": \"Mills Act Agency\"}, {\"cross_elibility\": \"Yes\", \"is_mills_act\": \"Mills Act Agency\"}, {\"cross_elibility\": \"No\", \"is_mills_act\": \"Mills Act Agency\"}, {\"cross_elibility\": \"No\", \"is_mills_act\": \"Mills Act Agency\"}, {\"cross_elibility\": \"No\", \"is_mills_act\": \"Mills Act Agency\"}, {\"cross_elibility\": \"No\", \"is_mills_act\": \"Mills Act Agency\"}, {\"cross_elibility\": \"Yes\", \"is_mills_act\": \"Mills Act Agency\"}, {\"cross_elibility\": \"No\", \"is_mills_act\": \"Mills Act Agency\"}, {\"cross_elibility\": \"No\", \"is_mills_act\": \"Mills Act Agency\"}, {\"cross_elibility\": \"Yes\", \"is_mills_act\": \"Mills Act Agency\"}, {\"cross_elibility\": \"No\", \"is_mills_act\": \"Mills Act Agency\"}, {\"cross_elibility\": \"No\", \"is_mills_act\": \"Mills Act Agency\"}, {\"cross_elibility\": \"No\", \"is_mills_act\": \"Mills Act Agency\"}, {\"cross_elibility\": \"Yes\", \"is_mills_act\": \"Mills Act Agency\"}, {\"cross_elibility\": \"No\", \"is_mills_act\": \"Mills Act Agency\"}, {\"cross_elibility\": \"No\", \"is_mills_act\": \"Mills Act Agency\"}, {\"cross_elibility\": \"Yes\", \"is_mills_act\": \"Mills Act Agency\"}, {\"cross_elibility\": \"No\", \"is_mills_act\": \"Mills Act Agency\"}, {\"cross_elibility\": \"No\", \"is_mills_act\": \"Mills Act Agency\"}, {\"cross_elibility\": \"No\", \"is_mills_act\": \"Mills Act Agency\"}, {\"cross_elibility\": \"Yes\", \"is_mills_act\": \"Mills Act Agency\"}, {\"cross_elibility\": \"Yes\", \"is_mills_act\": \"Mills Act Agency\"}, {\"cross_elibility\": \"No\", \"is_mills_act\": \"Mills Act Agency\"}, {\"cross_elibility\": \"No\", \"is_mills_act\": \"Mills Act Agency\"}, {\"cross_elibility\": \"Yes\", \"is_mills_act\": \"Mills Act Agency\"}, {\"cross_elibility\": \"Yes\", \"is_mills_act\": \"Mills Act Agency\"}, {\"cross_elibility\": \"No\", \"is_mills_act\": \"Mills Act Agency\"}, {\"cross_elibility\": \"No\", \"is_mills_act\": \"Mills Act Agency\"}, {\"cross_elibility\": \"No\", \"is_mills_act\": \"Mills Act Agency\"}, {\"cross_elibility\": \"Yes\", \"is_mills_act\": \"Mills Act Agency\"}, {\"cross_elibility\": \"Yes\", \"is_mills_act\": \"Mills Act Agency\"}, {\"cross_elibility\": \"No\", \"is_mills_act\": \"Mills Act Agency\"}, {\"cross_elibility\": \"Yes\", \"is_mills_act\": \"Mills Act Agency\"}, {\"cross_elibility\": \"No\", \"is_mills_act\": \"Mills Act Agency\"}, {\"cross_elibility\": \"No\", \"is_mills_act\": \"Mills Act Agency\"}, {\"cross_elibility\": \"No\", \"is_mills_act\": \"Mills Act Agency\"}, {\"cross_elibility\": \"Yes\", \"is_mills_act\": \"Mills Act Agency\"}, {\"cross_elibility\": \"Yes\", \"is_mills_act\": \"Mills Act Agency\"}, {\"cross_elibility\": \"No\", \"is_mills_act\": \"Not Mills Act Agency\"}, {\"cross_elibility\": \"Yes\", \"is_mills_act\": \"Mills Act Agency\"}, {\"cross_elibility\": \"No\", \"is_mills_act\": \"Mills Act Agency\"}, {\"cross_elibility\": \"No\", \"is_mills_act\": \"Mills Act Agency\"}, {\"cross_elibility\": \"Yes\", \"is_mills_act\": \"Mills Act Agency\"}, {\"cross_elibility\": \"Yes\", \"is_mills_act\": \"Mills Act Agency\"}, {\"cross_elibility\": \"Yes\", \"is_mills_act\": \"Mills Act Agency\"}, {\"cross_elibility\": \"No\", \"is_mills_act\": \"Mills Act Agency\"}, {\"cross_elibility\": \"No\", \"is_mills_act\": \"Mills Act Agency\"}, {\"cross_elibility\": \"No\", \"is_mills_act\": \"Mills Act Agency\"}, {\"cross_elibility\": \"Yes\", \"is_mills_act\": \"Mills Act Agency\"}, {\"cross_elibility\": \"Yes\", \"is_mills_act\": \"Mills Act Agency\"}, {\"cross_elibility\": \"Yes\", \"is_mills_act\": \"Mills Act Agency\"}, {\"cross_elibility\": \"No\", \"is_mills_act\": \"Mills Act Agency\"}, {\"cross_elibility\": \"No\", \"is_mills_act\": \"Mills Act Agency\"}, {\"cross_elibility\": \"Yes\", \"is_mills_act\": \"Mills Act Agency\"}, {\"cross_elibility\": \"Yes\", \"is_mills_act\": \"Mills Act Agency\"}, {\"cross_elibility\": \"No\", \"is_mills_act\": \"Mills Act Agency\"}, {\"cross_elibility\": \"No\", \"is_mills_act\": \"Mills Act Agency\"}, {\"cross_elibility\": \"Yes\", \"is_mills_act\": \"Mills Act Agency\"}, {\"cross_elibility\": \"No\", \"is_mills_act\": \"Mills Act Agency\"}, {\"cross_elibility\": \"No\", \"is_mills_act\": \"Mills Act Agency\"}, {\"cross_elibility\": \"No\", \"is_mills_act\": \"Mills Act Agency\"}, {\"cross_elibility\": \"No\", \"is_mills_act\": \"Mills Act Agency\"}, {\"cross_elibility\": \"Yes\", \"is_mills_act\": \"Mills Act Agency\"}, {\"cross_elibility\": \"Yes\", \"is_mills_act\": \"Mills Act Agency\"}, {\"cross_elibility\": \"Yes\", \"is_mills_act\": \"Mills Act Agency\"}, {\"cross_elibility\": \"No\", \"is_mills_act\": \"Mills Act Agency\"}, {\"cross_elibility\": \"No\", \"is_mills_act\": \"Mills Act Agency\"}, {\"cross_elibility\": \"No\", \"is_mills_act\": \"Mills Act Agency\"}, {\"cross_elibility\": \"Yes\", \"is_mills_act\": \"Mills Act Agency\"}, {\"cross_elibility\": \"No\", \"is_mills_act\": \"Mills Act Agency\"}, {\"cross_elibility\": \"Yes\", \"is_mills_act\": \"Mills Act Agency\"}, {\"cross_elibility\": \"No\", \"is_mills_act\": \"Mills Act Agency\"}, {\"cross_elibility\": \"No\", \"is_mills_act\": \"Mills Act Agency\"}, {\"cross_elibility\": \"No\", \"is_mills_act\": \"Mills Act Agency\"}, {\"cross_elibility\": \"No\", \"is_mills_act\": \"Mills Act Agency\"}, {\"cross_elibility\": \"Yes\", \"is_mills_act\": \"Mills Act Agency\"}, {\"cross_elibility\": \"No\", \"is_mills_act\": \"Mills Act Agency\"}, {\"cross_elibility\": \"No\", \"is_mills_act\": \"Mills Act Agency\"}, {\"cross_elibility\": \"No\", \"is_mills_act\": \"Mills Act Agency\"}, {\"cross_elibility\": \"Yes\", \"is_mills_act\": \"Mills Act Agency\"}, {\"cross_elibility\": \"Yes\", \"is_mills_act\": \"Mills Act Agency\"}, {\"cross_elibility\": \"No\", \"is_mills_act\": \"Mills Act Agency\"}, {\"cross_elibility\": \"Yes\", \"is_mills_act\": \"Mills Act Agency\"}, {\"cross_elibility\": \"No\", \"is_mills_act\": \"Mills Act Agency\"}, {\"cross_elibility\": \"Yes\", \"is_mills_act\": \"Mills Act Agency\"}, {\"cross_elibility\": \"Yes\", \"is_mills_act\": \"Mills Act Agency\"}, {\"cross_elibility\": \"Yes\", \"is_mills_act\": \"Mills Act Agency\"}, {\"cross_elibility\": \"No\", \"is_mills_act\": \"Mills Act Agency\"}, {\"cross_elibility\": \"Yes\", \"is_mills_act\": \"Mills Act Agency\"}, {\"cross_elibility\": \"No\", \"is_mills_act\": \"Not Mills Act Agency\"}, {\"cross_elibility\": \"No\", \"is_mills_act\": \"Mills Act Agency\"}, {\"cross_elibility\": \"No\", \"is_mills_act\": \"Mills Act Agency\"}, {\"cross_elibility\": \"No\", \"is_mills_act\": \"Mills Act Agency\"}, {\"cross_elibility\": \"Yes\", \"is_mills_act\": \"Not Mills Act Agency\"}, {\"cross_elibility\": \"Yes\", \"is_mills_act\": \"Mills Act Agency\"}, {\"cross_elibility\": \"No\", \"is_mills_act\": \"Not Mills Act Agency\"}, {\"cross_elibility\": \"Yes\", \"is_mills_act\": \"Not Mills Act Agency\"}, {\"cross_elibility\": \"No\", \"is_mills_act\": \"Not Mills Act Agency\"}, {\"cross_elibility\": \"No\", \"is_mills_act\": \"Not Mills Act Agency\"}, {\"cross_elibility\": \"No\", \"is_mills_act\": \"Not Mills Act Agency\"}, {\"cross_elibility\": \"No\", \"is_mills_act\": \"Not Mills Act Agency\"}, {\"cross_elibility\": \"No\", \"is_mills_act\": \"Not Mills Act Agency\"}, {\"cross_elibility\": \"No\", \"is_mills_act\": \"Not Mills Act Agency\"}]}}, {\"mode\": \"vega-lite\"});\n",
       "</script>"
      ],
      "text/plain": [
       "alt.Chart(...)"
      ]
     },
     "execution_count": 64,
     "metadata": {},
     "output_type": "execute_result"
    }
   ],
   "source": [
    "src = df.fillna(False).replace({True: 'Yes', False: 'No'}).assign(is_mills_act=df.fillna(False).is_mills_act.replace({True: 'Mills Act Agency', False:\"Not Mills Act Agency\"}))[['cross_elibility', 'is_mills_act']]\n",
    "alt.Chart(src).mark_bar().encode(\n",
    "    alt.Y('cross_elibility', title=''),\n",
    "    alt.X('count(cross_elibility)',title=\"Number of Agencies\"),\n",
    "    color=alt.Color('is_mills_act', title='Mills Act Agency')\n",
    ").properties(\n",
    "    title='Does the Agency advertise cross eligibility?',\n",
    ")"
   ]
  },
  {
   "cell_type": "markdown",
   "metadata": {},
   "source": [
    "As you can see, a minority of agencies are advertising cross-eligibility on their web / public site. "
   ]
  },
  {
   "cell_type": "code",
   "execution_count": null,
   "metadata": {},
   "outputs": [],
   "source": []
  }
 ],
 "metadata": {
  "kernelspec": {
   "display_name": "Python 3",
   "language": "python",
   "name": "python3"
  },
  "language_info": {
   "codemirror_mode": {
    "name": "ipython",
    "version": 3
   },
   "file_extension": ".py",
   "mimetype": "text/x-python",
   "name": "python",
   "nbconvert_exporter": "python",
   "pygments_lexer": "ipython3",
   "version": "3.7.9"
  }
 },
 "nbformat": 4,
 "nbformat_minor": 4
}
